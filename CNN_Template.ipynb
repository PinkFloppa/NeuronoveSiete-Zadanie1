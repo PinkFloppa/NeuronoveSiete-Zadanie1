{
 "cells": [
  {
   "cell_type": "markdown",
   "id": "fdffeb08",
   "metadata": {},
   "source": [
    "## Dependencies"
   ]
  },
  {
   "cell_type": "code",
   "execution_count": 15,
   "id": "2df67f01",
   "metadata": {},
   "outputs": [
    {
     "name": "stdout",
     "output_type": "stream",
     "text": [
      "The tensorboard extension is already loaded. To reload it, use:\n",
      "  %reload_ext tensorboard\n"
     ]
    }
   ],
   "source": [
    "%load_ext tensorboard"
   ]
  },
  {
   "cell_type": "code",
   "execution_count": 16,
   "id": "0e361a51",
   "metadata": {},
   "outputs": [],
   "source": [
    "import os\n",
    "import numpy as np\n",
    "from ipynb.fs.full.Dataset_Construction_Isolated import construct_dataset\n",
    "import matplotlib.pyplot as plt\n",
    "import matplotlib.image as plt_img\n",
    "\n",
    "import tensorflow as tf\n",
    "from tensorflow.keras import layers, models, datasets\n",
    "import datetime\n",
    "\n",
    "from zipfile import ZipFile "
   ]
  },
  {
   "cell_type": "markdown",
   "id": "57f42f0e",
   "metadata": {},
   "source": [
    "## Parameters"
   ]
  },
  {
   "cell_type": "code",
   "execution_count": 17,
   "id": "91734701",
   "metadata": {},
   "outputs": [],
   "source": [
    "name = \"TestCNN\"\n",
    "epochs = 5\n",
    "steps = 50\n",
    "batch = 40"
   ]
  },
  {
   "cell_type": "markdown",
   "id": "02afe754",
   "metadata": {},
   "source": [
    "## Making directory for CNN"
   ]
  },
  {
   "cell_type": "code",
   "execution_count": 19,
   "id": "cef17ae1",
   "metadata": {},
   "outputs": [],
   "source": [
    "try:\n",
    "    os.mkdir(\"CNN/\" + name)\n",
    "except:\n",
    "    pass\n",
    "\n",
    "try:\n",
    "    os.mkdir(\"CNN/\" + name + \"/Tensorboard_Data\")\n",
    "except:\n",
    "    pass"
   ]
  },
  {
   "cell_type": "markdown",
   "id": "362c5567",
   "metadata": {},
   "source": [
    "## Load constructed dataset"
   ]
  },
  {
   "cell_type": "code",
   "execution_count": 20,
   "id": "a61a37d3",
   "metadata": {},
   "outputs": [
    {
     "name": "stdout",
     "output_type": "stream",
     "text": [
      "Dataset files found, loading...\n",
      "Done\n"
     ]
    }
   ],
   "source": [
    "lst = os.listdir() \n",
    "if (\"mushroom_dataset_x.npy\" not in lst) or (\"mushroom_dataset_y.npy\" not in lst):\n",
    "    print(\"Dataset files not found, contructing...\")\n",
    "    dataset_x, dataset_y = construct_dataset()\n",
    "else:\n",
    "    print(\"Dataset files found, loading...\")\n",
    "    dataset_x = np.load(\"mushroom_dataset_x.npy\")\n",
    "    dataset_y = np.load(\"mushroom_dataset_y.npy\")\n",
    "    print(\"Done\")"
   ]
  },
  {
   "cell_type": "markdown",
   "id": "5c7ac242",
   "metadata": {},
   "source": [
    "## CNN Training"
   ]
  },
  {
   "cell_type": "code",
   "execution_count": 21,
   "id": "dd16c847",
   "metadata": {},
   "outputs": [],
   "source": [
    "cnn = models.Sequential([\n",
    "    tf.keras.Input(shape=(227, 227, 3), batch_size=batch),\n",
    "    layers.Conv2D(filters=32, kernel_size=(3, 3), activation=\"relu\"),\n",
    "    layers.MaxPooling2D((2,2)),\n",
    "    \n",
    "    layers.Conv2D(filters=32, kernel_size=(3, 3), activation=\"relu\"),\n",
    "    layers.MaxPooling2D((2,2)),\n",
    "    \n",
    "    layers.Flatten(),\n",
    "    layers.Dense(64, activation=\"relu\"),\n",
    "    layers.Dense(1, activation=\"sigmoid\")\n",
    "])\n",
    "\n",
    "cnn.compile(optimizer=\"adam\", loss=\"binary_crossentropy\",  metrics=[\"accuracy\"])\n",
    "\n",
    "log_dir = \"logs/fit/\" + datetime.datetime.now().strftime(\"%Y%m%d-%H%M%S\")\n",
    "tensorboard_callback = tf.keras.callbacks.TensorBoard(log_dir=log_dir, update_freq='batch')"
   ]
  },
  {
   "cell_type": "code",
   "execution_count": 22,
   "id": "6febe51e",
   "metadata": {},
   "outputs": [
    {
     "name": "stdout",
     "output_type": "stream",
     "text": [
      "Epoch 1/5\n",
      "\u001b[1m50/50\u001b[0m \u001b[32m━━━━━━━━━━━━━━━━━━━━\u001b[0m\u001b[37m\u001b[0m \u001b[1m24s\u001b[0m 410ms/step - accuracy: 0.8024 - loss: 0.6324 - val_accuracy: 0.0000e+00 - val_loss: 1.3666\n",
      "Epoch 2/5\n",
      "\u001b[1m50/50\u001b[0m \u001b[32m━━━━━━━━━━━━━━━━━━━━\u001b[0m\u001b[37m\u001b[0m \u001b[1m20s\u001b[0m 395ms/step - accuracy: 0.8246 - loss: 0.3487 - val_accuracy: 0.0100 - val_loss: 1.9412\n",
      "Epoch 3/5\n",
      "\u001b[1m50/50\u001b[0m \u001b[32m━━━━━━━━━━━━━━━━━━━━\u001b[0m\u001b[37m\u001b[0m \u001b[1m20s\u001b[0m 394ms/step - accuracy: 0.8538 - loss: 0.2889 - val_accuracy: 0.0750 - val_loss: 1.4927\n",
      "Epoch 4/5\n",
      "\u001b[1m50/50\u001b[0m \u001b[32m━━━━━━━━━━━━━━━━━━━━\u001b[0m\u001b[37m\u001b[0m \u001b[1m20s\u001b[0m 393ms/step - accuracy: 0.9113 - loss: 0.2265 - val_accuracy: 0.0800 - val_loss: 2.0317\n",
      "Epoch 5/5\n",
      "\u001b[1m50/50\u001b[0m \u001b[32m━━━━━━━━━━━━━━━━━━━━\u001b[0m\u001b[37m\u001b[0m \u001b[1m20s\u001b[0m 398ms/step - accuracy: 0.9530 - loss: 0.1364 - val_accuracy: 0.2800 - val_loss: 2.5194\n"
     ]
    }
   ],
   "source": [
    "history = cnn.fit(dataset_x, \n",
    "                  dataset_y, validation_split=0.1, epochs=epochs, steps_per_epoch=steps, callbacks=[tensorboard_callback])"
   ]
  },
  {
   "cell_type": "markdown",
   "id": "aa99d76a",
   "metadata": {},
   "source": [
    "## Open Tensorboard"
   ]
  },
  {
   "cell_type": "code",
   "execution_count": null,
   "id": "42e465e8",
   "metadata": {},
   "outputs": [],
   "source": [
    "%tensorboard --logdir=\"logs/\" --host=127.0.0.1 "
   ]
  },
  {
   "cell_type": "markdown",
   "id": "37f6525b",
   "metadata": {},
   "source": [
    "## CNN Evaluation"
   ]
  },
  {
   "cell_type": "markdown",
   "id": "3fb813a3",
   "metadata": {},
   "source": [
    "### Load final dataset"
   ]
  },
  {
   "cell_type": "code",
   "execution_count": 30,
   "id": "a3c07de4",
   "metadata": {},
   "outputs": [
    {
     "name": "stdout",
     "output_type": "stream",
     "text": [
      "Loading train_x...\n",
      "Done\n",
      "Loading train_y...\n",
      "Done\n",
      "Loading test_x...\n",
      "Done\n",
      "Loading test_y...\n",
      "Done\n"
     ]
    }
   ],
   "source": [
    "if \"FinalTrainTestSet\" not in os.listdir():\n",
    "        print(\"Unzipping final dataset...\")\n",
    "        with ZipFile(\"FinalTrainTestSet.zip\", 'r') as zObject: \n",
    "            zObject.extractall(path=\"FinalTrainTestSet\")\n",
    "        print(\"Done\")\n",
    "        \n",
    "print(\"Loading train_x...\")\n",
    "ftrain_x = np.load(\"FinalTrainTestSet/train_x.npy\")\n",
    "print(\"Done\")\n",
    "\n",
    "print(\"Loading train_y...\")\n",
    "ftrain_y = np.load(\"FinalTrainTestSet/train_y.npy\")\n",
    "print(\"Done\")\n",
    "\n",
    "print(\"Loading test_x...\")\n",
    "ftest_x = np.load(\"FinalTrainTestSet/test_x.npy\")\n",
    "print(\"Done\")\n",
    "\n",
    "print(\"Loading test_y...\")\n",
    "ftest_y = np.load(\"FinalTrainTestSet/test_y.npy\")\n",
    "print(\"Done\")"
   ]
  },
  {
   "cell_type": "markdown",
   "id": "ff2653fe",
   "metadata": {},
   "source": [
    "## Train model"
   ]
  },
  {
   "cell_type": "code",
   "execution_count": null,
   "id": "1dac53ad",
   "metadata": {},
   "outputs": [],
   "source": [
    "cnn = models.Sequential([\n",
    "    tf.keras.Input(shape=(227, 227, 3), batch_size=batch),\n",
    "    layers.Conv2D(filters=32, kernel_size=(3, 3), activation=\"relu\"),\n",
    "    layers.MaxPooling2D((2,2)),\n",
    "    \n",
    "    layers.Conv2D(filters=32, kernel_size=(3, 3), activation=\"relu\"),\n",
    "    layers.MaxPooling2D((2,2)),\n",
    "    \n",
    "    layers.Flatten(),\n",
    "    layers.Dense(64, activation=\"relu\"),\n",
    "    layers.Dense(1, activation=\"sigmoid\")\n",
    "])\n",
    "\n",
    "log_dir = \"logs/fit/\" + name + \"Final\"\n",
    "tensorboard_callback = tf.keras.callbacks.TensorBoard(log_dir=log_dir, update_freq='epoch')\n",
    "\n",
    "cnn.compile(optimizer=\"adam\", loss=\"binary_crossentropy\",  metrics=[\"accuracy\"])\n",
    "cnn.fit(ftrain_x, ftrain_y, epochs=epochs, steps_per_epoch=steps, callbacks=[tensorboard_callback])\n",
    "\n",
    "#cnn.save(\"CNN/\" + name + \"/\" + name + \".keras\")"
   ]
  },
  {
   "cell_type": "markdown",
   "id": "316401fd",
   "metadata": {},
   "source": [
    "## Open Tensorboard for train time"
   ]
  },
  {
   "cell_type": "code",
   "execution_count": null,
   "id": "f9ffd8a5",
   "metadata": {},
   "outputs": [],
   "source": [
    "%tensorboard --logdir=\"logs/\" --host=127.0.0.1 "
   ]
  },
  {
   "cell_type": "markdown",
   "id": "b82a6bf1",
   "metadata": {},
   "source": [
    "## Generate prediction set"
   ]
  },
  {
   "cell_type": "code",
   "execution_count": 40,
   "id": "527bab2a",
   "metadata": {},
   "outputs": [],
   "source": [
    "pred_y = np.empty([200, 1])\n",
    "meta = np.empty([1, 227, 227, 3])\n",
    "\n",
    "for i in range(0, ftest_x.shape[0]):\n",
    "    meta[0] = ftest_x[i]\n",
    "    pred_value = cnn.predict(meta, verbose=0)[0][0]\n",
    "    \n",
    "    if pred_value > 0.5:\n",
    "        pred = 1\n",
    "    else:\n",
    "        pred = 0\n",
    "        \n",
    "    pred_y[i] = pred"
   ]
  },
  {
   "cell_type": "markdown",
   "id": "10f5ff4c",
   "metadata": {},
   "source": [
    "## Graph confusion matrix"
   ]
  },
  {
   "cell_type": "code",
   "execution_count": 43,
   "id": "5d2b22a3",
   "metadata": {},
   "outputs": [
    {
     "data": {
      "image/png": "[encoded data removed]",
      "text/plain": [
       "<Figure size 640x480 with 2 Axes>"
      ]
     },
     "metadata": {},
     "output_type": "display_data"
    }
   ],
   "source": [
    "from sklearn.metrics import confusion_matrix, ConfusionMatrixDisplay, classification_report\n",
    "\n",
    "cm = confusion_matrix(ftest_y, pred_y)\n",
    "disp = ConfusionMatrixDisplay(confusion_matrix = cm, display_labels=[\"Edible\", \"Poisonous\"])\n",
    "disp.plot(cmap=plt.cm.Blues).figure_.savefig(\"CNN/\" + name + \"/\" + name + \"_ConfustionMatrix.svg\")"
   ]
  },
  {
   "cell_type": "markdown",
   "id": "2fa1441b",
   "metadata": {},
   "source": [
    "## CNN Metrics"
   ]
  },
  {
   "cell_type": "code",
   "execution_count": 58,
   "id": "db3219e3",
   "metadata": {},
   "outputs": [
    {
     "name": "stdout",
     "output_type": "stream",
     "text": [
      "TestCNN:\n",
      "Accuracy  92.00 %\n",
      "Precision 98.72 %\n",
      "Recall    91.67 %\n",
      "F1        95.06 %\n"
     ]
    }
   ],
   "source": [
    "tp = cm[0][0]\n",
    "fp = cm[0][1]\n",
    "fn = cm[1][0]\n",
    "tn = cm[1][1]\n",
    "\n",
    "accuracy = (tp + tn) / (tp + tn + fn + fp)\n",
    "precision = tp / (tp + fp)\n",
    "recall = tp / (tp + fn)\n",
    "f1 = (precision *  recall) / (precision + recall)\n",
    "f1 *= 2\n",
    "\n",
    "print(name + \":\")\n",
    "print(\"Accuracy  {:0.2f} %\".format(accuracy * 100))\n",
    "print(\"Precision {:0.2f} %\".format(precision * 100))\n",
    "print(\"Recall    {:0.2f} %\".format(recall * 100))\n",
    "print(\"F1        {:0.2f} %\".format(f1 * 100))"
   ]
  }
 ],
 "metadata": {
  "kernelspec": {
   "display_name": "Python 3 (ipykernel)",
   "language": "python",
   "name": "python3"
  },
  "language_info": {
   "codemirror_mode": {
    "name": "ipython",
    "version": 3
   },
   "file_extension": ".py",
   "mimetype": "text/x-python",
   "name": "python",
   "nbconvert_exporter": "python",
   "pygments_lexer": "ipython3",
   "version": "3.11.5"
  }
 },
 "nbformat": 4,
 "nbformat_minor": 5
}
