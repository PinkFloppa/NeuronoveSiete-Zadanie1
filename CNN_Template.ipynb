{
 "cells": [
  {
   "cell_type": "markdown",
   "id": "fdffeb08",
   "metadata": {},
   "source": [
    "## Dependencies"
   ]
  },
  {
   "cell_type": "code",
   "execution_count": 3,
   "id": "2df67f01",
   "metadata": {},
   "outputs": [],
   "source": [
    "%load_ext tensorboard"
   ]
  },
  {
   "cell_type": "code",
   "execution_count": 2,
   "id": "0e361a51",
   "metadata": {},
   "outputs": [
    {
     "name": "stderr",
     "output_type": "stream",
     "text": [
      "2025-03-02 14:06:01.919909: E external/local_xla/xla/stream_executor/cuda/cuda_fft.cc:477] Unable to register cuFFT factory: Attempting to register factory for plugin cuFFT when one has already been registered\n",
      "WARNING: All log messages before absl::InitializeLog() is called are written to STDERR\n",
      "E0000 00:00:1740920761.959277   12103 cuda_dnn.cc:8310] Unable to register cuDNN factory: Attempting to register factory for plugin cuDNN when one has already been registered\n",
      "E0000 00:00:1740920761.971252   12103 cuda_blas.cc:1418] Unable to register cuBLAS factory: Attempting to register factory for plugin cuBLAS when one has already been registered\n",
      "2025-03-02 14:06:02.024889: I tensorflow/core/platform/cpu_feature_guard.cc:210] This TensorFlow binary is optimized to use available CPU instructions in performance-critical operations.\n",
      "To enable the following instructions: AVX2 FMA, in other operations, rebuild TensorFlow with the appropriate compiler flags.\n"
     ]
    }
   ],
   "source": [
    "import os\n",
    "import numpy as np\n",
    "from sklearn.model_selection import KFold\n",
    "from ipynb.fs.full.Dataset_Construction_Isolated import construct_dataset\n",
    "import matplotlib.pyplot as plt\n",
    "import matplotlib.image as plt_img\n",
    "\n",
    "import tensorflow as tf\n",
    "from tensorflow.keras import layers, models, datasets\n",
    "import datetime\n",
    "\n",
    "from zipfile import ZipFile "
   ]
  },
  {
   "cell_type": "markdown",
   "id": "a9c78cb5-a05c-4720-a9e9-b8e8109719c5",
   "metadata": {},
   "source": [
    "## GPU Check"
   ]
  },
  {
   "cell_type": "code",
   "execution_count": 3,
   "id": "3e0ea8f1-02f4-48be-abe0-4eb36c527bbc",
   "metadata": {},
   "outputs": [
    {
     "data": {
      "text/plain": [
       "[PhysicalDevice(name='/physical_device:GPU:0', device_type='GPU')]"
      ]
     },
     "execution_count": 3,
     "metadata": {},
     "output_type": "execute_result"
    }
   ],
   "source": [
    "tf.config.list_physical_devices(\"GPU\")"
   ]
  },
  {
   "cell_type": "markdown",
   "id": "57f42f0e",
   "metadata": {},
   "source": [
    "## Parameters"
   ]
  },
  {
   "cell_type": "code",
   "execution_count": 8,
   "id": "91734701",
   "metadata": {},
   "outputs": [],
   "source": [
    "name = \"TestCNN\"\n",
    "epochs = 10\n",
    "steps = 50\n",
    "batch = 40"
   ]
  },
  {
   "cell_type": "markdown",
   "id": "02afe754",
   "metadata": {},
   "source": [
    "## Making directory for CNN"
   ]
  },
  {
   "cell_type": "code",
   "execution_count": 5,
   "id": "cef17ae1",
   "metadata": {},
   "outputs": [],
   "source": [
    "try:\n",
    "    os.mkdir(\"CNN/\" + name)\n",
    "except:\n",
    "    pass\n",
    "\n",
    "try:\n",
    "    os.mkdir(\"CNN/\" + name + \"/Tensorboard_Data\")\n",
    "except:\n",
    "    pass"
   ]
  },
  {
   "cell_type": "markdown",
   "id": "362c5567",
   "metadata": {},
   "source": [
    "## Load constructed dataset"
   ]
  },
  {
   "cell_type": "code",
   "execution_count": 6,
   "id": "a61a37d3",
   "metadata": {},
   "outputs": [
    {
     "name": "stdout",
     "output_type": "stream",
     "text": [
      "Dataset files found, loading...\n",
      "Done\n"
     ]
    }
   ],
   "source": [
    "lst = os.listdir() \n",
    "if (\"mushroom_dataset_x.npy\" not in lst) or (\"mushroom_dataset_y.npy\" not in lst):\n",
    "    print(\"Dataset files not found, contructing...\")\n",
    "    dataset_x, dataset_y = construct_dataset()\n",
    "else:\n",
    "    print(\"Dataset files found, loading...\")\n",
    "    dataset_x = np.load(\"mushroom_dataset_x.npy\")\n",
    "    dataset_y = np.load(\"mushroom_dataset_y.npy\")\n",
    "    print(\"Done\")"
   ]
  },
  {
   "cell_type": "markdown",
   "id": "5c7ac242",
   "metadata": {},
   "source": [
    "## CNN Training"
   ]
  },
  {
   "cell_type": "markdown",
   "id": "25fc70c2-3181-48a5-ae02-e5117c0ac625",
   "metadata": {},
   "source": [
    "### Create model"
   ]
  },
  {
   "cell_type": "code",
   "execution_count": 7,
   "id": "2cc71af7-adfb-41c3-9955-bd65488e3fab",
   "metadata": {},
   "outputs": [
    {
     "name": "stderr",
     "output_type": "stream",
     "text": [
      "I0000 00:00:1740920791.230217   12103 gpu_device.cc:2022] Created device /job:localhost/replica:0/task:0/device:GPU:0 with 5564 MB memory:  -> device: 0, name: NVIDIA GeForce RTX 3070, pci bus id: 0000:01:00.0, compute capability: 8.6\n"
     ]
    }
   ],
   "source": [
    "cnn = models.Sequential([\n",
    "    tf.keras.Input(shape=(227, 227, 3), batch_size=batch),\n",
    "    layers.Conv2D(filters=32, kernel_size=(3, 3), activation=\"relu\"),\n",
    "    layers.MaxPooling2D((2,2)),\n",
    "    \n",
    "    layers.Conv2D(filters=32, kernel_size=(3, 3), activation=\"relu\"),\n",
    "    layers.MaxPooling2D((2,2)),\n",
    "    \n",
    "    layers.Flatten(),\n",
    "    layers.Dense(64, activation=\"relu\"),\n",
    "    layers.Dense(1, activation=\"sigmoid\")\n",
    "    ])\n",
    "    \n",
    "cnn.compile(optimizer=\"adam\", loss=\"binary_crossentropy\",  metrics=[\"accuracy\"])\n",
    "cnn.save_weights(\"CNN/\" + name + \"/default_weights.weights.h5\")"
   ]
  },
  {
   "cell_type": "markdown",
   "id": "cca17ca2-0cb7-4056-bee1-1a9cfb9b6562",
   "metadata": {},
   "source": [
    "### Train Model with n folds"
   ]
  },
  {
   "cell_type": "code",
   "execution_count": 9,
   "id": "d4449c6b-91d1-4155-a953-0a42c9289f79",
   "metadata": {},
   "outputs": [
    {
     "name": "stderr",
     "output_type": "stream",
     "text": [
      "2025-03-02 14:06:51.272041: W external/local_xla/xla/tsl/framework/cpu_allocator_impl.cc:83] Allocation of 1113026400 exceeds 10% of free system memory.\n",
      "2025-03-02 14:06:51.938080: W external/local_xla/xla/tsl/framework/cpu_allocator_impl.cc:83] Allocation of 1113026400 exceeds 10% of free system memory.\n"
     ]
    },
    {
     "name": "stdout",
     "output_type": "stream",
     "text": [
      "Epoch 1/10\n"
     ]
    },
    {
     "name": "stderr",
     "output_type": "stream",
     "text": [
      "WARNING: All log messages before absl::InitializeLog() is called are written to STDERR\n",
      "I0000 00:00:1740920813.773787   12200 service.cc:148] XLA service 0x7fdb24004e90 initialized for platform CUDA (this does not guarantee that XLA will be used). Devices:\n",
      "I0000 00:00:1740920813.774145   12200 service.cc:156]   StreamExecutor device (0): NVIDIA GeForce RTX 3070, Compute Capability 8.6\n",
      "2025-03-02 14:06:53.807974: I tensorflow/compiler/mlir/tensorflow/utils/dump_mlir_util.cc:268] disabling MLIR crash reproducer, set env var `MLIR_CRASH_REPRODUCER_DIRECTORY` to enable.\n",
      "I0000 00:00:1740920814.080923   12200 cuda_dnn.cc:529] Loaded cuDNN version 90300\n"
     ]
    },
    {
     "name": "stdout",
     "output_type": "stream",
     "text": [
      "\u001b[1m 5/50\u001b[0m \u001b[32m━━\u001b[0m\u001b[37m━━━━━━━━━━━━━━━━━━\u001b[0m \u001b[1m1s\u001b[0m 27ms/step - accuracy: 0.5058 - loss: 1.5495"
     ]
    },
    {
     "name": "stderr",
     "output_type": "stream",
     "text": [
      "I0000 00:00:1740920817.101610   12200 device_compiler.h:188] Compiled cluster using XLA!  This line is logged at most once for the lifetime of the process.\n"
     ]
    },
    {
     "name": "stdout",
     "output_type": "stream",
     "text": [
      "\u001b[1m50/50\u001b[0m \u001b[32m━━━━━━━━━━━━━━━━━━━━\u001b[0m\u001b[37m\u001b[0m \u001b[1m7s\u001b[0m 47ms/step - accuracy: 0.6805 - loss: 0.9143 - val_accuracy: 0.7600 - val_loss: 0.4963\n",
      "Epoch 2/10\n",
      "\u001b[1m50/50\u001b[0m \u001b[32m━━━━━━━━━━━━━━━━━━━━\u001b[0m\u001b[37m\u001b[0m \u001b[1m1s\u001b[0m 25ms/step - accuracy: 0.7724 - loss: 0.4440 - val_accuracy: 0.8500 - val_loss: 0.4088\n",
      "Epoch 3/10\n",
      "\u001b[1m50/50\u001b[0m \u001b[32m━━━━━━━━━━━━━━━━━━━━\u001b[0m\u001b[37m\u001b[0m \u001b[1m1s\u001b[0m 25ms/step - accuracy: 0.8649 - loss: 0.3204 - val_accuracy: 0.8500 - val_loss: 0.3375\n",
      "Epoch 4/10\n",
      "\u001b[1m50/50\u001b[0m \u001b[32m━━━━━━━━━━━━━━━━━━━━\u001b[0m\u001b[37m\u001b[0m \u001b[1m1s\u001b[0m 25ms/step - accuracy: 0.9220 - loss: 0.2064 - val_accuracy: 0.8850 - val_loss: 0.2771\n",
      "Epoch 5/10\n",
      "\u001b[1m50/50\u001b[0m \u001b[32m━━━━━━━━━━━━━━━━━━━━\u001b[0m\u001b[37m\u001b[0m \u001b[1m1s\u001b[0m 25ms/step - accuracy: 0.9316 - loss: 0.1481 - val_accuracy: 0.9250 - val_loss: 0.1921\n",
      "Epoch 6/10\n",
      "\u001b[1m50/50\u001b[0m \u001b[32m━━━━━━━━━━━━━━━━━━━━\u001b[0m\u001b[37m\u001b[0m \u001b[1m1s\u001b[0m 25ms/step - accuracy: 0.9676 - loss: 0.1037 - val_accuracy: 0.9150 - val_loss: 0.2415\n",
      "Epoch 7/10\n",
      "\u001b[1m50/50\u001b[0m \u001b[32m━━━━━━━━━━━━━━━━━━━━\u001b[0m\u001b[37m\u001b[0m \u001b[1m1s\u001b[0m 26ms/step - accuracy: 0.9738 - loss: 0.0799 - val_accuracy: 0.9300 - val_loss: 0.2461\n",
      "Epoch 8/10\n",
      "\u001b[1m50/50\u001b[0m \u001b[32m━━━━━━━━━━━━━━━━━━━━\u001b[0m\u001b[37m\u001b[0m \u001b[1m1s\u001b[0m 27ms/step - accuracy: 0.9772 - loss: 0.0546 - val_accuracy: 0.9350 - val_loss: 0.1811\n",
      "Epoch 9/10\n",
      "\u001b[1m50/50\u001b[0m \u001b[32m━━━━━━━━━━━━━━━━━━━━\u001b[0m\u001b[37m\u001b[0m \u001b[1m1s\u001b[0m 28ms/step - accuracy: 0.9914 - loss: 0.0379 - val_accuracy: 0.9250 - val_loss: 0.2186\n",
      "Epoch 10/10\n",
      "\u001b[1m50/50\u001b[0m \u001b[32m━━━━━━━━━━━━━━━━━━━━\u001b[0m\u001b[37m\u001b[0m \u001b[1m1s\u001b[0m 11ms/step - accuracy: 0.9907 - loss: 0.0365 - val_accuracy: 0.9550 - val_loss: 0.1696\n",
      "K = 0\n",
      "Accuracy  98.72 %\n"
     ]
    },
    {
     "name": "stderr",
     "output_type": "stream",
     "text": [
      "/home/willoghby/miniconda3/envs/tf/lib/python3.9/site-packages/keras/src/saving/saving_lib.py:757: UserWarning: Skipping variable loading for optimizer 'adam', because it has 18 variables whereas the saved optimizer has 2 variables. \n",
      "  saveable.load_own_variables(weights_store.get(inner_path))\n",
      "2025-03-02 14:07:11.918321: W external/local_xla/xla/tsl/framework/cpu_allocator_impl.cc:83] Allocation of 1113026400 exceeds 10% of free system memory.\n",
      "2025-03-02 14:07:12.481819: W external/local_xla/xla/tsl/framework/cpu_allocator_impl.cc:83] Allocation of 1113026400 exceeds 10% of free system memory.\n"
     ]
    },
    {
     "name": "stdout",
     "output_type": "stream",
     "text": [
      "Epoch 1/10\n",
      "\u001b[1m50/50\u001b[0m \u001b[32m━━━━━━━━━━━━━━━━━━━━\u001b[0m\u001b[37m\u001b[0m \u001b[1m2s\u001b[0m 30ms/step - accuracy: 0.6302 - loss: 0.9563 - val_accuracy: 0.7500 - val_loss: 0.4873\n",
      "Epoch 2/10\n",
      "\u001b[1m50/50\u001b[0m \u001b[32m━━━━━━━━━━━━━━━━━━━━\u001b[0m\u001b[37m\u001b[0m \u001b[1m1s\u001b[0m 25ms/step - accuracy: 0.7854 - loss: 0.4620 - val_accuracy: 0.8150 - val_loss: 0.4027\n",
      "Epoch 3/10\n",
      "\u001b[1m50/50\u001b[0m \u001b[32m━━━━━━━━━━━━━━━━━━━━\u001b[0m\u001b[37m\u001b[0m \u001b[1m1s\u001b[0m 25ms/step - accuracy: 0.8439 - loss: 0.3298 - val_accuracy: 0.8200 - val_loss: 0.3886\n",
      "Epoch 4/10\n",
      "\u001b[1m50/50\u001b[0m \u001b[32m━━━━━━━━━━━━━━━━━━━━\u001b[0m\u001b[37m\u001b[0m \u001b[1m1s\u001b[0m 25ms/step - accuracy: 0.9246 - loss: 0.2045 - val_accuracy: 0.7850 - val_loss: 0.3856\n",
      "Epoch 5/10\n",
      "\u001b[1m50/50\u001b[0m \u001b[32m━━━━━━━━━━━━━━━━━━━━\u001b[0m\u001b[37m\u001b[0m \u001b[1m1s\u001b[0m 29ms/step - accuracy: 0.9270 - loss: 0.1919 - val_accuracy: 0.8800 - val_loss: 0.3281\n",
      "Epoch 6/10\n",
      "\u001b[1m50/50\u001b[0m \u001b[32m━━━━━━━━━━━━━━━━━━━━\u001b[0m\u001b[37m\u001b[0m \u001b[1m1s\u001b[0m 29ms/step - accuracy: 0.9564 - loss: 0.1086 - val_accuracy: 0.8700 - val_loss: 0.4013\n",
      "Epoch 7/10\n",
      "\u001b[1m50/50\u001b[0m \u001b[32m━━━━━━━━━━━━━━━━━━━━\u001b[0m\u001b[37m\u001b[0m \u001b[1m2s\u001b[0m 29ms/step - accuracy: 0.9710 - loss: 0.0750 - val_accuracy: 0.8700 - val_loss: 0.3072\n",
      "Epoch 8/10\n",
      "\u001b[1m50/50\u001b[0m \u001b[32m━━━━━━━━━━━━━━━━━━━━\u001b[0m\u001b[37m\u001b[0m \u001b[1m1s\u001b[0m 27ms/step - accuracy: 0.9781 - loss: 0.0561 - val_accuracy: 0.8900 - val_loss: 0.3734\n",
      "Epoch 9/10\n",
      "\u001b[1m50/50\u001b[0m \u001b[32m━━━━━━━━━━━━━━━━━━━━\u001b[0m\u001b[37m\u001b[0m \u001b[1m1s\u001b[0m 25ms/step - accuracy: 0.9804 - loss: 0.0562 - val_accuracy: 0.8850 - val_loss: 0.4753\n",
      "Epoch 10/10\n",
      "\u001b[1m50/50\u001b[0m \u001b[32m━━━━━━━━━━━━━━━━━━━━\u001b[0m\u001b[37m\u001b[0m \u001b[1m1s\u001b[0m 25ms/step - accuracy: 0.9860 - loss: 0.0385 - val_accuracy: 0.9050 - val_loss: 0.3633\n",
      "K = 1\n",
      "Accuracy  98.83 %\n"
     ]
    },
    {
     "name": "stderr",
     "output_type": "stream",
     "text": [
      "2025-03-02 14:07:28.261324: W external/local_xla/xla/tsl/framework/cpu_allocator_impl.cc:83] Allocation of 1113026400 exceeds 10% of free system memory.\n"
     ]
    },
    {
     "name": "stdout",
     "output_type": "stream",
     "text": [
      "Epoch 1/10\n",
      "\u001b[1m50/50\u001b[0m \u001b[32m━━━━━━━━━━━━━━━━━━━━\u001b[0m\u001b[37m\u001b[0m \u001b[1m2s\u001b[0m 30ms/step - accuracy: 0.6717 - loss: 0.7659 - val_accuracy: 0.7400 - val_loss: 0.4907\n",
      "Epoch 2/10\n",
      "\u001b[1m50/50\u001b[0m \u001b[32m━━━━━━━━━━━━━━━━━━━━\u001b[0m\u001b[37m\u001b[0m \u001b[1m1s\u001b[0m 25ms/step - accuracy: 0.7452 - loss: 0.4814 - val_accuracy: 0.8200 - val_loss: 0.3790\n",
      "Epoch 3/10\n",
      "\u001b[1m50/50\u001b[0m \u001b[32m━━━━━━━━━━━━━━━━━━━━\u001b[0m\u001b[37m\u001b[0m \u001b[1m1s\u001b[0m 25ms/step - accuracy: 0.8449 - loss: 0.3463 - val_accuracy: 0.8700 - val_loss: 0.2998\n",
      "Epoch 4/10\n",
      "\u001b[1m50/50\u001b[0m \u001b[32m━━━━━━━━━━━━━━━━━━━━\u001b[0m\u001b[37m\u001b[0m \u001b[1m1s\u001b[0m 26ms/step - accuracy: 0.9059 - loss: 0.2482 - val_accuracy: 0.9100 - val_loss: 0.2276\n",
      "Epoch 5/10\n",
      "\u001b[1m50/50\u001b[0m \u001b[32m━━━━━━━━━━━━━━━━━━━━\u001b[0m\u001b[37m\u001b[0m \u001b[1m1s\u001b[0m 28ms/step - accuracy: 0.9400 - loss: 0.1537 - val_accuracy: 0.9350 - val_loss: 0.1661\n",
      "Epoch 6/10\n",
      "\u001b[1m50/50\u001b[0m \u001b[32m━━━━━━━━━━━━━━━━━━━━\u001b[0m\u001b[37m\u001b[0m \u001b[1m1s\u001b[0m 27ms/step - accuracy: 0.9543 - loss: 0.1226 - val_accuracy: 0.9250 - val_loss: 0.1941\n",
      "Epoch 7/10\n",
      "\u001b[1m50/50\u001b[0m \u001b[32m━━━━━━━━━━━━━━━━━━━━\u001b[0m\u001b[37m\u001b[0m \u001b[1m1s\u001b[0m 27ms/step - accuracy: 0.9602 - loss: 0.1088 - val_accuracy: 0.9400 - val_loss: 0.1410\n",
      "Epoch 8/10\n",
      "\u001b[1m50/50\u001b[0m \u001b[32m━━━━━━━━━━━━━━━━━━━━\u001b[0m\u001b[37m\u001b[0m \u001b[1m1s\u001b[0m 27ms/step - accuracy: 0.9748 - loss: 0.0810 - val_accuracy: 0.9550 - val_loss: 0.1349\n",
      "Epoch 9/10\n",
      "\u001b[1m50/50\u001b[0m \u001b[32m━━━━━━━━━━━━━━━━━━━━\u001b[0m\u001b[37m\u001b[0m \u001b[1m1s\u001b[0m 11ms/step - accuracy: 0.9773 - loss: 0.0646 - val_accuracy: 0.9300 - val_loss: 0.1603\n",
      "Epoch 10/10\n",
      "\u001b[1m50/50\u001b[0m \u001b[32m━━━━━━━━━━━━━━━━━━━━\u001b[0m\u001b[37m\u001b[0m \u001b[1m1s\u001b[0m 25ms/step - accuracy: 0.9927 - loss: 0.0328 - val_accuracy: 0.9600 - val_loss: 0.1095\n",
      "K = 2\n",
      "Accuracy  99.33 %\n",
      "Epoch 1/10\n",
      "\u001b[1m50/50\u001b[0m \u001b[32m━━━━━━━━━━━━━━━━━━━━\u001b[0m\u001b[37m\u001b[0m \u001b[1m1s\u001b[0m 28ms/step - accuracy: 0.7075 - loss: 0.8057 - val_accuracy: 0.7850 - val_loss: 0.4559\n",
      "Epoch 2/10\n",
      "\u001b[1m50/50\u001b[0m \u001b[32m━━━━━━━━━━━━━━━━━━━━\u001b[0m\u001b[37m\u001b[0m \u001b[1m1s\u001b[0m 25ms/step - accuracy: 0.8009 - loss: 0.4417 - val_accuracy: 0.8450 - val_loss: 0.3596\n",
      "Epoch 3/10\n",
      "\u001b[1m50/50\u001b[0m \u001b[32m━━━━━━━━━━━━━━━━━━━━\u001b[0m\u001b[37m\u001b[0m \u001b[1m1s\u001b[0m 25ms/step - accuracy: 0.8833 - loss: 0.2879 - val_accuracy: 0.8700 - val_loss: 0.2913\n",
      "Epoch 4/10\n",
      "\u001b[1m50/50\u001b[0m \u001b[32m━━━━━━━━━━━━━━━━━━━━\u001b[0m\u001b[37m\u001b[0m \u001b[1m1s\u001b[0m 25ms/step - accuracy: 0.9308 - loss: 0.1595 - val_accuracy: 0.8550 - val_loss: 0.3372\n",
      "Epoch 5/10\n",
      "\u001b[1m50/50\u001b[0m \u001b[32m━━━━━━━━━━━━━━━━━━━━\u001b[0m\u001b[37m\u001b[0m \u001b[1m1s\u001b[0m 25ms/step - accuracy: 0.9554 - loss: 0.1323 - val_accuracy: 0.9200 - val_loss: 0.2642\n",
      "Epoch 6/10\n",
      "\u001b[1m50/50\u001b[0m \u001b[32m━━━━━━━━━━━━━━━━━━━━\u001b[0m\u001b[37m\u001b[0m \u001b[1m1s\u001b[0m 27ms/step - accuracy: 0.9813 - loss: 0.0551 - val_accuracy: 0.8800 - val_loss: 0.3124\n",
      "Epoch 7/10\n",
      "\u001b[1m50/50\u001b[0m \u001b[32m━━━━━━━━━━━━━━━━━━━━\u001b[0m\u001b[37m\u001b[0m \u001b[1m1s\u001b[0m 28ms/step - accuracy: 0.9944 - loss: 0.0352 - val_accuracy: 0.8850 - val_loss: 0.3112\n",
      "Epoch 8/10\n",
      "\u001b[1m50/50\u001b[0m \u001b[32m━━━━━━━━━━━━━━━━━━━━\u001b[0m\u001b[37m\u001b[0m \u001b[1m1s\u001b[0m 28ms/step - accuracy: 0.9976 - loss: 0.0189 - val_accuracy: 0.9150 - val_loss: 0.3124\n",
      "Epoch 9/10\n",
      "\u001b[1m50/50\u001b[0m \u001b[32m━━━━━━━━━━━━━━━━━━━━\u001b[0m\u001b[37m\u001b[0m \u001b[1m2s\u001b[0m 30ms/step - accuracy: 0.9888 - loss: 0.0320 - val_accuracy: 0.8700 - val_loss: 0.3907\n",
      "Epoch 10/10\n",
      "\u001b[1m50/50\u001b[0m \u001b[32m━━━━━━━━━━━━━━━━━━━━\u001b[0m\u001b[37m\u001b[0m \u001b[1m1s\u001b[0m 25ms/step - accuracy: 0.9969 - loss: 0.0193 - val_accuracy: 0.8850 - val_loss: 0.4156\n",
      "K = 3\n",
      "Accuracy  99.72 %\n",
      "Epoch 1/10\n",
      "\u001b[1m50/50\u001b[0m \u001b[32m━━━━━━━━━━━━━━━━━━━━\u001b[0m\u001b[37m\u001b[0m \u001b[1m2s\u001b[0m 30ms/step - accuracy: 0.6190 - loss: 0.9200 - val_accuracy: 0.7900 - val_loss: 0.4916\n",
      "Epoch 2/10\n",
      "\u001b[1m50/50\u001b[0m \u001b[32m━━━━━━━━━━━━━━━━━━━━\u001b[0m\u001b[37m\u001b[0m \u001b[1m1s\u001b[0m 25ms/step - accuracy: 0.7703 - loss: 0.4931 - val_accuracy: 0.8200 - val_loss: 0.4003\n",
      "Epoch 3/10\n",
      "\u001b[1m50/50\u001b[0m \u001b[32m━━━━━━━━━━━━━━━━━━━━\u001b[0m\u001b[37m\u001b[0m \u001b[1m1s\u001b[0m 25ms/step - accuracy: 0.8542 - loss: 0.3411 - val_accuracy: 0.8750 - val_loss: 0.2760\n",
      "Epoch 4/10\n",
      "\u001b[1m50/50\u001b[0m \u001b[32m━━━━━━━━━━━━━━━━━━━━\u001b[0m\u001b[37m\u001b[0m \u001b[1m1s\u001b[0m 25ms/step - accuracy: 0.9098 - loss: 0.2123 - val_accuracy: 0.8800 - val_loss: 0.2949\n",
      "Epoch 5/10\n",
      "\u001b[1m50/50\u001b[0m \u001b[32m━━━━━━━━━━━━━━━━━━━━\u001b[0m\u001b[37m\u001b[0m \u001b[1m1s\u001b[0m 25ms/step - accuracy: 0.9186 - loss: 0.1825 - val_accuracy: 0.9350 - val_loss: 0.1876\n",
      "Epoch 6/10\n",
      "\u001b[1m50/50\u001b[0m \u001b[32m━━━━━━━━━━━━━━━━━━━━\u001b[0m\u001b[37m\u001b[0m \u001b[1m1s\u001b[0m 26ms/step - accuracy: 0.9499 - loss: 0.1229 - val_accuracy: 0.9100 - val_loss: 0.2643\n",
      "Epoch 7/10\n",
      "\u001b[1m50/50\u001b[0m \u001b[32m━━━━━━━━━━━━━━━━━━━━\u001b[0m\u001b[37m\u001b[0m \u001b[1m1s\u001b[0m 25ms/step - accuracy: 0.9739 - loss: 0.0759 - val_accuracy: 0.9000 - val_loss: 0.2338\n",
      "Epoch 8/10\n",
      "\u001b[1m50/50\u001b[0m \u001b[32m━━━━━━━━━━━━━━━━━━━━\u001b[0m\u001b[37m\u001b[0m \u001b[1m1s\u001b[0m 25ms/step - accuracy: 0.9703 - loss: 0.0813 - val_accuracy: 0.9150 - val_loss: 0.2221\n",
      "Epoch 9/10\n",
      "\u001b[1m50/50\u001b[0m \u001b[32m━━━━━━━━━━━━━━━━━━━━\u001b[0m\u001b[37m\u001b[0m \u001b[1m1s\u001b[0m 26ms/step - accuracy: 0.9839 - loss: 0.0457 - val_accuracy: 0.9100 - val_loss: 0.2389\n",
      "Epoch 10/10\n",
      "\u001b[1m50/50\u001b[0m \u001b[32m━━━━━━━━━━━━━━━━━━━━\u001b[0m\u001b[37m\u001b[0m \u001b[1m0s\u001b[0m 6ms/step - accuracy: 0.9912 - loss: 0.0244 - val_accuracy: 0.9050 - val_loss: 0.2180\n",
      "K = 4\n",
      "Accuracy  99.11 %\n",
      "Epoch 1/10\n",
      "\u001b[1m50/50\u001b[0m \u001b[32m━━━━━━━━━━━━━━━━━━━━\u001b[0m\u001b[37m\u001b[0m \u001b[1m1s\u001b[0m 27ms/step - accuracy: 0.6744 - loss: 0.9990 - val_accuracy: 0.8300 - val_loss: 0.4963\n",
      "Epoch 2/10\n",
      "\u001b[1m50/50\u001b[0m \u001b[32m━━━━━━━━━━━━━━━━━━━━\u001b[0m\u001b[37m\u001b[0m \u001b[1m1s\u001b[0m 25ms/step - accuracy: 0.7873 - loss: 0.4679 - val_accuracy: 0.8400 - val_loss: 0.3411\n",
      "Epoch 3/10\n",
      "\u001b[1m50/50\u001b[0m \u001b[32m━━━━━━━━━━━━━━━━━━━━\u001b[0m\u001b[37m\u001b[0m \u001b[1m1s\u001b[0m 26ms/step - accuracy: 0.8734 - loss: 0.3046 - val_accuracy: 0.9200 - val_loss: 0.2395\n",
      "Epoch 4/10\n",
      "\u001b[1m50/50\u001b[0m \u001b[32m━━━━━━━━━━━━━━━━━━━━\u001b[0m\u001b[37m\u001b[0m \u001b[1m1s\u001b[0m 25ms/step - accuracy: 0.9329 - loss: 0.1893 - val_accuracy: 0.8800 - val_loss: 0.2569\n",
      "Epoch 5/10\n",
      "\u001b[1m50/50\u001b[0m \u001b[32m━━━━━━━━━━━━━━━━━━━━\u001b[0m\u001b[37m\u001b[0m \u001b[1m1s\u001b[0m 25ms/step - accuracy: 0.9465 - loss: 0.1620 - val_accuracy: 0.8950 - val_loss: 0.2652\n",
      "Epoch 6/10\n",
      "\u001b[1m50/50\u001b[0m \u001b[32m━━━━━━━━━━━━━━━━━━━━\u001b[0m\u001b[37m\u001b[0m \u001b[1m1s\u001b[0m 26ms/step - accuracy: 0.9480 - loss: 0.1353 - val_accuracy: 0.8850 - val_loss: 0.2879\n",
      "Epoch 7/10\n",
      "\u001b[1m50/50\u001b[0m \u001b[32m━━━━━━━━━━━━━━━━━━━━\u001b[0m\u001b[37m\u001b[0m \u001b[1m1s\u001b[0m 26ms/step - accuracy: 0.9691 - loss: 0.0904 - val_accuracy: 0.9000 - val_loss: 0.2341\n",
      "Epoch 8/10\n",
      "\u001b[1m50/50\u001b[0m \u001b[32m━━━━━━━━━━━━━━━━━━━━\u001b[0m\u001b[37m\u001b[0m \u001b[1m1s\u001b[0m 25ms/step - accuracy: 0.9778 - loss: 0.0827 - val_accuracy: 0.9200 - val_loss: 0.1980\n",
      "Epoch 9/10\n",
      "\u001b[1m50/50\u001b[0m \u001b[32m━━━━━━━━━━━━━━━━━━━━\u001b[0m\u001b[37m\u001b[0m \u001b[1m1s\u001b[0m 25ms/step - accuracy: 0.9943 - loss: 0.0353 - val_accuracy: 0.9200 - val_loss: 0.2213\n",
      "Epoch 10/10\n",
      "\u001b[1m50/50\u001b[0m \u001b[32m━━━━━━━━━━━━━━━━━━━━\u001b[0m\u001b[37m\u001b[0m \u001b[1m1s\u001b[0m 25ms/step - accuracy: 0.9983 - loss: 0.0185 - val_accuracy: 0.9150 - val_loss: 0.2772\n",
      "K = 5\n",
      "Accuracy  99.72 %\n",
      "Epoch 1/10\n",
      "\u001b[1m50/50\u001b[0m \u001b[32m━━━━━━━━━━━━━━━━━━━━\u001b[0m\u001b[37m\u001b[0m \u001b[1m2s\u001b[0m 30ms/step - accuracy: 0.6951 - loss: 0.8363 - val_accuracy: 0.7550 - val_loss: 0.5412\n",
      "Epoch 2/10\n",
      "\u001b[1m50/50\u001b[0m \u001b[32m━━━━━━━━━━━━━━━━━━━━\u001b[0m\u001b[37m\u001b[0m \u001b[1m2s\u001b[0m 26ms/step - accuracy: 0.8195 - loss: 0.4534 - val_accuracy: 0.8250 - val_loss: 0.4364\n",
      "Epoch 3/10\n",
      "\u001b[1m50/50\u001b[0m \u001b[32m━━━━━━━━━━━━━━━━━━━━\u001b[0m\u001b[37m\u001b[0m \u001b[1m1s\u001b[0m 26ms/step - accuracy: 0.8342 - loss: 0.3675 - val_accuracy: 0.8350 - val_loss: 0.3457\n",
      "Epoch 4/10\n",
      "\u001b[1m50/50\u001b[0m \u001b[32m━━━━━━━━━━━━━━━━━━━━\u001b[0m\u001b[37m\u001b[0m \u001b[1m1s\u001b[0m 26ms/step - accuracy: 0.9064 - loss: 0.2151 - val_accuracy: 0.8750 - val_loss: 0.2752\n",
      "Epoch 5/10\n",
      "\u001b[1m50/50\u001b[0m \u001b[32m━━━━━━━━━━━━━━━━━━━━\u001b[0m\u001b[37m\u001b[0m \u001b[1m1s\u001b[0m 25ms/step - accuracy: 0.9565 - loss: 0.1261 - val_accuracy: 0.9050 - val_loss: 0.2360\n",
      "Epoch 6/10\n",
      "\u001b[1m50/50\u001b[0m \u001b[32m━━━━━━━━━━━━━━━━━━━━\u001b[0m\u001b[37m\u001b[0m \u001b[1m1s\u001b[0m 26ms/step - accuracy: 0.9608 - loss: 0.0968 - val_accuracy: 0.8600 - val_loss: 0.2901\n",
      "Epoch 7/10\n",
      "\u001b[1m50/50\u001b[0m \u001b[32m━━━━━━━━━━━━━━━━━━━━\u001b[0m\u001b[37m\u001b[0m \u001b[1m1s\u001b[0m 26ms/step - accuracy: 0.9709 - loss: 0.0745 - val_accuracy: 0.9100 - val_loss: 0.1950\n",
      "Epoch 8/10\n",
      "\u001b[1m50/50\u001b[0m \u001b[32m━━━━━━━━━━━━━━━━━━━━\u001b[0m\u001b[37m\u001b[0m \u001b[1m1s\u001b[0m 26ms/step - accuracy: 0.9772 - loss: 0.0627 - val_accuracy: 0.9050 - val_loss: 0.2114\n",
      "Epoch 9/10\n",
      "\u001b[1m50/50\u001b[0m \u001b[32m━━━━━━━━━━━━━━━━━━━━\u001b[0m\u001b[37m\u001b[0m \u001b[1m1s\u001b[0m 26ms/step - accuracy: 0.9929 - loss: 0.0231 - val_accuracy: 0.8650 - val_loss: 0.3782\n",
      "Epoch 10/10\n",
      "\u001b[1m50/50\u001b[0m \u001b[32m━━━━━━━━━━━━━━━━━━━━\u001b[0m\u001b[37m\u001b[0m \u001b[1m1s\u001b[0m 10ms/step - accuracy: 0.9945 - loss: 0.0319 - val_accuracy: 0.9200 - val_loss: 0.2298\n",
      "K = 6\n",
      "Accuracy  99.33 %\n",
      "Epoch 1/10\n",
      "\u001b[1m50/50\u001b[0m \u001b[32m━━━━━━━━━━━━━━━━━━━━\u001b[0m\u001b[37m\u001b[0m \u001b[1m1s\u001b[0m 28ms/step - accuracy: 0.6924 - loss: 0.7710 - val_accuracy: 0.8050 - val_loss: 0.3766\n",
      "Epoch 2/10\n",
      "\u001b[1m50/50\u001b[0m \u001b[32m━━━━━━━━━━━━━━━━━━━━\u001b[0m\u001b[37m\u001b[0m \u001b[1m1s\u001b[0m 25ms/step - accuracy: 0.8426 - loss: 0.3782 - val_accuracy: 0.7800 - val_loss: 0.4187\n",
      "Epoch 3/10\n",
      "\u001b[1m50/50\u001b[0m \u001b[32m━━━━━━━━━━━━━━━━━━━━\u001b[0m\u001b[37m\u001b[0m \u001b[1m1s\u001b[0m 25ms/step - accuracy: 0.8519 - loss: 0.3341 - val_accuracy: 0.8150 - val_loss: 0.3973\n",
      "Epoch 4/10\n",
      "\u001b[1m50/50\u001b[0m \u001b[32m━━━━━━━━━━━━━━━━━━━━\u001b[0m\u001b[37m\u001b[0m \u001b[1m1s\u001b[0m 26ms/step - accuracy: 0.8901 - loss: 0.2598 - val_accuracy: 0.8400 - val_loss: 0.3434\n",
      "Epoch 5/10\n",
      "\u001b[1m50/50\u001b[0m \u001b[32m━━━━━━━━━━━━━━━━━━━━\u001b[0m\u001b[37m\u001b[0m \u001b[1m1s\u001b[0m 25ms/step - accuracy: 0.9205 - loss: 0.1959 - val_accuracy: 0.8850 - val_loss: 0.3409\n",
      "Epoch 6/10\n",
      "\u001b[1m50/50\u001b[0m \u001b[32m━━━━━━━━━━━━━━━━━━━━\u001b[0m\u001b[37m\u001b[0m \u001b[1m1s\u001b[0m 26ms/step - accuracy: 0.9462 - loss: 0.1249 - val_accuracy: 0.8850 - val_loss: 0.2560\n",
      "Epoch 7/10\n",
      "\u001b[1m50/50\u001b[0m \u001b[32m━━━━━━━━━━━━━━━━━━━━\u001b[0m\u001b[37m\u001b[0m \u001b[1m1s\u001b[0m 26ms/step - accuracy: 0.9766 - loss: 0.0706 - val_accuracy: 0.9200 - val_loss: 0.2134\n",
      "Epoch 8/10\n",
      "\u001b[1m50/50\u001b[0m \u001b[32m━━━━━━━━━━━━━━━━━━━━\u001b[0m\u001b[37m\u001b[0m \u001b[1m1s\u001b[0m 25ms/step - accuracy: 0.9869 - loss: 0.0429 - val_accuracy: 0.8850 - val_loss: 0.3126\n",
      "Epoch 9/10\n",
      "\u001b[1m50/50\u001b[0m \u001b[32m━━━━━━━━━━━━━━━━━━━━\u001b[0m\u001b[37m\u001b[0m \u001b[1m1s\u001b[0m 25ms/step - accuracy: 0.9733 - loss: 0.0746 - val_accuracy: 0.9150 - val_loss: 0.2525\n",
      "Epoch 10/10\n",
      "\u001b[1m50/50\u001b[0m \u001b[32m━━━━━━━━━━━━━━━━━━━━\u001b[0m\u001b[37m\u001b[0m \u001b[1m1s\u001b[0m 25ms/step - accuracy: 0.9882 - loss: 0.0322 - val_accuracy: 0.9150 - val_loss: 0.2950\n",
      "K = 7\n",
      "Accuracy  98.67 %\n",
      "Epoch 1/10\n",
      "\u001b[1m50/50\u001b[0m \u001b[32m━━━━━━━━━━━━━━━━━━━━\u001b[0m\u001b[37m\u001b[0m \u001b[1m1s\u001b[0m 29ms/step - accuracy: 0.6701 - loss: 0.8953 - val_accuracy: 0.7100 - val_loss: 0.5257\n",
      "Epoch 2/10\n",
      "\u001b[1m50/50\u001b[0m \u001b[32m━━━━━━━━━━━━━━━━━━━━\u001b[0m\u001b[37m\u001b[0m \u001b[1m1s\u001b[0m 25ms/step - accuracy: 0.7549 - loss: 0.4706 - val_accuracy: 0.7100 - val_loss: 0.4529\n",
      "Epoch 3/10\n",
      "\u001b[1m50/50\u001b[0m \u001b[32m━━━━━━━━━━━━━━━━━━━━\u001b[0m\u001b[37m\u001b[0m \u001b[1m1s\u001b[0m 27ms/step - accuracy: 0.7524 - loss: 0.4134 - val_accuracy: 0.7900 - val_loss: 0.3888\n",
      "Epoch 4/10\n",
      "\u001b[1m50/50\u001b[0m \u001b[32m━━━━━━━━━━━━━━━━━━━━\u001b[0m\u001b[37m\u001b[0m \u001b[1m1s\u001b[0m 27ms/step - accuracy: 0.8570 - loss: 0.3413 - val_accuracy: 0.8550 - val_loss: 0.3379\n",
      "Epoch 5/10\n",
      "\u001b[1m50/50\u001b[0m \u001b[32m━━━━━━━━━━━━━━━━━━━━\u001b[0m\u001b[37m\u001b[0m \u001b[1m1s\u001b[0m 27ms/step - accuracy: 0.9118 - loss: 0.2448 - val_accuracy: 0.8850 - val_loss: 0.2634\n",
      "Epoch 6/10\n",
      "\u001b[1m50/50\u001b[0m \u001b[32m━━━━━━━━━━━━━━━━━━━━\u001b[0m\u001b[37m\u001b[0m \u001b[1m1s\u001b[0m 27ms/step - accuracy: 0.9611 - loss: 0.1154 - val_accuracy: 0.9050 - val_loss: 0.2420\n",
      "Epoch 7/10\n",
      "\u001b[1m50/50\u001b[0m \u001b[32m━━━━━━━━━━━━━━━━━━━━\u001b[0m\u001b[37m\u001b[0m \u001b[1m1s\u001b[0m 27ms/step - accuracy: 0.9641 - loss: 0.0987 - val_accuracy: 0.9300 - val_loss: 0.1624\n",
      "Epoch 8/10\n",
      "\u001b[1m50/50\u001b[0m \u001b[32m━━━━━━━━━━━━━━━━━━━━\u001b[0m\u001b[37m\u001b[0m \u001b[1m1s\u001b[0m 25ms/step - accuracy: 0.9781 - loss: 0.0692 - val_accuracy: 0.9250 - val_loss: 0.1843\n",
      "Epoch 9/10\n",
      "\u001b[1m50/50\u001b[0m \u001b[32m━━━━━━━━━━━━━━━━━━━━\u001b[0m\u001b[37m\u001b[0m \u001b[1m1s\u001b[0m 27ms/step - accuracy: 0.9899 - loss: 0.0437 - val_accuracy: 0.9450 - val_loss: 0.1471\n",
      "Epoch 10/10\n",
      "\u001b[1m50/50\u001b[0m \u001b[32m━━━━━━━━━━━━━━━━━━━━\u001b[0m\u001b[37m\u001b[0m \u001b[1m1s\u001b[0m 26ms/step - accuracy: 0.9954 - loss: 0.0308 - val_accuracy: 0.9350 - val_loss: 0.1628\n",
      "K = 8\n",
      "Accuracy  99.33 %\n",
      "Epoch 1/10\n",
      "\u001b[1m50/50\u001b[0m \u001b[32m━━━━━━━━━━━━━━━━━━━━\u001b[0m\u001b[37m\u001b[0m \u001b[1m1s\u001b[0m 28ms/step - accuracy: 0.6812 - loss: 0.9033 - val_accuracy: 0.7650 - val_loss: 0.4549\n",
      "Epoch 2/10\n",
      "\u001b[1m50/50\u001b[0m \u001b[32m━━━━━━━━━━━━━━━━━━━━\u001b[0m\u001b[37m\u001b[0m \u001b[1m1s\u001b[0m 26ms/step - accuracy: 0.8368 - loss: 0.3824 - val_accuracy: 0.8200 - val_loss: 0.4040\n",
      "Epoch 3/10\n",
      "\u001b[1m50/50\u001b[0m \u001b[32m━━━━━━━━━━━━━━━━━━━━\u001b[0m\u001b[37m\u001b[0m \u001b[1m1s\u001b[0m 26ms/step - accuracy: 0.8932 - loss: 0.2428 - val_accuracy: 0.8450 - val_loss: 0.2884\n",
      "Epoch 4/10\n",
      "\u001b[1m50/50\u001b[0m \u001b[32m━━━━━━━━━━━━━━━━━━━━\u001b[0m\u001b[37m\u001b[0m \u001b[1m1s\u001b[0m 26ms/step - accuracy: 0.9390 - loss: 0.1508 - val_accuracy: 0.8800 - val_loss: 0.2708\n",
      "Epoch 5/10\n",
      "\u001b[1m50/50\u001b[0m \u001b[32m━━━━━━━━━━━━━━━━━━━━\u001b[0m\u001b[37m\u001b[0m \u001b[1m1s\u001b[0m 28ms/step - accuracy: 0.9587 - loss: 0.1042 - val_accuracy: 0.8650 - val_loss: 0.2942\n",
      "Epoch 6/10\n",
      "\u001b[1m50/50\u001b[0m \u001b[32m━━━━━━━━━━━━━━━━━━━━\u001b[0m\u001b[37m\u001b[0m \u001b[1m1s\u001b[0m 28ms/step - accuracy: 0.9747 - loss: 0.0711 - val_accuracy: 0.8750 - val_loss: 0.3395\n",
      "Epoch 7/10\n",
      "\u001b[1m50/50\u001b[0m \u001b[32m━━━━━━━━━━━━━━━━━━━━\u001b[0m\u001b[37m\u001b[0m \u001b[1m1s\u001b[0m 27ms/step - accuracy: 0.9756 - loss: 0.0649 - val_accuracy: 0.8950 - val_loss: 0.4088\n",
      "Epoch 8/10\n",
      "\u001b[1m50/50\u001b[0m \u001b[32m━━━━━━━━━━━━━━━━━━━━\u001b[0m\u001b[37m\u001b[0m \u001b[1m1s\u001b[0m 27ms/step - accuracy: 0.9894 - loss: 0.0336 - val_accuracy: 0.8850 - val_loss: 0.3464\n",
      "Epoch 9/10\n",
      "\u001b[1m50/50\u001b[0m \u001b[32m━━━━━━━━━━━━━━━━━━━━\u001b[0m\u001b[37m\u001b[0m \u001b[1m1s\u001b[0m 26ms/step - accuracy: 0.9956 - loss: 0.0211 - val_accuracy: 0.8800 - val_loss: 0.3491\n",
      "Epoch 10/10\n",
      "\u001b[1m50/50\u001b[0m \u001b[32m━━━━━━━━━━━━━━━━━━━━\u001b[0m\u001b[37m\u001b[0m \u001b[1m1s\u001b[0m 27ms/step - accuracy: 0.9922 - loss: 0.0266 - val_accuracy: 0.8700 - val_loss: 0.3703\n",
      "K = 9\n",
      "Accuracy  99.39 %\n"
     ]
    }
   ],
   "source": [
    "kf = KFold(n_splits=10, shuffle=True)\n",
    "kf_split = kf.split(dataset_x)\n",
    "acc_array = []\n",
    "\n",
    "for i, (train_index, val_index) in enumerate(kf_split):\n",
    "    cnn.load_weights(\"CNN/\" + name + \"/default_weights.weights.h5\")\n",
    "    \n",
    "    log_dir = \"logs/fit/\" + name + \"-K\" + str(i)\n",
    "    tensorboard_callback = tf.keras.callbacks.TensorBoard(log_dir=log_dir, update_freq='batch')\n",
    "    history = cnn.fit(dataset_x[train_index], \n",
    "                      dataset_y[train_index], \n",
    "                      validation_data=(dataset_x[val_index], dataset_y[val_index]), \n",
    "                      epochs=epochs, \n",
    "                      steps_per_epoch=steps, \n",
    "                      callbacks=[tensorboard_callback])\n",
    "\n",
    "    print(\"K = \" + str(i))\n",
    "    print(\"Accuracy  {:0.2f} %\".format(history.history[\"accuracy\"][-1] * 100))\n",
    "    acc_array.append(history.history[\"accuracy\"][-1])"
   ]
  },
  {
   "cell_type": "markdown",
   "id": "82c518a9-fb8c-4305-9b5a-86c64eb23e57",
   "metadata": {},
   "source": [
    "### Find best K-group and average"
   ]
  },
  {
   "cell_type": "code",
   "execution_count": 25,
   "id": "ad31cab0-2cf6-4af2-bfa3-01e4c3af5a6c",
   "metadata": {},
   "outputs": [
    {
     "name": "stdout",
     "output_type": "stream",
     "text": [
      "Average accuracy = 99.22 %\n",
      "K group with best accuracy = 3\n",
      "Accuracy = 99.72 %\n"
     ]
    }
   ],
   "source": [
    "max_acc = max(acc_array)\n",
    "acc_array.index(max_acc)\n",
    "avg_acc = sum(acc_array) / len(acc_array)\n",
    "\n",
    "print(\"Average accuracy = {:0.2f} %\".format(avg_acc * 100))\n",
    "print(\"K group with best accuracy = \" + str(acc_array.index(max_acc)))\n",
    "print(\"Accuracy = {:0.2f} %\".format(max_acc * 100))"
   ]
  },
  {
   "cell_type": "markdown",
   "id": "aa99d76a",
   "metadata": {},
   "source": [
    "## Open Tensorboard"
   ]
  },
  {
   "cell_type": "code",
   "execution_count": 4,
   "id": "42e465e8",
   "metadata": {},
   "outputs": [
    {
     "data": {
      "text/html": [
       "\n",
       "      <iframe id=\"tensorboard-frame-4d1bdff61b9d62d7\" width=\"100%\" height=\"800\" frameborder=\"0\">\n",
       "      </iframe>\n",
       "      <script>\n",
       "        (function() {\n",
       "          const frame = document.getElementById(\"tensorboard-frame-4d1bdff61b9d62d7\");\n",
       "          const url = new URL(\"/\", window.location);\n",
       "          const port = 6006;\n",
       "          if (port) {\n",
       "            url.port = port;\n",
       "          }\n",
       "          frame.src = url;\n",
       "        })();\n",
       "      </script>\n",
       "    "
      ],
      "text/plain": [
       "<IPython.core.display.HTML object>"
      ]
     },
     "metadata": {},
     "output_type": "display_data"
    }
   ],
   "source": [
    "%tensorboard --logdir=\"logs/\" --host=127.0.0.1 "
   ]
  },
  {
   "cell_type": "markdown",
   "id": "37f6525b",
   "metadata": {},
   "source": [
    "## CNN Evaluation"
   ]
  },
  {
   "cell_type": "markdown",
   "id": "3fb813a3",
   "metadata": {},
   "source": [
    "### Load final dataset"
   ]
  },
  {
   "cell_type": "code",
   "execution_count": 26,
   "id": "a3c07de4",
   "metadata": {},
   "outputs": [
    {
     "name": "stdout",
     "output_type": "stream",
     "text": [
      "Loading train_x...\n",
      "Done\n",
      "Loading train_y...\n",
      "Done\n",
      "Loading test_x...\n",
      "Done\n",
      "Loading test_y...\n",
      "Done\n"
     ]
    }
   ],
   "source": [
    "if \"FinalTrainTestSet\" not in os.listdir():\n",
    "        print(\"Unzipping final dataset...\")\n",
    "        with ZipFile(\"FinalTrainTestSet.zip\", 'r') as zObject: \n",
    "            zObject.extractall(path=\"FinalTrainTestSet\")\n",
    "        print(\"Done\")\n",
    "        \n",
    "print(\"Loading train_x...\")\n",
    "ftrain_x = np.load(\"FinalTrainTestSet/train_x.npy\")\n",
    "print(\"Done\")\n",
    "\n",
    "print(\"Loading train_y...\")\n",
    "ftrain_y = np.load(\"FinalTrainTestSet/train_y.npy\")\n",
    "print(\"Done\")\n",
    "\n",
    "print(\"Loading test_x...\")\n",
    "ftest_x = np.load(\"FinalTrainTestSet/test_x.npy\")\n",
    "print(\"Done\")\n",
    "\n",
    "print(\"Loading test_y...\")\n",
    "ftest_y = np.load(\"FinalTrainTestSet/test_y.npy\")\n",
    "print(\"Done\")"
   ]
  },
  {
   "cell_type": "markdown",
   "id": "ff2653fe",
   "metadata": {},
   "source": [
    "## Train model"
   ]
  },
  {
   "cell_type": "code",
   "execution_count": 1,
   "id": "1dac53ad",
   "metadata": {},
   "outputs": [
    {
     "ename": "NameError",
     "evalue": "name 'cnn' is not defined",
     "output_type": "error",
     "traceback": [
      "\u001b[0;31m---------------------------------------------------------------------------\u001b[0m",
      "\u001b[0;31mNameError\u001b[0m                                 Traceback (most recent call last)",
      "Cell \u001b[0;32mIn[1], line 1\u001b[0m\n\u001b[0;32m----> 1\u001b[0m \u001b[43mcnn\u001b[49m\u001b[38;5;241m.\u001b[39mload_weights(\u001b[38;5;124m\"\u001b[39m\u001b[38;5;124mCNN/\u001b[39m\u001b[38;5;124m\"\u001b[39m \u001b[38;5;241m+\u001b[39m name \u001b[38;5;241m+\u001b[39m \u001b[38;5;124m\"\u001b[39m\u001b[38;5;124m/default_weights.weights.h5\u001b[39m\u001b[38;5;124m\"\u001b[39m)\n\u001b[1;32m      3\u001b[0m log_dir \u001b[38;5;241m=\u001b[39m \u001b[38;5;124m\"\u001b[39m\u001b[38;5;124mlogs/fit/\u001b[39m\u001b[38;5;124m\"\u001b[39m \u001b[38;5;241m+\u001b[39m name \u001b[38;5;241m+\u001b[39m \u001b[38;5;124m\"\u001b[39m\u001b[38;5;124m-Final\u001b[39m\u001b[38;5;124m\"\u001b[39m\n\u001b[1;32m      4\u001b[0m tensorboard_callback \u001b[38;5;241m=\u001b[39m tf\u001b[38;5;241m.\u001b[39mkeras\u001b[38;5;241m.\u001b[39mcallbacks\u001b[38;5;241m.\u001b[39mTensorBoard(log_dir\u001b[38;5;241m=\u001b[39mlog_dir, update_freq\u001b[38;5;241m=\u001b[39m\u001b[38;5;124m'\u001b[39m\u001b[38;5;124mepoch\u001b[39m\u001b[38;5;124m'\u001b[39m)\n",
      "\u001b[0;31mNameError\u001b[0m: name 'cnn' is not defined"
     ]
    }
   ],
   "source": [
    "cnn.load_weights(\"CNN/\" + name + \"/default_weights.weights.h5\")\n",
    "\n",
    "log_dir = \"logs/fit/\" + name + \"-Final\"\n",
    "tensorboard_callback = tf.keras.callbacks.TensorBoard(log_dir=log_dir, update_freq='epoch')\n",
    "\n",
    "cnn.fit(ftrain_x, ftrain_y, epochs=epochs, steps_per_epoch=steps, callbacks=[tensorboard_callback])\n",
    "\n",
    "#cnn.save(\"CNN/\" + name + \"/\" + name + \".keras\")"
   ]
  },
  {
   "cell_type": "markdown",
   "id": "316401fd",
   "metadata": {},
   "source": [
    "## Open Tensorboard for train time"
   ]
  },
  {
   "cell_type": "code",
   "execution_count": 2,
   "id": "f9ffd8a5",
   "metadata": {},
   "outputs": [
    {
     "name": "stderr",
     "output_type": "stream",
     "text": [
      "UsageError: Line magic function `%tensorboard` not found.\n"
     ]
    }
   ],
   "source": [
    "%tensorboard --logdir=\"logs/\" --host=127.0.0.1 "
   ]
  },
  {
   "cell_type": "markdown",
   "id": "b82a6bf1",
   "metadata": {},
   "source": [
    "## Generate prediction set"
   ]
  },
  {
   "cell_type": "code",
   "execution_count": 28,
   "id": "527bab2a",
   "metadata": {},
   "outputs": [],
   "source": [
    "pred_y = np.empty([200, 1])\n",
    "meta = np.empty([1, 227, 227, 3])\n",
    "\n",
    "for i in range(0, ftest_x.shape[0]):\n",
    "    meta[0] = ftest_x[i]\n",
    "    pred_value = cnn.predict(meta, verbose=0)[0][0]\n",
    "    \n",
    "    if pred_value > 0.5:\n",
    "        pred = 1\n",
    "    else:\n",
    "        pred = 0\n",
    "        \n",
    "    pred_y[i] = pred"
   ]
  },
  {
   "cell_type": "markdown",
   "id": "10f5ff4c",
   "metadata": {},
   "source": [
    "## Graph confusion matrix"
   ]
  },
  {
   "cell_type": "code",
   "execution_count": 29,
   "id": "5d2b22a3",
   "metadata": {},
   "outputs": [
    {
     "data": {
      "image/png": "[encoded data removed]",
      "text/plain": [
       "<Figure size 640x480 with 2 Axes>"
      ]
     },
     "metadata": {},
     "output_type": "display_data"
    }
   ],
   "source": [
    "from sklearn.metrics import confusion_matrix, ConfusionMatrixDisplay, classification_report\n",
    "\n",
    "cm = confusion_matrix(ftest_y, pred_y)\n",
    "disp = ConfusionMatrixDisplay(confusion_matrix = cm, display_labels=[\"Edible\", \"Poisonous\"])\n",
    "disp.plot(cmap=plt.cm.Blues).figure_.savefig(\"CNN/\" + name + \"/\" + name + \"_ConfustionMatrix.svg\")"
   ]
  },
  {
   "cell_type": "markdown",
   "id": "2fa1441b",
   "metadata": {},
   "source": [
    "## CNN Metrics"
   ]
  },
  {
   "cell_type": "code",
   "execution_count": 30,
   "id": "db3219e3",
   "metadata": {},
   "outputs": [
    {
     "name": "stdout",
     "output_type": "stream",
     "text": [
      "TestCNN:\n",
      "Accuracy  89.50 %\n",
      "Precision 92.31 %\n",
      "Recall    94.12 %\n",
      "F1        93.20 %\n"
     ]
    }
   ],
   "source": [
    "tp = cm[0][0]\n",
    "fp = cm[0][1]\n",
    "fn = cm[1][0]\n",
    "tn = cm[1][1]\n",
    "\n",
    "accuracy = (tp + tn) / (tp + tn + fn + fp)\n",
    "precision = tp / (tp + fp)\n",
    "recall = tp / (tp + fn)\n",
    "f1 = (precision *  recall) / (precision + recall)\n",
    "f1 *= 2\n",
    "\n",
    "print(name + \":\")\n",
    "print(\"Accuracy  {:0.2f} %\".format(accuracy * 100))\n",
    "print(\"Precision {:0.2f} %\".format(precision * 100))\n",
    "print(\"Recall    {:0.2f} %\".format(recall * 100))\n",
    "print(\"F1        {:0.2f} %\".format(f1 * 100))"
   ]
  }
 ],
 "metadata": {
  "kernelspec": {
   "display_name": "Python 3 (ipykernel)",
   "language": "python",
   "name": "python3"
  },
  "language_info": {
   "codemirror_mode": {
    "name": "ipython",
    "version": 3
   },
   "file_extension": ".py",
   "mimetype": "text/x-python",
   "name": "python",
   "nbconvert_exporter": "python",
   "pygments_lexer": "ipython3",
   "version": "3.9.21"
  }
 },
 "nbformat": 4,
 "nbformat_minor": 5
}
