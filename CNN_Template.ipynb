{
 "cells": [
  {
   "cell_type": "markdown",
   "id": "fdffeb08",
   "metadata": {},
   "source": [
    "## Dependencies"
   ]
  },
  {
   "cell_type": "code",
   "execution_count": 1,
   "id": "2df67f01",
   "metadata": {},
   "outputs": [],
   "source": [
    "%load_ext tensorboard"
   ]
  },
  {
   "cell_type": "code",
   "execution_count": 1,
   "id": "0e361a51",
   "metadata": {},
   "outputs": [
    {
     "name": "stderr",
     "output_type": "stream",
     "text": [
      "2025-03-05 09:53:50.181403: E external/local_xla/xla/stream_executor/cuda/cuda_fft.cc:477] Unable to register cuFFT factory: Attempting to register factory for plugin cuFFT when one has already been registered\n",
      "WARNING: All log messages before absl::InitializeLog() is called are written to STDERR\n",
      "E0000 00:00:1741164830.247414     530 cuda_dnn.cc:8310] Unable to register cuDNN factory: Attempting to register factory for plugin cuDNN when one has already been registered\n",
      "E0000 00:00:1741164830.267523     530 cuda_blas.cc:1418] Unable to register cuBLAS factory: Attempting to register factory for plugin cuBLAS when one has already been registered\n",
      "2025-03-05 09:53:50.423940: I tensorflow/core/platform/cpu_feature_guard.cc:210] This TensorFlow binary is optimized to use available CPU instructions in performance-critical operations.\n",
      "To enable the following instructions: AVX2 FMA, in other operations, rebuild TensorFlow with the appropriate compiler flags.\n"
     ]
    }
   ],
   "source": [
    "import os\n",
    "import numpy as np\n",
    "from sklearn.model_selection import KFold\n",
    "from ipynb.fs.full.Dataset_Construction_Isolated import construct_dataset\n",
    "import matplotlib.pyplot as plt\n",
    "import matplotlib.image as plt_img\n",
    "\n",
    "import tensorflow as tf\n",
    "from tensorflow.keras import layers, models, datasets\n",
    "import datetime\n",
    "\n",
    "from zipfile import ZipFile "
   ]
  },
  {
   "cell_type": "markdown",
   "id": "a9c78cb5-a05c-4720-a9e9-b8e8109719c5",
   "metadata": {},
   "source": [
    "## GPU Check"
   ]
  },
  {
   "cell_type": "code",
   "execution_count": 3,
   "id": "3e0ea8f1-02f4-48be-abe0-4eb36c527bbc",
   "metadata": {},
   "outputs": [
    {
     "data": {
      "text/plain": [
       "[PhysicalDevice(name='/physical_device:GPU:0', device_type='GPU')]"
      ]
     },
     "execution_count": 3,
     "metadata": {},
     "output_type": "execute_result"
    }
   ],
   "source": [
    "tf.config.list_physical_devices(\"GPU\")"
   ]
  },
  {
   "cell_type": "markdown",
   "id": "57f42f0e",
   "metadata": {},
   "source": [
    "## Parameters"
   ]
  },
  {
   "cell_type": "code",
   "execution_count": 2,
   "id": "91734701",
   "metadata": {},
   "outputs": [],
   "source": [
    "name = \"TestCNN\"\n",
    "epochs = 10\n",
    "steps = 50\n",
    "batch = 40"
   ]
  },
  {
   "cell_type": "markdown",
   "id": "02afe754",
   "metadata": {},
   "source": [
    "## Making directory for CNN"
   ]
  },
  {
   "cell_type": "code",
   "execution_count": null,
   "id": "cef17ae1",
   "metadata": {},
   "outputs": [],
   "source": [
    "try:\n",
    "    os.mkdir(\"CNN/\" + name)\n",
    "except:\n",
    "    pass\n",
    "\n",
    "try:\n",
    "    os.mkdir(\"CNN/\" + name + \"/Tensorboard_Data\")\n",
    "except:\n",
    "    pass\n",
    "\n",
    "try:\n",
    "    os.mkdir(\"CNN/\" + name + \"/Tensorboard_Data/Acc\")\n",
    "    os.mkdir(\"CNN/\" + name + \"/Tensorboard_Data/Loss\")\n",
    "except:\n",
    "    pass"
   ]
  },
  {
   "cell_type": "markdown",
   "id": "362c5567",
   "metadata": {},
   "source": [
    "## Load constructed dataset"
   ]
  },
  {
   "cell_type": "code",
   "execution_count": 3,
   "id": "a61a37d3",
   "metadata": {},
   "outputs": [
    {
     "name": "stdout",
     "output_type": "stream",
     "text": [
      "Dataset files found, loading...\n",
      "Done\n"
     ]
    }
   ],
   "source": [
    "lst = os.listdir() \n",
    "if (\"mushroom_dataset_x.npy\" not in lst) or (\"mushroom_dataset_y.npy\" not in lst):\n",
    "    print(\"Dataset files not found, contructing...\")\n",
    "    dataset_x, dataset_y = construct_dataset()\n",
    "else:\n",
    "    print(\"Dataset files found, loading...\")\n",
    "    dataset_x = np.load(\"mushroom_dataset_x.npy\")\n",
    "    dataset_y = np.load(\"mushroom_dataset_y.npy\")\n",
    "    print(\"Done\")"
   ]
  },
  {
   "cell_type": "markdown",
   "id": "5c7ac242",
   "metadata": {},
   "source": [
    "## CNN Training"
   ]
  },
  {
   "cell_type": "markdown",
   "id": "cca17ca2-0cb7-4056-bee1-1a9cfb9b6562",
   "metadata": {},
   "source": [
    "### Create and train Model with n folds"
   ]
  },
  {
   "cell_type": "code",
   "execution_count": null,
   "id": "d4449c6b-91d1-4155-a953-0a42c9289f79",
   "metadata": {
    "scrolled": true
   },
   "outputs": [],
   "source": [
    "kf = KFold(n_splits=10, shuffle=True)\n",
    "kf_split = kf.split(dataset_x)\n",
    "acc_array = []\n",
    "\n",
    "for i, (train_index, val_index) in enumerate(kf_split):\n",
    "\n",
    "    pretrained_model = tf.keras.applications.ResNet50(\n",
    "    include_top=False,\n",
    "    weights=\"imagenet\",\n",
    "    input_shape=(227, 227, 3),\n",
    "    name=\"resnet50\",\n",
    "    )\n",
    "\n",
    "    for layer in pretrained_model.layers[:100]:\n",
    "        layer.trainable = False\n",
    "\n",
    "    \n",
    "    cnn = models.Sequential([\n",
    "    pretrained_model,\n",
    "    tf.keras.layers.GlobalAveragePooling2D(),\n",
    "    tf.keras.layers.Dense(1024, activation='relu'),\n",
    "    tf.keras.layers.Dense(1024, activation='relu'),\n",
    "    tf.keras.layers.Dense(1024, activation='relu'),\n",
    "    tf.keras.layers.Dense(512, activation='relu'),\n",
    "    layers.Dense(1, activation=\"sigmoid\")\n",
    "    ])\n",
    "    \n",
    "    cnn.compile(optimizer=\"SGD\", loss=\"binary_crossentropy\",  metrics=[\"accuracy\"])\n",
    "    \n",
    "    log_dir = \"logs/fit/\" + name + \"-K\" + str(i)\n",
    "    tensorboard_callback = tf.keras.callbacks.TensorBoard(log_dir=log_dir, update_freq='batch')\n",
    "    history = cnn.fit(dataset_x[train_index], \n",
    "                      dataset_y[train_index], \n",
    "                      validation_data=(dataset_x[val_index], dataset_y[val_index]), \n",
    "                      epochs=epochs, \n",
    "                      steps_per_epoch=steps, \n",
    "                      callbacks=[tensorboard_callback])\n",
    "\n",
    "    print(\"K = \" + str(i))\n",
    "    print(\"Accuracy  {:0.2f} %\".format(history.history[\"accuracy\"][-1] * 100))\n",
    "    acc_array.append(history.history[\"accuracy\"][-1])"
   ]
  },
  {
   "cell_type": "markdown",
   "id": "82c518a9-fb8c-4305-9b5a-86c64eb23e57",
   "metadata": {},
   "source": [
    "### Find best K-group and average"
   ]
  },
  {
   "cell_type": "code",
   "execution_count": 9,
   "id": "ad31cab0-2cf6-4af2-bfa3-01e4c3af5a6c",
   "metadata": {},
   "outputs": [
    {
     "name": "stdout",
     "output_type": "stream",
     "text": [
      "Average accuracy = 99.04 %\n",
      "K group with best accuracy = 2\n",
      "Accuracy = 99.89 %\n"
     ]
    }
   ],
   "source": [
    "max_acc = max(acc_array)\n",
    "acc_array.index(max_acc)\n",
    "avg_acc = sum(acc_array) / len(acc_array)\n",
    "\n",
    "print(\"Average accuracy = {:0.2f} %\".format(avg_acc * 100))\n",
    "print(\"K group with best accuracy = \" + str(acc_array.index(max_acc)))\n",
    "print(\"Accuracy = {:0.2f} %\".format(max_acc * 100))"
   ]
  },
  {
   "cell_type": "markdown",
   "id": "aa99d76a",
   "metadata": {},
   "source": [
    "## Open Tensorboard"
   ]
  },
  {
   "cell_type": "code",
   "execution_count": null,
   "id": "42e465e8",
   "metadata": {
    "scrolled": true
   },
   "outputs": [],
   "source": [
    "%tensorboard --logdir=\"logs/\" --host=127.0.0.1 "
   ]
  },
  {
   "cell_type": "markdown",
   "id": "37f6525b",
   "metadata": {},
   "source": [
    "## CNN Evaluation"
   ]
  },
  {
   "cell_type": "markdown",
   "id": "3fb813a3",
   "metadata": {},
   "source": [
    "### Load final dataset"
   ]
  },
  {
   "cell_type": "code",
   "execution_count": 12,
   "id": "a3c07de4",
   "metadata": {},
   "outputs": [
    {
     "name": "stdout",
     "output_type": "stream",
     "text": [
      "Loading train_x...\n",
      "Done\n",
      "Loading train_y...\n",
      "Done\n",
      "Loading test_x...\n",
      "Done\n",
      "Loading test_y...\n",
      "Done\n"
     ]
    }
   ],
   "source": [
    "if \"FinalTrainTestSet\" not in os.listdir():\n",
    "        print(\"Unzipping final dataset...\")\n",
    "        with ZipFile(\"FinalTrainTestSet.zip\", 'r') as zObject: \n",
    "            zObject.extractall(path=\"FinalTrainTestSet\")\n",
    "        print(\"Done\")\n",
    "        \n",
    "print(\"Loading train_x...\")\n",
    "ftrain_x = np.load(\"FinalTrainTestSet/train_x.npy\")\n",
    "print(\"Done\")\n",
    "\n",
    "print(\"Loading train_y...\")\n",
    "ftrain_y = np.load(\"FinalTrainTestSet/train_y.npy\")\n",
    "print(\"Done\")\n",
    "\n",
    "print(\"Loading test_x...\")\n",
    "ftest_x = np.load(\"FinalTrainTestSet/test_x.npy\")\n",
    "print(\"Done\")\n",
    "\n",
    "print(\"Loading test_y...\")\n",
    "ftest_y = np.load(\"FinalTrainTestSet/test_y.npy\")\n",
    "print(\"Done\")"
   ]
  },
  {
   "cell_type": "markdown",
   "id": "ff2653fe",
   "metadata": {},
   "source": [
    "## Create and train model"
   ]
  },
  {
   "cell_type": "code",
   "execution_count": 13,
   "id": "1dac53ad",
   "metadata": {},
   "outputs": [
    {
     "name": "stdout",
     "output_type": "stream",
     "text": [
      "Epoch 1/10\n",
      "\u001b[1m50/50\u001b[0m \u001b[32m━━━━━━━━━━━━━━━━━━━━\u001b[0m\u001b[37m\u001b[0m \u001b[1m19s\u001b[0m 98ms/step - accuracy: 0.6239 - loss: 2.9860\n",
      "Epoch 2/10\n",
      "\u001b[1m50/50\u001b[0m \u001b[32m━━━━━━━━━━━━━━━━━━━━\u001b[0m\u001b[37m\u001b[0m \u001b[1m5s\u001b[0m 92ms/step - accuracy: 0.8238 - loss: 0.3819 \n",
      "Epoch 3/10\n",
      "\u001b[1m50/50\u001b[0m \u001b[32m━━━━━━━━━━━━━━━━━━━━\u001b[0m\u001b[37m\u001b[0m \u001b[1m5s\u001b[0m 92ms/step - accuracy: 0.9040 - loss: 0.2350\n",
      "Epoch 4/10\n",
      "\u001b[1m50/50\u001b[0m \u001b[32m━━━━━━━━━━━━━━━━━━━━\u001b[0m\u001b[37m\u001b[0m \u001b[1m5s\u001b[0m 92ms/step - accuracy: 0.9523 - loss: 0.1249\n",
      "Epoch 5/10\n",
      "\u001b[1m50/50\u001b[0m \u001b[32m━━━━━━━━━━━━━━━━━━━━\u001b[0m\u001b[37m\u001b[0m \u001b[1m5s\u001b[0m 91ms/step - accuracy: 0.9808 - loss: 0.0594\n",
      "Epoch 6/10\n",
      "\u001b[1m50/50\u001b[0m \u001b[32m━━━━━━━━━━━━━━━━━━━━\u001b[0m\u001b[37m\u001b[0m \u001b[1m5s\u001b[0m 91ms/step - accuracy: 0.9766 - loss: 0.0618\n",
      "Epoch 7/10\n",
      "\u001b[1m50/50\u001b[0m \u001b[32m━━━━━━━━━━━━━━━━━━━━\u001b[0m\u001b[37m\u001b[0m \u001b[1m5s\u001b[0m 92ms/step - accuracy: 0.9676 - loss: 0.0882\n",
      "Epoch 8/10\n",
      "\u001b[1m50/50\u001b[0m \u001b[32m━━━━━━━━━━━━━━━━━━━━\u001b[0m\u001b[37m\u001b[0m \u001b[1m5s\u001b[0m 94ms/step - accuracy: 0.9804 - loss: 0.0539\n",
      "Epoch 9/10\n",
      "\u001b[1m50/50\u001b[0m \u001b[32m━━━━━━━━━━━━━━━━━━━━\u001b[0m\u001b[37m\u001b[0m \u001b[1m5s\u001b[0m 91ms/step - accuracy: 1.0000 - loss: 0.0060\n",
      "Epoch 10/10\n",
      "\u001b[1m50/50\u001b[0m \u001b[32m━━━━━━━━━━━━━━━━━━━━\u001b[0m\u001b[37m\u001b[0m \u001b[1m5s\u001b[0m 91ms/step - accuracy: 1.0000 - loss: 0.0013    \n"
     ]
    },
    {
     "data": {
      "text/plain": [
       "<keras.src.callbacks.history.History at 0x7f958edd0370>"
      ]
     },
     "execution_count": 13,
     "metadata": {},
     "output_type": "execute_result"
    }
   ],
   "source": [
    "pretrained_model = tf.keras.applications.ResNet50(\n",
    "    include_top=False,\n",
    "    weights=\"imagenet\",\n",
    "    input_shape=(227, 227, 3),\n",
    "    name=\"resnet50\",\n",
    "    )\n",
    "\n",
    "for layer in pretrained_model.layers[:75]:\n",
    "    layer.trainable = False\n",
    "\n",
    "    \n",
    "cnn = models.Sequential([\n",
    "    pretrained_model,\n",
    "    layers.Flatten(),\n",
    "    layers.Dense(128, activation=\"relu\"),\n",
    "    layers.Dense(64, activation=\"relu\"),\n",
    "    layers.Dense(1, activation=\"sigmoid\")\n",
    "])\n",
    "    \n",
    "cnn.compile(optimizer=\"SGD\", loss=\"binary_crossentropy\",  metrics=[\"accuracy\"])\n",
    "\n",
    "log_dir = \"logs/fit/\" + name + \"-Final\"\n",
    "tensorboard_callback = tf.keras.callbacks.TensorBoard(log_dir=log_dir, update_freq='epoch')\n",
    "\n",
    "cnn.fit(ftrain_x, ftrain_y, epochs=epochs, steps_per_epoch=steps, callbacks=[tensorboard_callback])\n",
    "\n",
    "#cnn.save(\"CNN/\" + name + \"/\" + name + \".keras\")"
   ]
  },
  {
   "cell_type": "markdown",
   "id": "316401fd",
   "metadata": {},
   "source": [
    "## Open Tensorboard for train time"
   ]
  },
  {
   "cell_type": "code",
   "execution_count": null,
   "id": "f9ffd8a5",
   "metadata": {},
   "outputs": [],
   "source": [
    "%tensorboard --logdir=\"logs/\" --host=127.0.0.1 "
   ]
  },
  {
   "cell_type": "markdown",
   "id": "b82a6bf1",
   "metadata": {},
   "source": [
    "## Generate prediction set"
   ]
  },
  {
   "cell_type": "code",
   "execution_count": 14,
   "id": "527bab2a",
   "metadata": {},
   "outputs": [],
   "source": [
    "pred_y = np.empty([200, 1])\n",
    "meta = np.empty([1, 227, 227, 3])\n",
    "\n",
    "for i in range(0, ftest_x.shape[0]):\n",
    "    meta[0] = ftest_x[i]\n",
    "    pred_value = cnn.predict(meta, verbose=0)[0][0]\n",
    "    \n",
    "    if pred_value > 0.5:\n",
    "        pred = 1\n",
    "    else:\n",
    "        pred = 0\n",
    "        \n",
    "    pred_y[i] = pred"
   ]
  },
  {
   "cell_type": "markdown",
   "id": "10f5ff4c",
   "metadata": {},
   "source": [
    "## Graph confusion matrix"
   ]
  },
  {
   "cell_type": "code",
   "execution_count": 15,
   "id": "5d2b22a3",
   "metadata": {},
   "outputs": [
    {
     "data": {
      "image/png": "[encoded data removed]",
      "text/plain": [
       "<Figure size 640x480 with 2 Axes>"
      ]
     },
     "metadata": {},
     "output_type": "display_data"
    }
   ],
   "source": [
    "from sklearn.metrics import confusion_matrix, ConfusionMatrixDisplay, classification_report\n",
    "\n",
    "cm = confusion_matrix(ftest_y, pred_y)\n",
    "disp = ConfusionMatrixDisplay(confusion_matrix = cm, display_labels=[\"Edible\", \"Poisonous\"])\n",
    "disp.plot(cmap=plt.cm.Blues).figure_.savefig(\"CNN/\" + name + \"/\" + name + \"_ConfusionMatrix.svg\")"
   ]
  },
  {
   "cell_type": "markdown",
   "id": "2fa1441b",
   "metadata": {},
   "source": [
    "## CNN Metrics"
   ]
  },
  {
   "cell_type": "code",
   "execution_count": 16,
   "id": "db3219e3",
   "metadata": {},
   "outputs": [
    {
     "name": "stdout",
     "output_type": "stream",
     "text": [
      "ResNet50:\n",
      "Accuracy  97.50 %\n",
      "Precision 98.72 %\n",
      "Recall    98.09 %\n",
      "F1        98.40 %\n"
     ]
    }
   ],
   "source": [
    "tp = cm[0][0]\n",
    "fp = cm[0][1]\n",
    "fn = cm[1][0]\n",
    "tn = cm[1][1]\n",
    "\n",
    "accuracy = (tp + tn) / (tp + tn + fn + fp)\n",
    "precision = tp / (tp + fp)\n",
    "recall = tp / (tp + fn)\n",
    "f1 = (precision *  recall) / (precision + recall)\n",
    "f1 *= 2\n",
    "\n",
    "print(name + \":\")\n",
    "print(\"Accuracy  {:0.2f} %\".format(accuracy * 100))\n",
    "print(\"Precision {:0.2f} %\".format(precision * 100))\n",
    "print(\"Recall    {:0.2f} %\".format(recall * 100))\n",
    "print(\"F1        {:0.2f} %\".format(f1 * 100))"
   ]
  }
 ],
 "metadata": {
  "kernelspec": {
   "display_name": "Python 3 (ipykernel)",
   "language": "python",
   "name": "python3"
  },
  "language_info": {
   "codemirror_mode": {
    "name": "ipython",
    "version": 3
   },
   "file_extension": ".py",
   "mimetype": "text/x-python",
   "name": "python",
   "nbconvert_exporter": "python",
   "pygments_lexer": "ipython3",
   "version": "3.9.21"
  }
 },
 "nbformat": 4,
 "nbformat_minor": 5
}
