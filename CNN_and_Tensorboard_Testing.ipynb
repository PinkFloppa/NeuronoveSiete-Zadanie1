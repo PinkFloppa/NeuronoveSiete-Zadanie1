{
 "cells": [
  {
   "cell_type": "markdown",
   "id": "8bee38a3",
   "metadata": {},
   "source": [
    "## Check for constructed dataset"
   ]
  },
  {
   "cell_type": "code",
   "execution_count": 4,
   "id": "8fe06c54",
   "metadata": {},
   "outputs": [
    {
     "name": "stdout",
     "output_type": "stream",
     "text": [
      "Dataset files found, loading...\n",
      "Done\n"
     ]
    }
   ],
   "source": [
    "import os\n",
    "import numpy as np\n",
    "from ipynb.fs.full.Dataset_Construction_Isolated import construct_dataset\n",
    "\n",
    "lst = os.listdir() \n",
    "if (\"mushroom_dataset_x.npy\" not in lst) or (\"mushroom_dataset_y.npy\" not in lst):\n",
    "    print(\"Dataset files not found, contructing...\")\n",
    "    dataset_x, dataset_y = construct_dataset()\n",
    "else:\n",
    "    print(\"Dataset files found, loading...\")\n",
    "    dataset_x = np.load(\"mushroom_dataset_x.npy\")\n",
    "    dataset_y = np.load(\"mushroom_dataset_y.npy\")\n",
    "    print(\"Done\")"
   ]
  },
  {
   "cell_type": "markdown",
   "id": "48ce1112",
   "metadata": {},
   "source": [
    "## Test CNN "
   ]
  },
  {
   "cell_type": "code",
   "execution_count": 12,
   "id": "d6738b03",
   "metadata": {},
   "outputs": [],
   "source": [
    "import tensorflow as tf\n",
    "from tensorflow.keras import layers, models, datasets\n",
    "    \n",
    "cnn = models.Sequential([\n",
    "    tf.keras.Input(shape=(227, 227, 3), batch_size=40),\n",
    "    layers.Conv2D(filters=32, kernel_size=(3, 3), activation=\"relu\"),\n",
    "    layers.MaxPooling2D((2,2)),\n",
    "    \n",
    "    layers.Conv2D(filters=32, kernel_size=(3, 3), activation=\"relu\"),\n",
    "    layers.MaxPooling2D((2,2)),\n",
    "    \n",
    "    layers.Flatten(),\n",
    "    layers.Dense(64, activation=\"relu\"),\n",
    "    layers.Dense(1, activation=\"sigmoid\")\n",
    "])\n",
    "\n",
    "cnn.compile(optimizer=\"adam\", loss=\"binary_crossentropy\", metrics=[\"accuracy\"])"
   ]
  },
  {
   "cell_type": "code",
   "execution_count": 13,
   "id": "bcd43fc2",
   "metadata": {},
   "outputs": [
    {
     "name": "stdout",
     "output_type": "stream",
     "text": [
      "Epoch 1/5\n",
      "\u001b[1m50/50\u001b[0m \u001b[32m━━━━━━━━━━━━━━━━━━━━\u001b[0m\u001b[37m\u001b[0m \u001b[1m24s\u001b[0m 403ms/step - accuracy: 0.5771 - false_negatives: 188.7451 - false_positives: 205.8627 - loss: 1.0686 - true_negatives: 564.4117 - true_positives: 80.1961\n",
      "Epoch 2/5\n",
      "\u001b[1m50/50\u001b[0m \u001b[32m━━━━━━━━━━━━━━━━━━━━\u001b[0m\u001b[37m\u001b[0m \u001b[1m22s\u001b[0m 446ms/step - accuracy: 0.7861 - false_negatives: 206.0588 - false_positives: 18.9020 - loss: 0.4681 - true_negatives: 750.6274 - true_positives: 63.6275\n",
      "Epoch 3/5\n",
      "\u001b[1m50/50\u001b[0m \u001b[32m━━━━━━━━━━━━━━━━━━━━\u001b[0m\u001b[37m\u001b[0m \u001b[1m21s\u001b[0m 413ms/step - accuracy: 0.8636 - false_negatives: 102.8235 - false_positives: 35.1569 - loss: 0.3236 - true_negatives: 731.5686 - true_positives: 169.6667\n",
      "Epoch 4/5\n",
      "\u001b[1m50/50\u001b[0m \u001b[32m━━━━━━━━━━━━━━━━━━━━\u001b[0m\u001b[37m\u001b[0m \u001b[1m21s\u001b[0m 412ms/step - accuracy: 0.9130 - false_negatives: 59.0000 - false_positives: 34.5098 - loss: 0.2133 - true_negatives: 734.8235 - true_positives: 210.8824\n",
      "Epoch 5/5\n",
      "\u001b[1m50/50\u001b[0m \u001b[32m━━━━━━━━━━━━━━━━━━━━\u001b[0m\u001b[37m\u001b[0m \u001b[1m20s\u001b[0m 408ms/step - accuracy: 0.9425 - false_negatives: 39.1176 - false_positives: 19.6471 - loss: 0.1523 - true_negatives: 743.9216 - true_positives: 236.5294\n"
     ]
    }
   ],
   "source": [
    "history = cnn.fit(dataset_x, dataset_y, epochs=5, steps_per_epoch=50)"
   ]
  },
  {
   "cell_type": "markdown",
   "id": "122d954c",
   "metadata": {},
   "source": [
    "## Tensorboard Test"
   ]
  },
  {
   "cell_type": "code",
   "execution_count": null,
   "id": "9fb2469c",
   "metadata": {},
   "outputs": [],
   "source": [
    "%load_ext tensorboard"
   ]
  },
  {
   "cell_type": "code",
   "execution_count": null,
   "id": "13683c73",
   "metadata": {},
   "outputs": [],
   "source": [
    "import tensorflow as tf\n",
    "import datetime, os\n",
    "\n",
    "mnist = tf.keras.datasets.mnist\n",
    "\n",
    "fashion_mnist = tf.keras.datasets.fashion_mnist\n",
    "\n",
    "(x_train, y_train),(x_test, y_test) = fashion_mnist.load_data()\n",
    "x_train, x_test = x_train / 255.0, x_test / 255.0\n",
    "\n",
    "def create_model():\n",
    "  return tf.keras.models.Sequential([\n",
    "    tf.keras.layers.Flatten(input_shape=(28, 28), name='layers_flatten'),\n",
    "    tf.keras.layers.Dense(512, activation='relu', name='layers_dense'),\n",
    "    tf.keras.layers.Dropout(0.2, name='layers_dropout'),\n",
    "    tf.keras.layers.Dense(10, activation='softmax', name='layers_dense_2')\n",
    "  ])\n",
    "\n",
    "def train_model():\n",
    "\n",
    "  model = create_model()\n",
    "  model.compile(optimizer='adam',\n",
    "                loss='sparse_categorical_crossentropy',\n",
    "                metrics=['accuracy'])\n",
    "\n",
    "  tensorboard_callback = tf.keras.callbacks.TensorBoard(\"C:/Users/Smity/Desktop/Neuronove siete/GitHub/NeuronoveSiete-Zadanie1/logs\", histogram_freq=1)\n",
    "\n",
    "  model.fit(x=x_train, \n",
    "            y=y_train, \n",
    "            epochs=5, \n",
    "            validation_data=(x_test, y_test), \n",
    "            callbacks=[tensorboard_callback])\n",
    "\n",
    "train_model()"
   ]
  },
  {
   "cell_type": "code",
   "execution_count": null,
   "id": "7331859c",
   "metadata": {},
   "outputs": [],
   "source": [
    "%tensorboard --logdir logs"
   ]
  }
 ],
 "metadata": {
  "kernelspec": {
   "display_name": "Python 3 (ipykernel)",
   "language": "python",
   "name": "python3"
  },
  "language_info": {
   "codemirror_mode": {
    "name": "ipython",
    "version": 3
   },
   "file_extension": ".py",
   "mimetype": "text/x-python",
   "name": "python",
   "nbconvert_exporter": "python",
   "pygments_lexer": "ipython3",
   "version": "3.11.5"
  }
 },
 "nbformat": 4,
 "nbformat_minor": 5
}
