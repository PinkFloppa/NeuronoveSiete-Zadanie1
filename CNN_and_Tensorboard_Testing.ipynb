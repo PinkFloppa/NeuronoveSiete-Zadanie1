{
 "cells": [
  {
   "cell_type": "markdown",
   "id": "8bee38a3",
   "metadata": {},
   "source": [
    "## Check for constructed dataset"
   ]
  },
  {
   "cell_type": "code",
   "execution_count": 1,
   "id": "8fe06c54",
   "metadata": {},
   "outputs": [
    {
     "name": "stdout",
     "output_type": "stream",
     "text": [
      "Dataset files found, loading...\n",
      "Done\n"
     ]
    }
   ],
   "source": [
    "import os\n",
    "import numpy as np\n",
    "from ipynb.fs.full.Dataset_Construction_Isolated import construct_dataset\n",
    "\n",
    "lst = os.listdir() \n",
    "if (\"mushroom_dataset_x.npy\" not in lst) or (\"mushroom_dataset_y.npy\" not in lst):\n",
    "    print(\"Dataset files not found, contructing...\")\n",
    "    dataset_x, dataset_y = construct_dataset()\n",
    "else:\n",
    "    print(\"Dataset files found, loading...\")\n",
    "    dataset_x = np.load(\"mushroom_dataset_x.npy\")\n",
    "    dataset_y = np.load(\"mushroom_dataset_y.npy\")\n",
    "    print(\"Done\")"
   ]
  },
  {
   "cell_type": "markdown",
   "id": "93bb51ba",
   "metadata": {},
   "source": [
    "## Test CNN with Tensorboard"
   ]
  },
  {
   "cell_type": "code",
   "execution_count": 2,
   "id": "9fb2469c",
   "metadata": {},
   "outputs": [],
   "source": [
    "%load_ext tensorboard"
   ]
  },
  {
   "cell_type": "code",
   "execution_count": 3,
   "id": "d6738b03",
   "metadata": {},
   "outputs": [],
   "source": [
    "import tensorflow as tf\n",
    "import datetime, os\n",
    "from tensorflow.keras import layers, models, datasets\n",
    "\n",
    "epochs = 5\n",
    "steps = 50\n",
    "batch = 40\n",
    "    \n",
    "cnn = models.Sequential([\n",
    "    tf.keras.Input(shape=(227, 227, 3), batch_size=batch),\n",
    "    layers.Conv2D(filters=32, kernel_size=(3, 3), activation=\"relu\"),\n",
    "    layers.MaxPooling2D((2,2)),\n",
    "    \n",
    "    layers.Conv2D(filters=32, kernel_size=(3, 3), activation=\"relu\"),\n",
    "    layers.MaxPooling2D((2,2)),\n",
    "    \n",
    "    layers.Flatten(),\n",
    "    layers.Dense(64, activation=\"relu\"),\n",
    "    layers.Dense(1, activation=\"sigmoid\")\n",
    "])\n",
    "\n",
    "cnn.compile(optimizer=\"adam\", loss=\"binary_crossentropy\",  metrics=[\"accuracy\"])\n",
    "\n",
    "log_dir = \"logs/fit/\" + datetime.datetime.now().strftime(\"%Y%m%d-%H%M%S\")\n",
    "tensorboard_callback = tf.keras.callbacks.TensorBoard(log_dir=log_dir, update_freq='batch')  "
   ]
  },
  {
   "cell_type": "code",
   "execution_count": 4,
   "id": "bcd43fc2",
   "metadata": {},
   "outputs": [
    {
     "name": "stdout",
     "output_type": "stream",
     "text": [
      "Epoch 1/5\n",
      "\u001b[1m50/50\u001b[0m \u001b[32m━━━━━━━━━━━━━━━━━━━━\u001b[0m\u001b[37m\u001b[0m \u001b[1m24s\u001b[0m 416ms/step - accuracy: 0.7812 - loss: 0.6923 - val_accuracy: 0.0150 - val_loss: 1.4329\n",
      "Epoch 2/5\n",
      "\u001b[1m50/50\u001b[0m \u001b[32m━━━━━━━━━━━━━━━━━━━━\u001b[0m\u001b[37m\u001b[0m \u001b[1m20s\u001b[0m 396ms/step - accuracy: 0.8674 - loss: 0.3242 - val_accuracy: 0.0550 - val_loss: 1.9355\n",
      "Epoch 3/5\n",
      "\u001b[1m50/50\u001b[0m \u001b[32m━━━━━━━━━━━━━━━━━━━━\u001b[0m\u001b[37m\u001b[0m \u001b[1m20s\u001b[0m 395ms/step - accuracy: 0.9032 - loss: 0.2297 - val_accuracy: 0.0500 - val_loss: 2.0559\n",
      "Epoch 4/5\n",
      "\u001b[1m50/50\u001b[0m \u001b[32m━━━━━━━━━━━━━━━━━━━━\u001b[0m\u001b[37m\u001b[0m \u001b[1m20s\u001b[0m 403ms/step - accuracy: 0.9379 - loss: 0.1600 - val_accuracy: 0.1500 - val_loss: 1.3691\n",
      "Epoch 5/5\n",
      "\u001b[1m50/50\u001b[0m \u001b[32m━━━━━━━━━━━━━━━━━━━━\u001b[0m\u001b[37m\u001b[0m \u001b[1m20s\u001b[0m 395ms/step - accuracy: 0.9383 - loss: 0.1627 - val_accuracy: 0.2000 - val_loss: 2.2798\n"
     ]
    }
   ],
   "source": [
    "history = cnn.fit(dataset_x, \n",
    "                  dataset_y, validation_split=0.1, epochs=epochs, steps_per_epoch=steps, callbacks=[tensorboard_callback])"
   ]
  },
  {
   "cell_type": "code",
   "execution_count": null,
   "id": "4109f562",
   "metadata": {},
   "outputs": [],
   "source": [
    "%tensorboard --logdir=\"logs/\" --host=127.0.0.1 "
   ]
  },
  {
   "cell_type": "markdown",
   "id": "122d954c",
   "metadata": {},
   "source": [
    "## Tensorboard Test"
   ]
  },
  {
   "cell_type": "code",
   "execution_count": null,
   "id": "13683c73",
   "metadata": {},
   "outputs": [],
   "source": [
    "import tensorflow as tf\n",
    "import datetime, os\n",
    "\n",
    "mnist = tf.keras.datasets.mnist\n",
    "\n",
    "fashion_mnist = tf.keras.datasets.fashion_mnist\n",
    "\n",
    "(x_train, y_train),(x_test, y_test) = fashion_mnist.load_data()\n",
    "x_train, x_test = x_train / 255.0, x_test / 255.0\n",
    "\n",
    "def create_model():\n",
    "  return tf.keras.models.Sequential([\n",
    "    tf.keras.layers.Flatten(input_shape=(28, 28), name='layers_flatten'),\n",
    "    tf.keras.layers.Dense(512, activation='relu', name='layers_dense'),\n",
    "    tf.keras.layers.Dropout(0.2, name='layers_dropout'),\n",
    "    tf.keras.layers.Dense(10, activation='softmax', name='layers_dense_2')\n",
    "  ])\n",
    "\n",
    "def train_model():\n",
    "\n",
    "  model = create_model()\n",
    "  model.compile(optimizer='adam', loss='sparse_categorical_crossentropy', metrics=['accuracy'])\n",
    "\n",
    "  log_dir = \"logs/fit/\" + datetime.datetime.now().strftime(\"%Y%m%d-%H%M%S\")\n",
    "  tensorboard_callback = tf.keras.callbacks.TensorBoard(log_dir=log_dir, update_freq='batch')  \n",
    "\n",
    "  model.fit(x=x_train, y=y_train, epochs=5, validation_data=(x_test, y_test), callbacks=[tensorboard_callback])\n",
    "\n",
    "train_model()"
   ]
  },
  {
   "cell_type": "markdown",
   "id": "427d892e",
   "metadata": {},
   "source": [
    "## Alternative to Tensorboard logging"
   ]
  },
  {
   "cell_type": "code",
   "execution_count": null,
   "id": "683cd282",
   "metadata": {},
   "outputs": [],
   "source": [
    "from tensorflow.keras.callbacks import Callback\n",
    "\n",
    "class StepLogger(Callback):\n",
    "\n",
    "    def __init__(self, logs={}):\n",
    "        self.a = []\n",
    "        \n",
    "    def on_train_batch_end(self, batch, logs={}):\n",
    "        self.a.append(logs[\"accuracy\"])"
   ]
  }
 ],
 "metadata": {
  "kernelspec": {
   "display_name": "Python 3 (ipykernel)",
   "language": "python",
   "name": "python3"
  },
  "language_info": {
   "codemirror_mode": {
    "name": "ipython",
    "version": 3
   },
   "file_extension": ".py",
   "mimetype": "text/x-python",
   "name": "python",
   "nbconvert_exporter": "python",
   "pygments_lexer": "ipython3",
   "version": "3.11.5"
  }
 },
 "nbformat": 4,
 "nbformat_minor": 5
}
