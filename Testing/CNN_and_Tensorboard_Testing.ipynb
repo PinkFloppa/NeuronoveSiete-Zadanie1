{
 "cells": [
  {
   "cell_type": "markdown",
   "id": "8bee38a3",
   "metadata": {},
   "source": [
    "## Check for constructed dataset"
   ]
  },
  {
   "cell_type": "code",
   "execution_count": 32,
   "id": "8fe06c54",
   "metadata": {},
   "outputs": [
    {
     "name": "stdout",
     "output_type": "stream",
     "text": [
      "Dataset files found, loading...\n",
      "Done\n"
     ]
    }
   ],
   "source": [
    "import os\n",
    "import numpy as np\n",
    "from ipynb.fs.full.Dataset_Construction_Isolated import construct_dataset\n",
    "import matplotlib.pyplot as plt\n",
    "import matplotlib.image as plt_img\n",
    "\n",
    "lst = os.listdir() \n",
    "if (\"mushroom_dataset_x.npy\" not in lst) or (\"mushroom_dataset_y.npy\" not in lst):\n",
    "    print(\"Dataset files not found, contructing...\")\n",
    "    dataset_x, dataset_y = construct_dataset()\n",
    "else:\n",
    "    print(\"Dataset files found, loading...\")\n",
    "    dataset_x = np.load(\"mushroom_dataset_x.npy\")\n",
    "    dataset_y = np.load(\"mushroom_dataset_y.npy\")\n",
    "    print(\"Done\")"
   ]
  },
  {
   "cell_type": "markdown",
   "id": "93bb51ba",
   "metadata": {},
   "source": [
    "## Test CNN with Tensorboard"
   ]
  },
  {
   "cell_type": "code",
   "execution_count": null,
   "id": "9fb2469c",
   "metadata": {},
   "outputs": [],
   "source": [
    "%load_ext tensorboard"
   ]
  },
  {
   "cell_type": "code",
   "execution_count": 2,
   "id": "d6738b03",
   "metadata": {},
   "outputs": [],
   "source": [
    "import tensorflow as tf\n",
    "import datetime, os\n",
    "from tensorflow.keras import layers, models, datasets\n",
    "\n",
    "epochs = 5\n",
    "steps = 50\n",
    "batch = 40\n",
    "    \n",
    "cnn = models.Sequential([\n",
    "    tf.keras.Input(shape=(227, 227, 3), batch_size=batch),\n",
    "    layers.Conv2D(filters=32, kernel_size=(3, 3), activation=\"relu\"),\n",
    "    layers.MaxPooling2D((2,2)),\n",
    "    \n",
    "    layers.Conv2D(filters=32, kernel_size=(3, 3), activation=\"relu\"),\n",
    "    layers.MaxPooling2D((2,2)),\n",
    "    \n",
    "    layers.Flatten(),\n",
    "    layers.Dense(64, activation=\"relu\"),\n",
    "    layers.Dense(1, activation=\"sigmoid\")\n",
    "])\n",
    "\n",
    "cnn.compile(optimizer=\"adam\", loss=\"binary_crossentropy\",  metrics=[\"accuracy\"])\n",
    "\n",
    "log_dir = \"logs/fit/\" + datetime.datetime.now().strftime(\"%Y%m%d-%H%M%S\")\n",
    "tensorboard_callback = tf.keras.callbacks.TensorBoard(log_dir=log_dir, update_freq='batch')  "
   ]
  },
  {
   "cell_type": "code",
   "execution_count": 3,
   "id": "bcd43fc2",
   "metadata": {},
   "outputs": [
    {
     "name": "stdout",
     "output_type": "stream",
     "text": [
      "Epoch 1/5\n",
      "\u001b[1m50/50\u001b[0m \u001b[32m━━━━━━━━━━━━━━━━━━━━\u001b[0m\u001b[37m\u001b[0m \u001b[1m26s\u001b[0m 447ms/step - accuracy: 0.7624 - loss: 0.8231 - val_accuracy: 0.0000e+00 - val_loss: 1.2297\n",
      "Epoch 2/5\n",
      "\u001b[1m50/50\u001b[0m \u001b[32m━━━━━━━━━━━━━━━━━━━━\u001b[0m\u001b[37m\u001b[0m \u001b[1m21s\u001b[0m 410ms/step - accuracy: 0.8117 - loss: 0.4247 - val_accuracy: 0.0000e+00 - val_loss: 1.7698\n",
      "Epoch 3/5\n",
      "\u001b[1m50/50\u001b[0m \u001b[32m━━━━━━━━━━━━━━━━━━━━\u001b[0m\u001b[37m\u001b[0m \u001b[1m20s\u001b[0m 393ms/step - accuracy: 0.8242 - loss: 0.3127 - val_accuracy: 0.0000e+00 - val_loss: 1.9352\n",
      "Epoch 4/5\n",
      "\u001b[1m50/50\u001b[0m \u001b[32m━━━━━━━━━━━━━━━━━━━━\u001b[0m\u001b[37m\u001b[0m \u001b[1m20s\u001b[0m 394ms/step - accuracy: 0.8613 - loss: 0.2548 - val_accuracy: 0.0250 - val_loss: 1.8462\n",
      "Epoch 5/5\n",
      "\u001b[1m50/50\u001b[0m \u001b[32m━━━━━━━━━━━━━━━━━━━━\u001b[0m\u001b[37m\u001b[0m \u001b[1m20s\u001b[0m 393ms/step - accuracy: 0.8997 - loss: 0.2256 - val_accuracy: 0.0900 - val_loss: 1.9603\n"
     ]
    }
   ],
   "source": [
    "history = cnn.fit(dataset_x, \n",
    "                  dataset_y, validation_split=0.1, epochs=epochs, steps_per_epoch=steps, callbacks=[tensorboard_callback])"
   ]
  },
  {
   "cell_type": "code",
   "execution_count": null,
   "id": "4109f562",
   "metadata": {},
   "outputs": [],
   "source": [
    "%tensorboard --logdir=\"logs/\" --host=127.0.0.1 "
   ]
  },
  {
   "cell_type": "markdown",
   "id": "9fcacf59",
   "metadata": {},
   "source": [
    "## Evaluation of the CNN"
   ]
  },
  {
   "cell_type": "markdown",
   "id": "c5839ef8",
   "metadata": {},
   "source": [
    "### Method that returns a shuffled dataset"
   ]
  },
  {
   "cell_type": "code",
   "execution_count": 102,
   "id": "bb04fa84",
   "metadata": {},
   "outputs": [],
   "source": [
    "def shuffle_dataset(data_x, data_y):\n",
    "    data_count = data_x.shape[0]\n",
    "    shuffle_index = np.empty([data_count], dtype=np.int32)\n",
    "    \n",
    "    new_x = np.empty(data_x.shape)\n",
    "    new_y = np.empty(data_y.shape)\n",
    "    \n",
    "    for i in range(0, data_count):\n",
    "        shuffle_index[i] = i\n",
    "        \n",
    "    np.random.shuffle(shuffle_index)\n",
    "    \n",
    "    for i in range(0, data_count):\n",
    "        random_index = shuffle_index[i]\n",
    "        \n",
    "        #if i == 500:\n",
    "            #idx = random_index\n",
    "        \n",
    "        new_x[i] = data_x[random_index]\n",
    "        new_y[i] = data_y[random_index]\n",
    "        \n",
    "    return new_x, new_y"
   ]
  },
  {
   "cell_type": "markdown",
   "id": "7b1d1079",
   "metadata": {},
   "source": [
    "### Method that returns n_count random samples from dataset"
   ]
  },
  {
   "cell_type": "code",
   "execution_count": 107,
   "id": "30870120",
   "metadata": {},
   "outputs": [],
   "source": [
    "def sample_dataset(data_x, data_y, n_count):\n",
    "    x_shape = [n_count, data_x.shape[1], data_x.shape[2], data_x.shape[3]]\n",
    "    y_shape = [n_count, data_y.shape[1]]\n",
    "    \n",
    "    new_x = np.empty(x_shape)\n",
    "    new_y = np.empty(y_shape)\n",
    "    \n",
    "    for i in range(0, n_count):\n",
    "        random_index = np.random.randint(0, data_x.shape[0])\n",
    "        new_x[i] = data_x[random_index]\n",
    "        new_y[i] = data_y[random_index]\n",
    "        \n",
    "    return new_x, new_y"
   ]
  },
  {
   "cell_type": "markdown",
   "id": "e9941e7d",
   "metadata": {},
   "source": [
    "## Shuffling dataset"
   ]
  },
  {
   "cell_type": "code",
   "execution_count": 110,
   "id": "0eb668ed",
   "metadata": {},
   "outputs": [],
   "source": [
    "shuffle_x, shuffle_y = shuffle_dataset(dataset_x, dataset_y)"
   ]
  },
  {
   "cell_type": "markdown",
   "id": "87541e89",
   "metadata": {},
   "source": [
    "## Taking random of sample of 200 as test set"
   ]
  },
  {
   "cell_type": "code",
   "execution_count": 145,
   "id": "69974987",
   "metadata": {},
   "outputs": [],
   "source": [
    "test_x, test_y = sample_dataset(shuffle_x, shuffle_y, 200)"
   ]
  },
  {
   "cell_type": "markdown",
   "id": "e00f2807",
   "metadata": {},
   "source": [
    "## Generate prediction set"
   ]
  },
  {
   "cell_type": "code",
   "execution_count": 169,
   "id": "fe7b6850",
   "metadata": {},
   "outputs": [],
   "source": [
    "pred_y = np.empty([200, 1])\n",
    "meta = np.empty([1, 227, 227, 3])\n",
    "\n",
    "for i in range(0, test_x.shape[0]):\n",
    "    meta[0] = test_x[i]\n",
    "    pred_value = cnn.predict(meta, verbose=0)[0][0]\n",
    "    \n",
    "    if pred_value > 0.5:\n",
    "        pred = 1\n",
    "    else:\n",
    "        pred = 0\n",
    "        \n",
    "    pred_y[i] = pred"
   ]
  },
  {
   "cell_type": "markdown",
   "id": "7e35c122",
   "metadata": {},
   "source": [
    "## Graph confusion matrix"
   ]
  },
  {
   "cell_type": "code",
   "execution_count": 179,
   "id": "91e89203",
   "metadata": {},
   "outputs": [
    {
     "data": {
      "image/png": "[encoded data removed]",
      "text/plain": [
       "<Figure size 640x480 with 2 Axes>"
      ]
     },
     "metadata": {},
     "output_type": "display_data"
    }
   ],
   "source": [
    "from sklearn.metrics import confusion_matrix, ConfusionMatrixDisplay\n",
    "\n",
    "cm = confusion_matrix(test_y, pred_y)\n",
    "disp = ConfusionMatrixDisplay(confusion_matrix = cm, display_labels=[\"Edible\", \"Poisonous\"])\n",
    "disp.plot(cmap=plt.cm.Blues).figure_.savefig(\"cm.svg\")"
   ]
  },
  {
   "cell_type": "markdown",
   "id": "e561289b",
   "metadata": {},
   "source": [
    "## CNN Metrics"
   ]
  },
  {
   "cell_type": "code",
   "execution_count": 192,
   "id": "8477004b",
   "metadata": {},
   "outputs": [
    {
     "name": "stdout",
     "output_type": "stream",
     "text": [
      "0.855 0.9863945578231292 0.8430232558139535 0.9090909090909091\n"
     ]
    }
   ],
   "source": [
    "tp = cm[0][0]\n",
    "fp = cm[0][1]\n",
    "fn = cm[1][0]\n",
    "tn = cm[1][1]\n",
    "\n",
    "accuracy = (tp + tn) / (tp + tn + fn + fp)\n",
    "precision = tp / (tp + fp)\n",
    "recall = tp / (tp + fn)\n",
    "f1 = (precision *  recall) / (precision + recall)\n",
    "f1 *= 2\n",
    "\n",
    "print(accuracy, precision, recall, f1)"
   ]
  },
  {
   "cell_type": "markdown",
   "id": "122d954c",
   "metadata": {},
   "source": [
    "## Tensorboard Test"
   ]
  },
  {
   "cell_type": "code",
   "execution_count": null,
   "id": "13683c73",
   "metadata": {},
   "outputs": [],
   "source": [
    "import tensorflow as tf\n",
    "import datetime, os\n",
    "\n",
    "mnist = tf.keras.datasets.mnist\n",
    "\n",
    "fashion_mnist = tf.keras.datasets.fashion_mnist\n",
    "\n",
    "(x_train, y_train),(x_test, y_test) = fashion_mnist.load_data()\n",
    "x_train, x_test = x_train / 255.0, x_test / 255.0\n",
    "\n",
    "def create_model():\n",
    "  return tf.keras.models.Sequential([\n",
    "    tf.keras.layers.Flatten(input_shape=(28, 28), name='layers_flatten'),\n",
    "    tf.keras.layers.Dense(512, activation='relu', name='layers_dense'),\n",
    "    tf.keras.layers.Dropout(0.2, name='layers_dropout'),\n",
    "    tf.keras.layers.Dense(10, activation='softmax', name='layers_dense_2')\n",
    "  ])\n",
    "\n",
    "def train_model():\n",
    "\n",
    "  model = create_model()\n",
    "  model.compile(optimizer='adam', loss='sparse_categorical_crossentropy', metrics=['accuracy'])\n",
    "\n",
    "  log_dir = \"logs/fit/\" + datetime.datetime.now().strftime(\"%Y%m%d-%H%M%S\")\n",
    "  tensorboard_callback = tf.keras.callbacks.TensorBoard(log_dir=log_dir, update_freq='batch')  \n",
    "\n",
    "  model.fit(x=x_train, y=y_train, epochs=5, validation_data=(x_test, y_test), callbacks=[tensorboard_callback])\n",
    "\n",
    "train_model()"
   ]
  },
  {
   "cell_type": "markdown",
   "id": "427d892e",
   "metadata": {},
   "source": [
    "## Alternative to Tensorboard logging"
   ]
  },
  {
   "cell_type": "code",
   "execution_count": null,
   "id": "683cd282",
   "metadata": {},
   "outputs": [],
   "source": [
    "from tensorflow.keras.callbacks import Callback\n",
    "\n",
    "class StepLogger(Callback):\n",
    "\n",
    "    def __init__(self, logs={}):\n",
    "        self.a = []\n",
    "        \n",
    "    def on_train_batch_end(self, batch, logs={}):\n",
    "        self.a.append(logs[\"accuracy\"])"
   ]
  }
 ],
 "metadata": {
  "kernelspec": {
   "display_name": "Python 3 (ipykernel)",
   "language": "python",
   "name": "python3"
  },
  "language_info": {
   "codemirror_mode": {
    "name": "ipython",
    "version": 3
   },
   "file_extension": ".py",
   "mimetype": "text/x-python",
   "name": "python",
   "nbconvert_exporter": "python",
   "pygments_lexer": "ipython3",
   "version": "3.11.5"
  }
 },
 "nbformat": 4,
 "nbformat_minor": 5
}
