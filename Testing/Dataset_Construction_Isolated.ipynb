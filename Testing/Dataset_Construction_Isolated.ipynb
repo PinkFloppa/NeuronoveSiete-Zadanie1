{
 "cells": [
  {
   "cell_type": "code",
   "execution_count": 4,
   "id": "5fedd662",
   "metadata": {},
   "outputs": [],
   "source": [
    "import numpy as np\n",
    "import matplotlib.pyplot as plt\n",
    "import matplotlib.image as plt_img\n",
    "import os\n",
    "from zipfile import ZipFile \n",
    "\n",
    "def construct_dataset():\n",
    "    \n",
    "    if \"Mushroom dataset\" not in os.listdir():\n",
    "        print(\"Unzipping image dataset...\")\n",
    "        with ZipFile(\"Mushroom dataset.zip\", 'r') as zObject: \n",
    "            zObject.extractall(path=\"Mushroom dataset\")\n",
    "        print(\"Done\")\n",
    "    \n",
    "    dataset_directory = \"Mushroom dataset/cnn/\"\n",
    "\n",
    "    lst = os.listdir(dataset_directory + \"Edible\")\n",
    "    edible_count = len(lst)\n",
    "\n",
    "    lst = os.listdir(dataset_directory + \"Poisonous\")\n",
    "    poisonous_count = len(lst)\n",
    "\n",
    "    dataset_x = np.empty([edible_count + poisonous_count, 227, 227, 3])\n",
    "    dataset_y = np.empty([edible_count + poisonous_count, 1])\n",
    "    \n",
    "    print(\"Constructing dataset...\")\n",
    "\n",
    "    i = 0\n",
    "    print(\"Adding edible...\")\n",
    "    for file in os.listdir(dataset_directory + \"Edible\"):\n",
    "        dataset_x[i] = plt_img.imread(dataset_directory + \"Edible/\" + file) / 255\n",
    "        dataset_y[i][0] = 0\n",
    "        i += 1\n",
    "    print(\"Done\")\n",
    "\n",
    "    print(\"Adding poisonous...\")\n",
    "    for file in os.listdir(dataset_directory + \"Poisonous\"):\n",
    "        dataset_x[i] = plt_img.imread(dataset_directory + \"Poisonous/\" + file) / 255\n",
    "        dataset_y[i][0] = 1\n",
    "        i += 1\n",
    "    print(\"Done\")\n",
    "\n",
    "    print(\"Exporting...\")\n",
    "    np.save(\"mushroom_dataset_x\", dataset_x)\n",
    "    np.save(\"mushroom_dataset_y\", dataset_y)\n",
    "    print(\"Done\")\n",
    "    \n",
    "    return dataset_x, dataset_y"
   ]
  }
 ],
 "metadata": {
  "kernelspec": {
   "display_name": "Python 3 (ipykernel)",
   "language": "python",
   "name": "python3"
  },
  "language_info": {
   "codemirror_mode": {
    "name": "ipython",
    "version": 3
   },
   "file_extension": ".py",
   "mimetype": "text/x-python",
   "name": "python",
   "nbconvert_exporter": "python",
   "pygments_lexer": "ipython3",
   "version": "3.11.5"
  }
 },
 "nbformat": 4,
 "nbformat_minor": 5
}
