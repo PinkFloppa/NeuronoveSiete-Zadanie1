{
 "cells": [
  {
   "cell_type": "code",
   "execution_count": null,
   "id": "49c38527",
   "metadata": {},
   "outputs": [],
   "source": [
    "import numpy as np\n",
    "import matplotlib.pyplot as plt\n",
    "import matplotlib.image as plt_img\n",
    "import os\n",
    "from zipfile import ZipFile \n",
    "\n",
    "dataset_directory = \"Mushroom dataset/cnn/\"\n",
    "lst = os.listdir(dataset_directory + \"Poisonous\")"
   ]
  },
  {
   "cell_type": "markdown",
   "id": "e3202179",
   "metadata": {},
   "source": [
    "# Main"
   ]
  },
  {
   "cell_type": "code",
   "execution_count": 2,
   "id": "1af57dec",
   "metadata": {},
   "outputs": [
    {
     "name": "stdout",
     "output_type": "stream",
     "text": [
      "Unzipping image dataset...\n",
      "Done\n",
      "Constructing dataset...\n",
      "Adding edible...\n",
      "Done\n",
      "Adding poisonous...\n",
      "Done\n",
      "Exporting...\n",
      "Done\n"
     ]
    }
   ],
   "source": [
    "from zipfile import ZipFile \n",
    "import numpy as np\n",
    "import matplotlib.pyplot as plt\n",
    "import matplotlib.image as plt_img\n",
    "import os\n",
    "\n",
    "def construct_dataset():\n",
    "    \n",
    "    if \"Mushroom dataset\" not in os.listdir():\n",
    "        print(\"Unzipping image dataset...\")\n",
    "        with ZipFile(\"Mushroom dataset.zip\", 'r') as zObject: \n",
    "            zObject.extractall(path=\"Mushroom dataset\")\n",
    "        print(\"Done\")\n",
    "    \n",
    "    dataset_directory = \"Mushroom dataset/cnn/\"\n",
    "\n",
    "    lst = os.listdir(dataset_directory + \"Edible\")\n",
    "    edible_count = len(lst)\n",
    "\n",
    "    lst = os.listdir(dataset_directory + \"Poisonous\")\n",
    "    poisonous_count = len(lst)\n",
    "\n",
    "    dataset_x = np.empty([edible_count + poisonous_count, 227, 227, 3])\n",
    "    dataset_y = np.empty([edible_count + poisonous_count])\n",
    "    \n",
    "    print(\"Constructing dataset...\")\n",
    "\n",
    "    i = 0\n",
    "    print(\"Adding edible...\")\n",
    "    for file in os.listdir(dataset_directory + \"Edible\"):\n",
    "        dataset_x[i] = plt_img.imread(dataset_directory + \"Edible/\" + file) / 255\n",
    "        dataset_y[i] = 0.0\n",
    "        i += 1\n",
    "    print(\"Done\")\n",
    "\n",
    "    print(\"Adding poisonous...\")\n",
    "    for file in os.listdir(dataset_directory + \"Poisonous\"):\n",
    "        dataset_x[i] = plt_img.imread(dataset_directory + \"Poisonous/\" + file) / 255\n",
    "        dataset_y[i] = 1.0\n",
    "        i += 1\n",
    "    print(\"Done\")\n",
    "\n",
    "    print(\"Exporting...\")\n",
    "    np.save(\"mushroom_dataset_x\", dataset_x)\n",
    "    np.save(\"mushroom_dataset_y\", dataset_y)\n",
    "    print(\"Done\")\n",
    "\n",
    "construct_dataset()"
   ]
  },
  {
   "cell_type": "markdown",
   "id": "548c6eab",
   "metadata": {},
   "source": [
    "## Testing Dataset Export"
   ]
  },
  {
   "cell_type": "code",
   "execution_count": null,
   "id": "8ed7207e",
   "metadata": {},
   "outputs": [],
   "source": [
    "dataset_x = np.load(\"mushroom_dataset_x.npy\")\n",
    "dataset_y = np.load(\"mushroom_dataset_y.npy\")\n",
    "\n",
    "n = np.random.randint(0, 1999)\n",
    "file_names = os.listdir(dataset_directory + \"Edible\") + lst\n",
    "print(file_names[n])\n",
    "\n",
    "plt.imshow(dataset_x[n])\n",
    "if dataset_y[n] == 0:\n",
    "    plt.xlabel(\"Edible\")\n",
    "else:\n",
    "    plt.xlabel(\"Poisonous\")"
   ]
  },
  {
   "cell_type": "markdown",
   "id": "a166e003",
   "metadata": {},
   "source": [
    "## Load Image"
   ]
  },
  {
   "cell_type": "code",
   "execution_count": null,
   "id": "2d3c6e7a",
   "metadata": {},
   "outputs": [],
   "source": [
    "img = plt_img.imread(\"Mushroom dataset/cnn/Edible/img11.jpg\")\n",
    "plt.imshow(img)"
   ]
  },
  {
   "cell_type": "markdown",
   "id": "dd83ae18",
   "metadata": {},
   "source": [
    "## Construct Dataset"
   ]
  },
  {
   "cell_type": "code",
   "execution_count": null,
   "id": "494b829c",
   "metadata": {},
   "outputs": [],
   "source": [
    "dataset_directory = \"Mushroom dataset/cnn/\"\n",
    "\n",
    "lst = os.listdir(dataset_directory + \"Edible\")\n",
    "edible_count = len(lst)\n",
    "\n",
    "lst = os.listdir(dataset_directory + \"Poisonous\")\n",
    "poisonous_count = len(lst)\n",
    "\n",
    "dataset_x = np.empty([edible_count + poisonous_count, 227, 227, 3])\n",
    "dataset_y = np.empty([edible_count + poisonous_count])\n",
    "\n",
    "i = 0\n",
    "for file in os.listdir(dataset_directory + \"Edible\"):\n",
    "    dataset_x[i] = plt_img.imread(dataset_directory + \"Edible/\" + file) / 255\n",
    "    dataset_y[i] = 0.0\n",
    "    i += 1\n",
    "    \n",
    "for file in os.listdir(dataset_directory + \"Poisonous\"):\n",
    "    dataset_x[i] = plt_img.imread(dataset_directory + \"Poisonous/\" + file) / 255\n",
    "    dataset_y[i] = 1.0\n",
    "    i += 1"
   ]
  },
  {
   "cell_type": "markdown",
   "id": "804c12c5",
   "metadata": {},
   "source": [
    "## Testing Dataset"
   ]
  },
  {
   "cell_type": "code",
   "execution_count": null,
   "id": "a49cc866",
   "metadata": {},
   "outputs": [],
   "source": [
    "n = np.random.randint(0, 1999)\n",
    "file_names = os.listdir(dataset_directory + \"Edible\") + lst\n",
    "print(file_names[n])\n",
    "\n",
    "plt.imshow(dataset_x[n])\n",
    "if dataset_y[n] == 0:\n",
    "    plt.xlabel(\"Edible\")\n",
    "else:\n",
    "    plt.xlabel(\"Poisonous\")"
   ]
  },
  {
   "cell_type": "markdown",
   "id": "a10e6d43",
   "metadata": {},
   "source": [
    "## Exporting Dataset"
   ]
  },
  {
   "cell_type": "code",
   "execution_count": null,
   "id": "bdc941b9",
   "metadata": {},
   "outputs": [],
   "source": [
    "np.save(\"CNN_DatasetXY/mushroom_dataset_x\", dataset_x)\n",
    "np.save(\"CNN_DatasetXY/mushroom_dataset_y\", dataset_y)"
   ]
  }
 ],
 "metadata": {
  "kernelspec": {
   "display_name": "Python 3 (ipykernel)",
   "language": "python",
   "name": "python3"
  },
  "language_info": {
   "codemirror_mode": {
    "name": "ipython",
    "version": 3
   },
   "file_extension": ".py",
   "mimetype": "text/x-python",
   "name": "python",
   "nbconvert_exporter": "python",
   "pygments_lexer": "ipython3",
   "version": "3.11.5"
  }
 },
 "nbformat": 4,
 "nbformat_minor": 5
}
