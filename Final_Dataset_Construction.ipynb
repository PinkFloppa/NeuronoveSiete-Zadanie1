{
 "cells": [
  {
   "cell_type": "markdown",
   "id": "211d9a33",
   "metadata": {},
   "source": [
    "## <font color='red'> Tento notebook existuje len pre dokumentáciu final dataset už je vytvorený a zostava istý pre všetky CNN</font>"
   ]
  },
  {
   "cell_type": "markdown",
   "id": "d389f73d",
   "metadata": {},
   "source": [
    "## Load dataset"
   ]
  },
  {
   "cell_type": "code",
   "execution_count": 4,
   "id": "e395bca7",
   "metadata": {},
   "outputs": [
    {
     "name": "stdout",
     "output_type": "stream",
     "text": [
      "Dataset files found, loading...\n",
      "Done\n"
     ]
    }
   ],
   "source": [
    "import os\n",
    "import numpy as np\n",
    "from ipynb.fs.full.Dataset_Construction_Isolated import construct_dataset\n",
    "import matplotlib.pyplot as plt\n",
    "import matplotlib.image as plt_img\n",
    "\n",
    "lst = os.listdir() \n",
    "if (\"mushroom_dataset_x.npy\" not in lst) or (\"mushroom_dataset_y.npy\" not in lst):\n",
    "    print(\"Dataset files not found, contructing...\")\n",
    "    dataset_x, dataset_y = construct_dataset()\n",
    "else:\n",
    "    print(\"Dataset files found, loading...\")\n",
    "    dataset_x = np.load(\"mushroom_dataset_x.npy\")\n",
    "    dataset_y = np.load(\"mushroom_dataset_y.npy\")\n",
    "    print(\"Done\")"
   ]
  },
  {
   "cell_type": "markdown",
   "id": "bcfe0f72",
   "metadata": {},
   "source": [
    "## Train, test split"
   ]
  },
  {
   "cell_type": "code",
   "execution_count": 11,
   "id": "60c52925",
   "metadata": {},
   "outputs": [],
   "source": [
    "from sklearn.model_selection import train_test_split\n",
    "train_x, test_x, train_y, test_y = train_test_split(dataset_x, dataset_y, shuffle=True, test_size=0.1)"
   ]
  },
  {
   "cell_type": "markdown",
   "id": "0117ac1d",
   "metadata": {},
   "source": [
    "## Data export"
   ]
  },
  {
   "cell_type": "code",
   "execution_count": 18,
   "id": "907b8610",
   "metadata": {},
   "outputs": [],
   "source": [
    "np.save(\"FinalTrainTestSet/train_x\", train_x)\n",
    "np.save(\"FinalTrainTestSet/train_y\", train_y)\n",
    "np.save(\"FinalTrainTestSet/test_x\", test_x)\n",
    "np.save(\"FinalTrainTestSet/test_y\", test_y)"
   ]
  }
 ],
 "metadata": {
  "kernelspec": {
   "display_name": "Python 3 (ipykernel)",
   "language": "python",
   "name": "python3"
  },
  "language_info": {
   "codemirror_mode": {
    "name": "ipython",
    "version": 3
   },
   "file_extension": ".py",
   "mimetype": "text/x-python",
   "name": "python",
   "nbconvert_exporter": "python",
   "pygments_lexer": "ipython3",
   "version": "3.11.5"
  }
 },
 "nbformat": 4,
 "nbformat_minor": 5
}
