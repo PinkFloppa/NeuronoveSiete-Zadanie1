{
 "cells": [
  {
   "cell_type": "markdown",
   "id": "fdffeb08",
   "metadata": {},
   "source": [
    "## Dependencies"
   ]
  },
  {
   "cell_type": "code",
   "execution_count": 6,
   "id": "2df67f01",
   "metadata": {},
   "outputs": [],
   "source": [
    "%load_ext tensorboard"
   ]
  },
  {
   "cell_type": "code",
   "execution_count": 2,
   "id": "0e361a51",
   "metadata": {},
   "outputs": [
    {
     "name": "stderr",
     "output_type": "stream",
     "text": [
      "2025-03-02 21:35:38.249407: E external/local_xla/xla/stream_executor/cuda/cuda_fft.cc:477] Unable to register cuFFT factory: Attempting to register factory for plugin cuFFT when one has already been registered\n",
      "WARNING: All log messages before absl::InitializeLog() is called are written to STDERR\n",
      "E0000 00:00:1740947738.264356   13707 cuda_dnn.cc:8310] Unable to register cuDNN factory: Attempting to register factory for plugin cuDNN when one has already been registered\n",
      "E0000 00:00:1740947738.268739   13707 cuda_blas.cc:1418] Unable to register cuBLAS factory: Attempting to register factory for plugin cuBLAS when one has already been registered\n",
      "2025-03-02 21:35:38.284197: I tensorflow/core/platform/cpu_feature_guard.cc:210] This TensorFlow binary is optimized to use available CPU instructions in performance-critical operations.\n",
      "To enable the following instructions: AVX2 FMA, in other operations, rebuild TensorFlow with the appropriate compiler flags.\n"
     ]
    }
   ],
   "source": [
    "import os\n",
    "import numpy as np\n",
    "from sklearn.model_selection import KFold\n",
    "from ipynb.fs.full.Dataset_Construction_Isolated import construct_dataset\n",
    "import matplotlib.pyplot as plt\n",
    "import matplotlib.image as plt_img\n",
    "\n",
    "import tensorflow as tf\n",
    "from tensorflow.keras import layers, models, datasets\n",
    "import datetime\n",
    "\n",
    "from zipfile import ZipFile "
   ]
  },
  {
   "cell_type": "markdown",
   "id": "a9c78cb5-a05c-4720-a9e9-b8e8109719c5",
   "metadata": {},
   "source": [
    "## GPU Check"
   ]
  },
  {
   "cell_type": "code",
   "execution_count": 7,
   "id": "3e0ea8f1-02f4-48be-abe0-4eb36c527bbc",
   "metadata": {},
   "outputs": [
    {
     "data": {
      "text/plain": [
       "[PhysicalDevice(name='/physical_device:GPU:0', device_type='GPU')]"
      ]
     },
     "execution_count": 7,
     "metadata": {},
     "output_type": "execute_result"
    }
   ],
   "source": [
    "tf.config.list_physical_devices(\"GPU\")"
   ]
  },
  {
   "cell_type": "markdown",
   "id": "57f42f0e",
   "metadata": {},
   "source": [
    "## Parameters"
   ]
  },
  {
   "cell_type": "code",
   "execution_count": 3,
   "id": "91734701",
   "metadata": {},
   "outputs": [],
   "source": [
    "name = \"ResNet50\"\n",
    "epochs = 10\n",
    "steps = 50\n",
    "batch = 40"
   ]
  },
  {
   "cell_type": "markdown",
   "id": "02afe754",
   "metadata": {},
   "source": [
    "## Making directory for CNN"
   ]
  },
  {
   "cell_type": "code",
   "execution_count": 8,
   "id": "cef17ae1",
   "metadata": {},
   "outputs": [],
   "source": [
    "try:\n",
    "    os.mkdir(\"CNN/\" + name)\n",
    "except:\n",
    "    pass\n",
    "\n",
    "try:\n",
    "    os.mkdir(\"CNN/\" + name + \"/Tensorboard_Data\")\n",
    "except:\n",
    "    pass"
   ]
  },
  {
   "cell_type": "markdown",
   "id": "362c5567",
   "metadata": {},
   "source": [
    "## Load constructed dataset"
   ]
  },
  {
   "cell_type": "code",
   "execution_count": 4,
   "id": "a61a37d3",
   "metadata": {},
   "outputs": [
    {
     "name": "stdout",
     "output_type": "stream",
     "text": [
      "Dataset files found, loading...\n",
      "Done\n"
     ]
    }
   ],
   "source": [
    "lst = os.listdir() \n",
    "if (\"mushroom_dataset_x.npy\" not in lst) or (\"mushroom_dataset_y.npy\" not in lst):\n",
    "    print(\"Dataset files not found, contructing...\")\n",
    "    dataset_x, dataset_y = construct_dataset()\n",
    "else:\n",
    "    print(\"Dataset files found, loading...\")\n",
    "    dataset_x = np.load(\"mushroom_dataset_x.npy\")\n",
    "    dataset_y = np.load(\"mushroom_dataset_y.npy\")\n",
    "    print(\"Done\")"
   ]
  },
  {
   "cell_type": "markdown",
   "id": "5c7ac242",
   "metadata": {},
   "source": [
    "## CNN Training"
   ]
  },
  {
   "cell_type": "markdown",
   "id": "cca17ca2-0cb7-4056-bee1-1a9cfb9b6562",
   "metadata": {},
   "source": [
    "### Create and train Model with n folds"
   ]
  },
  {
   "cell_type": "code",
   "execution_count": 5,
   "id": "d4449c6b-91d1-4155-a953-0a42c9289f79",
   "metadata": {
    "scrolled": true
   },
   "outputs": [
    {
     "name": "stderr",
     "output_type": "stream",
     "text": [
      "I0000 00:00:1740947754.256389   13707 gpu_device.cc:2022] Created device /job:localhost/replica:0/task:0/device:GPU:0 with 5564 MB memory:  -> device: 0, name: NVIDIA GeForce RTX 3070, pci bus id: 0000:01:00.0, compute capability: 8.6\n",
      "2025-03-02 21:35:57.819395: W external/local_xla/xla/tsl/framework/cpu_allocator_impl.cc:83] Allocation of 1113026400 exceeds 10% of free system memory.\n",
      "2025-03-02 21:35:58.360297: W external/local_xla/xla/tsl/framework/cpu_allocator_impl.cc:83] Allocation of 1113026400 exceeds 10% of free system memory.\n"
     ]
    },
    {
     "name": "stdout",
     "output_type": "stream",
     "text": [
      "Epoch 1/10\n"
     ]
    },
    {
     "name": "stderr",
     "output_type": "stream",
     "text": [
      "WARNING: All log messages before absl::InitializeLog() is called are written to STDERR\n",
      "I0000 00:00:1740947764.782666   13808 service.cc:148] XLA service 0x7fd8ac14c620 initialized for platform CUDA (this does not guarantee that XLA will be used). Devices:\n",
      "I0000 00:00:1740947764.782707   13808 service.cc:156]   StreamExecutor device (0): NVIDIA GeForce RTX 3070, Compute Capability 8.6\n",
      "2025-03-02 21:36:05.113171: I tensorflow/compiler/mlir/tensorflow/utils/dump_mlir_util.cc:268] disabling MLIR crash reproducer, set env var `MLIR_CRASH_REPRODUCER_DIRECTORY` to enable.\n",
      "I0000 00:00:1740947766.225328   13808 cuda_dnn.cc:529] Loaded cuDNN version 90300\n",
      "2025-03-02 21:36:08.247805: I external/local_xla/xla/stream_executor/cuda/cuda_asm_compiler.cc:397] ptxas warning : Registers are spilled to local memory in function 'gemm_fusion_dot_8670', 96 bytes spill stores, 96 bytes spill loads\n",
      "\n",
      "2025-03-02 21:36:08.431212: I external/local_xla/xla/stream_executor/cuda/cuda_asm_compiler.cc:397] ptxas warning : Registers are spilled to local memory in function 'gemm_fusion_dot_4956', 12 bytes spill stores, 12 bytes spill loads\n",
      "\n",
      "2025-03-02 21:36:08.928966: I external/local_xla/xla/stream_executor/cuda/cuda_asm_compiler.cc:397] ptxas warning : Registers are spilled to local memory in function 'gemm_fusion_dot_8670', 64 bytes spill stores, 64 bytes spill loads\n",
      "\n",
      "2025-03-02 21:36:09.000406: I external/local_xla/xla/stream_executor/cuda/cuda_asm_compiler.cc:397] ptxas warning : Registers are spilled to local memory in function 'gemm_fusion_dot_8670', 24 bytes spill stores, 28 bytes spill loads\n",
      "\n",
      "2025-03-02 21:36:09.168989: I external/local_xla/xla/stream_executor/cuda/cuda_asm_compiler.cc:397] ptxas warning : Registers are spilled to local memory in function 'gemm_fusion_dot_8670', 96 bytes spill stores, 96 bytes spill loads\n",
      "\n",
      "I0000 00:00:1740947778.462516   13808 device_compiler.h:188] Compiled cluster using XLA!  This line is logged at most once for the lifetime of the process.\n"
     ]
    },
    {
     "name": "stdout",
     "output_type": "stream",
     "text": [
      "\u001b[1m50/50\u001b[0m \u001b[32m━━━━━━━━━━━━━━━━━━━━\u001b[0m\u001b[37m\u001b[0m \u001b[1m32s\u001b[0m 259ms/step - accuracy: 0.6114 - loss: 3.7835 - val_accuracy: 0.6900 - val_loss: 0.6468\n",
      "Epoch 2/10\n",
      "\u001b[1m50/50\u001b[0m \u001b[32m━━━━━━━━━━━━━━━━━━━━\u001b[0m\u001b[37m\u001b[0m \u001b[1m4s\u001b[0m 72ms/step - accuracy: 0.8073 - loss: 0.4158 - val_accuracy: 0.6900 - val_loss: 0.6831\n",
      "Epoch 3/10\n",
      "\u001b[1m50/50\u001b[0m \u001b[32m━━━━━━━━━━━━━━━━━━━━\u001b[0m\u001b[37m\u001b[0m \u001b[1m5s\u001b[0m 103ms/step - accuracy: 0.8824 - loss: 0.2740 - val_accuracy: 0.7350 - val_loss: 0.5313\n",
      "Epoch 4/10\n",
      "\u001b[1m50/50\u001b[0m \u001b[32m━━━━━━━━━━━━━━━━━━━━\u001b[0m\u001b[37m\u001b[0m \u001b[1m5s\u001b[0m 103ms/step - accuracy: 0.9320 - loss: 0.1763 - val_accuracy: 0.7550 - val_loss: 0.4786\n",
      "Epoch 5/10\n",
      "\u001b[1m50/50\u001b[0m \u001b[32m━━━━━━━━━━━━━━━━━━━━\u001b[0m\u001b[37m\u001b[0m \u001b[1m5s\u001b[0m 102ms/step - accuracy: 0.9416 - loss: 0.1383 - val_accuracy: 0.7950 - val_loss: 0.5881\n",
      "Epoch 6/10\n",
      "\u001b[1m50/50\u001b[0m \u001b[32m━━━━━━━━━━━━━━━━━━━━\u001b[0m\u001b[37m\u001b[0m \u001b[1m5s\u001b[0m 103ms/step - accuracy: 0.9653 - loss: 0.0968 - val_accuracy: 0.8550 - val_loss: 0.4531\n",
      "Epoch 7/10\n",
      "\u001b[1m50/50\u001b[0m \u001b[32m━━━━━━━━━━━━━━━━━━━━\u001b[0m\u001b[37m\u001b[0m \u001b[1m5s\u001b[0m 103ms/step - accuracy: 0.9777 - loss: 0.0770 - val_accuracy: 0.9550 - val_loss: 0.1337\n",
      "Epoch 8/10\n",
      "\u001b[1m50/50\u001b[0m \u001b[32m━━━━━━━━━━━━━━━━━━━━\u001b[0m\u001b[37m\u001b[0m \u001b[1m4s\u001b[0m 72ms/step - accuracy: 0.9822 - loss: 0.0563 - val_accuracy: 0.9150 - val_loss: 0.2137\n",
      "Epoch 9/10\n",
      "\u001b[1m50/50\u001b[0m \u001b[32m━━━━━━━━━━━━━━━━━━━━\u001b[0m\u001b[37m\u001b[0m \u001b[1m5s\u001b[0m 104ms/step - accuracy: 0.9771 - loss: 0.0653 - val_accuracy: 0.9550 - val_loss: 0.1164\n",
      "Epoch 10/10\n",
      "\u001b[1m50/50\u001b[0m \u001b[32m━━━━━━━━━━━━━━━━━━━━\u001b[0m\u001b[37m\u001b[0m \u001b[1m5s\u001b[0m 104ms/step - accuracy: 0.9867 - loss: 0.0466 - val_accuracy: 0.9650 - val_loss: 0.1166\n",
      "K = 0\n",
      "Accuracy  98.83 %\n"
     ]
    },
    {
     "name": "stderr",
     "output_type": "stream",
     "text": [
      "2025-03-02 21:37:17.252768: W external/local_xla/xla/tsl/framework/cpu_allocator_impl.cc:83] Allocation of 1113026400 exceeds 10% of free system memory.\n",
      "2025-03-02 21:37:18.263980: W external/local_xla/xla/tsl/framework/cpu_allocator_impl.cc:83] Allocation of 1113026400 exceeds 10% of free system memory.\n"
     ]
    },
    {
     "name": "stdout",
     "output_type": "stream",
     "text": [
      "Epoch 1/10\n",
      "\u001b[1m50/50\u001b[0m \u001b[32m━━━━━━━━━━━━━━━━━━━━\u001b[0m\u001b[37m\u001b[0m \u001b[1m22s\u001b[0m 161ms/step - accuracy: 0.6000 - loss: 2.4603 - val_accuracy: 0.7100 - val_loss: 0.6083\n",
      "Epoch 2/10\n",
      "\u001b[1m50/50\u001b[0m \u001b[32m━━━━━━━━━━━━━━━━━━━━\u001b[0m\u001b[37m\u001b[0m \u001b[1m5s\u001b[0m 102ms/step - accuracy: 0.7633 - loss: 0.4760 - val_accuracy: 0.7100 - val_loss: 1.1847\n",
      "Epoch 3/10\n",
      "\u001b[1m50/50\u001b[0m \u001b[32m━━━━━━━━━━━━━━━━━━━━\u001b[0m\u001b[37m\u001b[0m \u001b[1m5s\u001b[0m 102ms/step - accuracy: 0.8774 - loss: 0.2963 - val_accuracy: 0.7100 - val_loss: 1.3899\n",
      "Epoch 4/10\n",
      "\u001b[1m50/50\u001b[0m \u001b[32m━━━━━━━━━━━━━━━━━━━━\u001b[0m\u001b[37m\u001b[0m \u001b[1m5s\u001b[0m 102ms/step - accuracy: 0.9353 - loss: 0.1621 - val_accuracy: 0.7200 - val_loss: 0.8575\n",
      "Epoch 5/10\n",
      "\u001b[1m50/50\u001b[0m \u001b[32m━━━━━━━━━━━━━━━━━━━━\u001b[0m\u001b[37m\u001b[0m \u001b[1m5s\u001b[0m 103ms/step - accuracy: 0.9503 - loss: 0.1358 - val_accuracy: 0.7700 - val_loss: 0.8106\n",
      "Epoch 6/10\n",
      "\u001b[1m50/50\u001b[0m \u001b[32m━━━━━━━━━━━━━━━━━━━━\u001b[0m\u001b[37m\u001b[0m \u001b[1m5s\u001b[0m 103ms/step - accuracy: 0.9791 - loss: 0.0539 - val_accuracy: 0.9000 - val_loss: 0.2984\n",
      "Epoch 7/10\n",
      "\u001b[1m50/50\u001b[0m \u001b[32m━━━━━━━━━━━━━━━━━━━━\u001b[0m\u001b[37m\u001b[0m \u001b[1m4s\u001b[0m 73ms/step - accuracy: 0.9538 - loss: 0.1099 - val_accuracy: 0.9250 - val_loss: 0.1971\n",
      "Epoch 8/10\n",
      "\u001b[1m50/50\u001b[0m \u001b[32m━━━━━━━━━━━━━━━━━━━━\u001b[0m\u001b[37m\u001b[0m \u001b[1m5s\u001b[0m 103ms/step - accuracy: 0.9910 - loss: 0.0273 - val_accuracy: 0.9000 - val_loss: 0.4401\n",
      "Epoch 9/10\n",
      "\u001b[1m50/50\u001b[0m \u001b[32m━━━━━━━━━━━━━━━━━━━━\u001b[0m\u001b[37m\u001b[0m \u001b[1m5s\u001b[0m 103ms/step - accuracy: 0.9946 - loss: 0.0206 - val_accuracy: 0.9150 - val_loss: 0.4170\n",
      "Epoch 10/10\n",
      "\u001b[1m50/50\u001b[0m \u001b[32m━━━━━━━━━━━━━━━━━━━━\u001b[0m\u001b[37m\u001b[0m \u001b[1m5s\u001b[0m 103ms/step - accuracy: 0.9902 - loss: 0.0260 - val_accuracy: 0.9500 - val_loss: 0.1312\n",
      "K = 1\n",
      "Accuracy  98.72 %\n"
     ]
    },
    {
     "name": "stderr",
     "output_type": "stream",
     "text": [
      "2025-03-02 21:38:27.784017: W external/local_xla/xla/tsl/framework/cpu_allocator_impl.cc:83] Allocation of 1113026400 exceeds 10% of free system memory.\n"
     ]
    },
    {
     "name": "stdout",
     "output_type": "stream",
     "text": [
      "Epoch 1/10\n",
      "\u001b[1m50/50\u001b[0m \u001b[32m━━━━━━━━━━━━━━━━━━━━\u001b[0m\u001b[37m\u001b[0m \u001b[1m26s\u001b[0m 197ms/step - accuracy: 0.6388 - loss: 2.2495 - val_accuracy: 0.7950 - val_loss: 0.5669\n",
      "Epoch 2/10\n",
      "\u001b[1m50/50\u001b[0m \u001b[32m━━━━━━━━━━━━━━━━━━━━\u001b[0m\u001b[37m\u001b[0m \u001b[1m5s\u001b[0m 103ms/step - accuracy: 0.8240 - loss: 0.3935 - val_accuracy: 0.7950 - val_loss: 0.4550\n",
      "Epoch 3/10\n",
      "\u001b[1m50/50\u001b[0m \u001b[32m━━━━━━━━━━━━━━━━━━━━\u001b[0m\u001b[37m\u001b[0m \u001b[1m5s\u001b[0m 103ms/step - accuracy: 0.8884 - loss: 0.2544 - val_accuracy: 0.8000 - val_loss: 0.4298\n",
      "Epoch 4/10\n",
      "\u001b[1m50/50\u001b[0m \u001b[32m━━━━━━━━━━━━━━━━━━━━\u001b[0m\u001b[37m\u001b[0m \u001b[1m4s\u001b[0m 72ms/step - accuracy: 0.9565 - loss: 0.1323 - val_accuracy: 0.7500 - val_loss: 0.4780\n",
      "Epoch 5/10\n",
      "\u001b[1m50/50\u001b[0m \u001b[32m━━━━━━━━━━━━━━━━━━━━\u001b[0m\u001b[37m\u001b[0m \u001b[1m5s\u001b[0m 103ms/step - accuracy: 0.9482 - loss: 0.1466 - val_accuracy: 0.9000 - val_loss: 0.2766\n",
      "Epoch 6/10\n",
      "\u001b[1m50/50\u001b[0m \u001b[32m━━━━━━━━━━━━━━━━━━━━\u001b[0m\u001b[37m\u001b[0m \u001b[1m5s\u001b[0m 103ms/step - accuracy: 0.9737 - loss: 0.0687 - val_accuracy: 0.9300 - val_loss: 0.1861\n",
      "Epoch 7/10\n",
      "\u001b[1m50/50\u001b[0m \u001b[32m━━━━━━━━━━━━━━━━━━━━\u001b[0m\u001b[37m\u001b[0m \u001b[1m5s\u001b[0m 104ms/step - accuracy: 0.9918 - loss: 0.0297 - val_accuracy: 0.9700 - val_loss: 0.1275\n",
      "Epoch 8/10\n",
      "\u001b[1m50/50\u001b[0m \u001b[32m━━━━━━━━━━━━━━━━━━━━\u001b[0m\u001b[37m\u001b[0m \u001b[1m5s\u001b[0m 104ms/step - accuracy: 0.9960 - loss: 0.0161 - val_accuracy: 0.9600 - val_loss: 0.1330\n",
      "Epoch 9/10\n",
      "\u001b[1m50/50\u001b[0m \u001b[32m━━━━━━━━━━━━━━━━━━━━\u001b[0m\u001b[37m\u001b[0m \u001b[1m5s\u001b[0m 103ms/step - accuracy: 0.9850 - loss: 0.0525 - val_accuracy: 0.9650 - val_loss: 0.1262\n",
      "Epoch 10/10\n",
      "\u001b[1m50/50\u001b[0m \u001b[32m━━━━━━━━━━━━━━━━━━━━\u001b[0m\u001b[37m\u001b[0m \u001b[1m4s\u001b[0m 71ms/step - accuracy: 0.9927 - loss: 0.0225 - val_accuracy: 0.9650 - val_loss: 0.1175\n",
      "K = 2\n",
      "Accuracy  99.06 %\n",
      "Epoch 1/10\n",
      "\u001b[1m50/50\u001b[0m \u001b[32m━━━━━━━━━━━━━━━━━━━━\u001b[0m\u001b[37m\u001b[0m \u001b[1m22s\u001b[0m 189ms/step - accuracy: 0.6789 - loss: 2.1429 - val_accuracy: 0.7200 - val_loss: 0.9452\n",
      "Epoch 2/10\n",
      "\u001b[1m50/50\u001b[0m \u001b[32m━━━━━━━━━━━━━━━━━━━━\u001b[0m\u001b[37m\u001b[0m \u001b[1m4s\u001b[0m 71ms/step - accuracy: 0.7879 - loss: 0.4505 - val_accuracy: 0.7200 - val_loss: 0.7488\n",
      "Epoch 3/10\n",
      "\u001b[1m50/50\u001b[0m \u001b[32m━━━━━━━━━━━━━━━━━━━━\u001b[0m\u001b[37m\u001b[0m \u001b[1m5s\u001b[0m 103ms/step - accuracy: 0.8512 - loss: 0.3381 - val_accuracy: 0.7200 - val_loss: 0.7379\n",
      "Epoch 4/10\n",
      "\u001b[1m50/50\u001b[0m \u001b[32m━━━━━━━━━━━━━━━━━━━━\u001b[0m\u001b[37m\u001b[0m \u001b[1m5s\u001b[0m 103ms/step - accuracy: 0.9097 - loss: 0.2678 - val_accuracy: 0.7200 - val_loss: 0.7189\n",
      "Epoch 5/10\n",
      "\u001b[1m50/50\u001b[0m \u001b[32m━━━━━━━━━━━━━━━━━━━━\u001b[0m\u001b[37m\u001b[0m \u001b[1m5s\u001b[0m 103ms/step - accuracy: 0.9402 - loss: 0.2328 - val_accuracy: 0.7950 - val_loss: 0.5020\n",
      "Epoch 6/10\n",
      "\u001b[1m50/50\u001b[0m \u001b[32m━━━━━━━━━━━━━━━━━━━━\u001b[0m\u001b[37m\u001b[0m \u001b[1m5s\u001b[0m 103ms/step - accuracy: 0.9582 - loss: 0.2081 - val_accuracy: 0.8850 - val_loss: 0.3193\n",
      "Epoch 7/10\n",
      "\u001b[1m50/50\u001b[0m \u001b[32m━━━━━━━━━━━━━━━━━━━━\u001b[0m\u001b[37m\u001b[0m \u001b[1m5s\u001b[0m 103ms/step - accuracy: 0.9533 - loss: 0.2174 - val_accuracy: 0.9250 - val_loss: 0.2997\n",
      "Epoch 8/10\n",
      "\u001b[1m50/50\u001b[0m \u001b[32m━━━━━━━━━━━━━━━━━━━━\u001b[0m\u001b[37m\u001b[0m \u001b[1m4s\u001b[0m 73ms/step - accuracy: 0.9839 - loss: 0.1606 - val_accuracy: 0.8900 - val_loss: 0.2974\n",
      "Epoch 9/10\n",
      "\u001b[1m50/50\u001b[0m \u001b[32m━━━━━━━━━━━━━━━━━━━━\u001b[0m\u001b[37m\u001b[0m \u001b[1m5s\u001b[0m 103ms/step - accuracy: 0.9919 - loss: 0.1465 - val_accuracy: 0.9400 - val_loss: 0.2172\n",
      "Epoch 10/10\n",
      "\u001b[1m50/50\u001b[0m \u001b[32m━━━━━━━━━━━━━━━━━━━━\u001b[0m\u001b[37m\u001b[0m \u001b[1m5s\u001b[0m 103ms/step - accuracy: 0.9862 - loss: 0.1364 - val_accuracy: 0.9350 - val_loss: 0.2356\n",
      "K = 3\n",
      "Accuracy  98.83 %\n",
      "Epoch 1/10\n",
      "\u001b[1m50/50\u001b[0m \u001b[32m━━━━━━━━━━━━━━━━━━━━\u001b[0m\u001b[37m\u001b[0m \u001b[1m22s\u001b[0m 160ms/step - accuracy: 0.6163 - loss: 3.1962 - val_accuracy: 0.7500 - val_loss: 0.5953\n",
      "Epoch 2/10\n",
      "\u001b[1m50/50\u001b[0m \u001b[32m━━━━━━━━━━━━━━━━━━━━\u001b[0m\u001b[37m\u001b[0m \u001b[1m5s\u001b[0m 105ms/step - accuracy: 0.7189 - loss: 0.5167 - val_accuracy: 0.7500 - val_loss: 0.5828\n",
      "Epoch 3/10\n",
      "\u001b[1m50/50\u001b[0m \u001b[32m━━━━━━━━━━━━━━━━━━━━\u001b[0m\u001b[37m\u001b[0m \u001b[1m5s\u001b[0m 104ms/step - accuracy: 0.8723 - loss: 0.3147 - val_accuracy: 0.8050 - val_loss: 0.4790\n",
      "Epoch 4/10\n",
      "\u001b[1m50/50\u001b[0m \u001b[32m━━━━━━━━━━━━━━━━━━━━\u001b[0m\u001b[37m\u001b[0m \u001b[1m5s\u001b[0m 104ms/step - accuracy: 0.8872 - loss: 0.2521 - val_accuracy: 0.8250 - val_loss: 0.4655\n",
      "Epoch 5/10\n",
      "\u001b[1m50/50\u001b[0m \u001b[32m━━━━━━━━━━━━━━━━━━━━\u001b[0m\u001b[37m\u001b[0m \u001b[1m5s\u001b[0m 105ms/step - accuracy: 0.9570 - loss: 0.1297 - val_accuracy: 0.8800 - val_loss: 0.3303\n",
      "Epoch 6/10\n",
      "\u001b[1m50/50\u001b[0m \u001b[32m━━━━━━━━━━━━━━━━━━━━\u001b[0m\u001b[37m\u001b[0m \u001b[1m5s\u001b[0m 103ms/step - accuracy: 0.9725 - loss: 0.0714 - val_accuracy: 0.9050 - val_loss: 0.2887\n",
      "Epoch 7/10\n",
      "\u001b[1m50/50\u001b[0m \u001b[32m━━━━━━━━━━━━━━━━━━━━\u001b[0m\u001b[37m\u001b[0m \u001b[1m4s\u001b[0m 103ms/step - accuracy: 0.9807 - loss: 0.0605 - val_accuracy: 0.9300 - val_loss: 0.1805\n",
      "Epoch 8/10\n",
      "\u001b[1m50/50\u001b[0m \u001b[32m━━━━━━━━━━━━━━━━━━━━\u001b[0m\u001b[37m\u001b[0m \u001b[1m5s\u001b[0m 103ms/step - accuracy: 0.9890 - loss: 0.0452 - val_accuracy: 0.9550 - val_loss: 0.1760\n",
      "Epoch 9/10\n",
      "\u001b[1m50/50\u001b[0m \u001b[32m━━━━━━━━━━━━━━━━━━━━\u001b[0m\u001b[37m\u001b[0m \u001b[1m5s\u001b[0m 103ms/step - accuracy: 0.9854 - loss: 0.0503 - val_accuracy: 0.9750 - val_loss: 0.1326\n",
      "Epoch 10/10\n",
      "\u001b[1m50/50\u001b[0m \u001b[32m━━━━━━━━━━━━━━━━━━━━\u001b[0m\u001b[37m\u001b[0m \u001b[1m5s\u001b[0m 103ms/step - accuracy: 0.9975 - loss: 0.0111 - val_accuracy: 0.9550 - val_loss: 0.0865\n",
      "K = 4\n",
      "Accuracy  99.61 %\n",
      "Epoch 1/10\n",
      "\u001b[1m50/50\u001b[0m \u001b[32m━━━━━━━━━━━━━━━━━━━━\u001b[0m\u001b[37m\u001b[0m \u001b[1m22s\u001b[0m 193ms/step - accuracy: 0.6651 - loss: 2.6879 - val_accuracy: 0.7500 - val_loss: 0.5718\n",
      "Epoch 2/10\n",
      "\u001b[1m50/50\u001b[0m \u001b[32m━━━━━━━━━━━━━━━━━━━━\u001b[0m\u001b[37m\u001b[0m \u001b[1m5s\u001b[0m 104ms/step - accuracy: 0.8134 - loss: 0.3840 - val_accuracy: 0.7500 - val_loss: 0.5660\n",
      "Epoch 3/10\n",
      "\u001b[1m50/50\u001b[0m \u001b[32m━━━━━━━━━━━━━━━━━━━━\u001b[0m\u001b[37m\u001b[0m \u001b[1m5s\u001b[0m 103ms/step - accuracy: 0.9049 - loss: 0.2343 - val_accuracy: 0.7600 - val_loss: 0.6985\n",
      "Epoch 4/10\n",
      "\u001b[1m50/50\u001b[0m \u001b[32m━━━━━━━━━━━━━━━━━━━━\u001b[0m\u001b[37m\u001b[0m \u001b[1m4s\u001b[0m 71ms/step - accuracy: 0.9348 - loss: 0.1637 - val_accuracy: 0.7900 - val_loss: 0.6199\n",
      "Epoch 5/10\n",
      "\u001b[1m50/50\u001b[0m \u001b[32m━━━━━━━━━━━━━━━━━━━━\u001b[0m\u001b[37m\u001b[0m \u001b[1m5s\u001b[0m 103ms/step - accuracy: 0.9626 - loss: 0.0896 - val_accuracy: 0.8400 - val_loss: 0.3874\n",
      "Epoch 6/10\n",
      "\u001b[1m50/50\u001b[0m \u001b[32m━━━━━━━━━━━━━━━━━━━━\u001b[0m\u001b[37m\u001b[0m \u001b[1m5s\u001b[0m 103ms/step - accuracy: 0.9915 - loss: 0.0459 - val_accuracy: 0.9000 - val_loss: 0.2985\n",
      "Epoch 7/10\n",
      "\u001b[1m50/50\u001b[0m \u001b[32m━━━━━━━━━━━━━━━━━━━━\u001b[0m\u001b[37m\u001b[0m \u001b[1m5s\u001b[0m 103ms/step - accuracy: 0.9825 - loss: 0.0417 - val_accuracy: 0.9450 - val_loss: 0.1729\n",
      "Epoch 8/10\n",
      "\u001b[1m50/50\u001b[0m \u001b[32m━━━━━━━━━━━━━━━━━━━━\u001b[0m\u001b[37m\u001b[0m \u001b[1m5s\u001b[0m 104ms/step - accuracy: 0.9917 - loss: 0.0242 - val_accuracy: 0.9300 - val_loss: 0.1782\n",
      "Epoch 9/10\n",
      "\u001b[1m50/50\u001b[0m \u001b[32m━━━━━━━━━━━━━━━━━━━━\u001b[0m\u001b[37m\u001b[0m \u001b[1m5s\u001b[0m 104ms/step - accuracy: 0.9856 - loss: 0.0394 - val_accuracy: 0.9500 - val_loss: 0.1277\n",
      "Epoch 10/10\n",
      "\u001b[1m50/50\u001b[0m \u001b[32m━━━━━━━━━━━━━━━━━━━━\u001b[0m\u001b[37m\u001b[0m \u001b[1m4s\u001b[0m 73ms/step - accuracy: 0.9916 - loss: 0.0271 - val_accuracy: 0.8400 - val_loss: 0.5859\n",
      "K = 5\n",
      "Accuracy  98.78 %\n",
      "Epoch 1/10\n",
      "\u001b[1m50/50\u001b[0m \u001b[32m━━━━━━━━━━━━━━━━━━━━\u001b[0m\u001b[37m\u001b[0m \u001b[1m24s\u001b[0m 218ms/step - accuracy: 0.6404 - loss: 2.2936 - val_accuracy: 0.7050 - val_loss: 0.6031\n",
      "Epoch 2/10\n",
      "\u001b[1m50/50\u001b[0m \u001b[32m━━━━━━━━━━━━━━━━━━━━\u001b[0m\u001b[37m\u001b[0m \u001b[1m4s\u001b[0m 72ms/step - accuracy: 0.8214 - loss: 0.3835 - val_accuracy: 0.7050 - val_loss: 1.2486\n",
      "Epoch 3/10\n",
      "\u001b[1m50/50\u001b[0m \u001b[32m━━━━━━━━━━━━━━━━━━━━\u001b[0m\u001b[37m\u001b[0m \u001b[1m5s\u001b[0m 103ms/step - accuracy: 0.8905 - loss: 0.2519 - val_accuracy: 0.7050 - val_loss: 0.9555\n",
      "Epoch 4/10\n",
      "\u001b[1m50/50\u001b[0m \u001b[32m━━━━━━━━━━━━━━━━━━━━\u001b[0m\u001b[37m\u001b[0m \u001b[1m5s\u001b[0m 104ms/step - accuracy: 0.9583 - loss: 0.1107 - val_accuracy: 0.7900 - val_loss: 0.8652\n",
      "Epoch 5/10\n",
      "\u001b[1m50/50\u001b[0m \u001b[32m━━━━━━━━━━━━━━━━━━━━\u001b[0m\u001b[37m\u001b[0m \u001b[1m5s\u001b[0m 104ms/step - accuracy: 0.9632 - loss: 0.0932 - val_accuracy: 0.8650 - val_loss: 0.3652\n",
      "Epoch 6/10\n",
      "\u001b[1m50/50\u001b[0m \u001b[32m━━━━━━━━━━━━━━━━━━━━\u001b[0m\u001b[37m\u001b[0m \u001b[1m5s\u001b[0m 104ms/step - accuracy: 0.9808 - loss: 0.0649 - val_accuracy: 0.9100 - val_loss: 0.2516\n",
      "Epoch 7/10\n",
      "\u001b[1m50/50\u001b[0m \u001b[32m━━━━━━━━━━━━━━━━━━━━\u001b[0m\u001b[37m\u001b[0m \u001b[1m5s\u001b[0m 104ms/step - accuracy: 0.9910 - loss: 0.0316 - val_accuracy: 0.9000 - val_loss: 0.3655\n",
      "Epoch 8/10\n",
      "\u001b[1m50/50\u001b[0m \u001b[32m━━━━━━━━━━━━━━━━━━━━\u001b[0m\u001b[37m\u001b[0m \u001b[1m4s\u001b[0m 72ms/step - accuracy: 0.9982 - loss: 0.0125 - val_accuracy: 0.9100 - val_loss: 0.3322\n",
      "Epoch 9/10\n",
      "\u001b[1m50/50\u001b[0m \u001b[32m━━━━━━━━━━━━━━━━━━━━\u001b[0m\u001b[37m\u001b[0m \u001b[1m5s\u001b[0m 104ms/step - accuracy: 0.9971 - loss: 0.0109 - val_accuracy: 0.9350 - val_loss: 0.2755\n",
      "Epoch 10/10\n",
      "\u001b[1m50/50\u001b[0m \u001b[32m━━━━━━━━━━━━━━━━━━━━\u001b[0m\u001b[37m\u001b[0m \u001b[1m5s\u001b[0m 104ms/step - accuracy: 0.9929 - loss: 0.0265 - val_accuracy: 0.9200 - val_loss: 0.2247\n",
      "K = 6\n",
      "Accuracy  99.00 %\n",
      "Epoch 1/10\n",
      "\u001b[1m50/50\u001b[0m \u001b[32m━━━━━━━━━━━━━━━━━━━━\u001b[0m\u001b[37m\u001b[0m \u001b[1m21s\u001b[0m 156ms/step - accuracy: 0.6140 - loss: 2.3569 - val_accuracy: 0.7150 - val_loss: 1.0081\n",
      "Epoch 2/10\n",
      "\u001b[1m50/50\u001b[0m \u001b[32m━━━━━━━━━━━━━━━━━━━━\u001b[0m\u001b[37m\u001b[0m \u001b[1m5s\u001b[0m 103ms/step - accuracy: 0.8324 - loss: 0.3822 - val_accuracy: 0.7150 - val_loss: 0.9351\n",
      "Epoch 3/10\n",
      "\u001b[1m50/50\u001b[0m \u001b[32m━━━━━━━━━━━━━━━━━━━━\u001b[0m\u001b[37m\u001b[0m \u001b[1m5s\u001b[0m 106ms/step - accuracy: 0.9238 - loss: 0.1743 - val_accuracy: 0.7150 - val_loss: 1.3068\n",
      "Epoch 4/10\n",
      "\u001b[1m50/50\u001b[0m \u001b[32m━━━━━━━━━━━━━━━━━━━━\u001b[0m\u001b[37m\u001b[0m \u001b[1m5s\u001b[0m 106ms/step - accuracy: 0.9448 - loss: 0.1298 - val_accuracy: 0.7800 - val_loss: 0.8931\n",
      "Epoch 5/10\n",
      "\u001b[1m50/50\u001b[0m \u001b[32m━━━━━━━━━━━━━━━━━━━━\u001b[0m\u001b[37m\u001b[0m \u001b[1m5s\u001b[0m 103ms/step - accuracy: 0.9731 - loss: 0.0749 - val_accuracy: 0.9050 - val_loss: 0.2315\n",
      "Epoch 6/10\n",
      "\u001b[1m50/50\u001b[0m \u001b[32m━━━━━━━━━━━━━━━━━━━━\u001b[0m\u001b[37m\u001b[0m \u001b[1m4s\u001b[0m 71ms/step - accuracy: 0.9899 - loss: 0.0499 - val_accuracy: 0.9350 - val_loss: 0.1632\n",
      "Epoch 7/10\n",
      "\u001b[1m50/50\u001b[0m \u001b[32m━━━━━━━━━━━━━━━━━━━━\u001b[0m\u001b[37m\u001b[0m \u001b[1m5s\u001b[0m 104ms/step - accuracy: 0.9786 - loss: 0.0596 - val_accuracy: 0.9800 - val_loss: 0.0772\n",
      "Epoch 8/10\n",
      "\u001b[1m50/50\u001b[0m \u001b[32m━━━━━━━━━━━━━━━━━━━━\u001b[0m\u001b[37m\u001b[0m \u001b[1m5s\u001b[0m 104ms/step - accuracy: 0.9964 - loss: 0.0162 - val_accuracy: 0.9750 - val_loss: 0.0733\n",
      "Epoch 9/10\n",
      "\u001b[1m50/50\u001b[0m \u001b[32m━━━━━━━━━━━━━━━━━━━━\u001b[0m\u001b[37m\u001b[0m \u001b[1m5s\u001b[0m 103ms/step - accuracy: 0.9945 - loss: 0.0187 - val_accuracy: 0.9350 - val_loss: 0.2008\n",
      "Epoch 10/10\n",
      "\u001b[1m50/50\u001b[0m \u001b[32m━━━━━━━━━━━━━━━━━━━━\u001b[0m\u001b[37m\u001b[0m \u001b[1m5s\u001b[0m 104ms/step - accuracy: 0.9891 - loss: 0.0275 - val_accuracy: 0.9750 - val_loss: 0.0779\n",
      "K = 7\n",
      "Accuracy  99.11 %\n",
      "Epoch 1/10\n",
      "\u001b[1m50/50\u001b[0m \u001b[32m━━━━━━━━━━━━━━━━━━━━\u001b[0m\u001b[37m\u001b[0m \u001b[1m22s\u001b[0m 211ms/step - accuracy: 0.6725 - loss: 2.7551 - val_accuracy: 0.7650 - val_loss: 0.5606\n",
      "Epoch 2/10\n",
      "\u001b[1m50/50\u001b[0m \u001b[32m━━━━━━━━━━━━━━━━━━━━\u001b[0m\u001b[37m\u001b[0m \u001b[1m5s\u001b[0m 103ms/step - accuracy: 0.8220 - loss: 0.4064 - val_accuracy: 0.7650 - val_loss: 0.5179\n",
      "Epoch 3/10\n",
      "\u001b[1m50/50\u001b[0m \u001b[32m━━━━━━━━━━━━━━━━━━━━\u001b[0m\u001b[37m\u001b[0m \u001b[1m5s\u001b[0m 103ms/step - accuracy: 0.8717 - loss: 0.2776 - val_accuracy: 0.8150 - val_loss: 0.6060\n",
      "Epoch 4/10\n",
      "\u001b[1m50/50\u001b[0m \u001b[32m━━━━━━━━━━━━━━━━━━━━\u001b[0m\u001b[37m\u001b[0m \u001b[1m4s\u001b[0m 71ms/step - accuracy: 0.9311 - loss: 0.1697 - val_accuracy: 0.8500 - val_loss: 0.4062\n",
      "Epoch 5/10\n",
      "\u001b[1m50/50\u001b[0m \u001b[32m━━━━━━━━━━━━━━━━━━━━\u001b[0m\u001b[37m\u001b[0m \u001b[1m5s\u001b[0m 103ms/step - accuracy: 0.9699 - loss: 0.0871 - val_accuracy: 0.9200 - val_loss: 0.2365\n",
      "Epoch 6/10\n",
      "\u001b[1m50/50\u001b[0m \u001b[32m━━━━━━━━━━━━━━━━━━━━\u001b[0m\u001b[37m\u001b[0m \u001b[1m5s\u001b[0m 104ms/step - accuracy: 0.9732 - loss: 0.0711 - val_accuracy: 0.9200 - val_loss: 0.1655\n",
      "Epoch 7/10\n",
      "\u001b[1m50/50\u001b[0m \u001b[32m━━━━━━━━━━━━━━━━━━━━\u001b[0m\u001b[37m\u001b[0m \u001b[1m5s\u001b[0m 104ms/step - accuracy: 0.9832 - loss: 0.0507 - val_accuracy: 0.9200 - val_loss: 0.1333\n",
      "Epoch 8/10\n",
      "\u001b[1m50/50\u001b[0m \u001b[32m━━━━━━━━━━━━━━━━━━━━\u001b[0m\u001b[37m\u001b[0m \u001b[1m5s\u001b[0m 105ms/step - accuracy: 0.9809 - loss: 0.0436 - val_accuracy: 0.8800 - val_loss: 0.2686\n",
      "Epoch 9/10\n",
      "\u001b[1m50/50\u001b[0m \u001b[32m━━━━━━━━━━━━━━━━━━━━\u001b[0m\u001b[37m\u001b[0m \u001b[1m5s\u001b[0m 104ms/step - accuracy: 0.9869 - loss: 0.0359 - val_accuracy: 0.9400 - val_loss: 0.2106\n",
      "Epoch 10/10\n",
      "\u001b[1m50/50\u001b[0m \u001b[32m━━━━━━━━━━━━━━━━━━━━\u001b[0m\u001b[37m\u001b[0m \u001b[1m4s\u001b[0m 73ms/step - accuracy: 0.9967 - loss: 0.0111 - val_accuracy: 0.9500 - val_loss: 0.1565\n",
      "K = 8\n",
      "Accuracy  99.56 %\n",
      "Epoch 1/10\n",
      "\u001b[1m50/50\u001b[0m \u001b[32m━━━━━━━━━━━━━━━━━━━━\u001b[0m\u001b[37m\u001b[0m \u001b[1m24s\u001b[0m 199ms/step - accuracy: 0.6222 - loss: 2.6544 - val_accuracy: 0.7650 - val_loss: 0.5626\n",
      "Epoch 2/10\n",
      "\u001b[1m50/50\u001b[0m \u001b[32m━━━━━━━━━━━━━━━━━━━━\u001b[0m\u001b[37m\u001b[0m \u001b[1m4s\u001b[0m 74ms/step - accuracy: 0.8087 - loss: 0.3929 - val_accuracy: 0.7650 - val_loss: 1.1250\n",
      "Epoch 3/10\n",
      "\u001b[1m50/50\u001b[0m \u001b[32m━━━━━━━━━━━━━━━━━━━━\u001b[0m\u001b[37m\u001b[0m \u001b[1m5s\u001b[0m 103ms/step - accuracy: 0.9232 - loss: 0.2073 - val_accuracy: 0.7650 - val_loss: 0.9416\n",
      "Epoch 4/10\n",
      "\u001b[1m50/50\u001b[0m \u001b[32m━━━━━━━━━━━━━━━━━━━━\u001b[0m\u001b[37m\u001b[0m \u001b[1m5s\u001b[0m 104ms/step - accuracy: 0.9588 - loss: 0.1085 - val_accuracy: 0.7700 - val_loss: 0.7909\n",
      "Epoch 5/10\n",
      "\u001b[1m50/50\u001b[0m \u001b[32m━━━━━━━━━━━━━━━━━━━━\u001b[0m\u001b[37m\u001b[0m \u001b[1m5s\u001b[0m 104ms/step - accuracy: 0.9618 - loss: 0.0999 - val_accuracy: 0.8600 - val_loss: 0.3183\n",
      "Epoch 6/10\n",
      "\u001b[1m50/50\u001b[0m \u001b[32m━━━━━━━━━━━━━━━━━━━━\u001b[0m\u001b[37m\u001b[0m \u001b[1m5s\u001b[0m 104ms/step - accuracy: 0.9783 - loss: 0.0594 - val_accuracy: 0.9000 - val_loss: 0.3033\n",
      "Epoch 7/10\n",
      "\u001b[1m50/50\u001b[0m \u001b[32m━━━━━━━━━━━━━━━━━━━━\u001b[0m\u001b[37m\u001b[0m \u001b[1m5s\u001b[0m 104ms/step - accuracy: 0.9942 - loss: 0.0213 - val_accuracy: 0.9450 - val_loss: 0.2244\n",
      "Epoch 8/10\n",
      "\u001b[1m50/50\u001b[0m \u001b[32m━━━━━━━━━━━━━━━━━━━━\u001b[0m\u001b[37m\u001b[0m \u001b[1m4s\u001b[0m 71ms/step - accuracy: 0.9866 - loss: 0.0408 - val_accuracy: 0.9350 - val_loss: 0.2354\n",
      "Epoch 9/10\n",
      "\u001b[1m50/50\u001b[0m \u001b[32m━━━━━━━━━━━━━━━━━━━━\u001b[0m\u001b[37m\u001b[0m \u001b[1m5s\u001b[0m 103ms/step - accuracy: 0.9885 - loss: 0.0348 - val_accuracy: 0.9300 - val_loss: 0.2351\n",
      "Epoch 10/10\n",
      "\u001b[1m50/50\u001b[0m \u001b[32m━━━━━━━━━━━━━━━━━━━━\u001b[0m\u001b[37m\u001b[0m \u001b[1m5s\u001b[0m 103ms/step - accuracy: 0.9908 - loss: 0.0284 - val_accuracy: 0.9400 - val_loss: 0.2161\n",
      "K = 9\n",
      "Accuracy  98.78 %\n"
     ]
    }
   ],
   "source": [
    "kf = KFold(n_splits=10, shuffle=True)\n",
    "kf_split = kf.split(dataset_x)\n",
    "acc_array = []\n",
    "\n",
    "for i, (train_index, val_index) in enumerate(kf_split):\n",
    "\n",
    "    pretrained_model = tf.keras.applications.ResNet50(\n",
    "    include_top=False,\n",
    "    weights=\"imagenet\",\n",
    "    input_shape=(227, 227, 3),\n",
    "    name=\"resnet50\",\n",
    "    )\n",
    "\n",
    "    for layer in pretrained_model.layers[:75]:\n",
    "        layer.trainable = False\n",
    "\n",
    "    \n",
    "    cnn = models.Sequential([\n",
    "    pretrained_model,\n",
    "    layers.Flatten(),\n",
    "    layers.Dense(128, activation=\"relu\"),\n",
    "    layers.Dense(64, activation=\"relu\"),\n",
    "    layers.Dense(1, activation=\"sigmoid\")\n",
    "    ])\n",
    "    \n",
    "    cnn.compile(optimizer=\"SGD\", loss=\"binary_crossentropy\",  metrics=[\"accuracy\"])\n",
    "    \n",
    "    log_dir = \"logs/fit/\" + name + \"-K\" + str(i)\n",
    "    tensorboard_callback = tf.keras.callbacks.TensorBoard(log_dir=log_dir, update_freq='batch')\n",
    "    history = cnn.fit(dataset_x[train_index], \n",
    "                      dataset_y[train_index], \n",
    "                      validation_data=(dataset_x[val_index], dataset_y[val_index]), \n",
    "                      epochs=epochs, \n",
    "                      steps_per_epoch=steps, \n",
    "                      callbacks=[tensorboard_callback])\n",
    "\n",
    "    print(\"K = \" + str(i))\n",
    "    print(\"Accuracy  {:0.2f} %\".format(history.history[\"accuracy\"][-1] * 100))\n",
    "    acc_array.append(history.history[\"accuracy\"][-1])"
   ]
  },
  {
   "cell_type": "markdown",
   "id": "82c518a9-fb8c-4305-9b5a-86c64eb23e57",
   "metadata": {},
   "source": [
    "### Find best K-group and average"
   ]
  },
  {
   "cell_type": "code",
   "execution_count": 9,
   "id": "ad31cab0-2cf6-4af2-bfa3-01e4c3af5a6c",
   "metadata": {},
   "outputs": [
    {
     "name": "stdout",
     "output_type": "stream",
     "text": [
      "Average accuracy = 99.03 %\n",
      "K group with best accuracy = 4\n",
      "Accuracy = 99.61 %\n"
     ]
    }
   ],
   "source": [
    "max_acc = max(acc_array)\n",
    "acc_array.index(max_acc)\n",
    "avg_acc = sum(acc_array) / len(acc_array)\n",
    "\n",
    "print(\"Average accuracy = {:0.2f} %\".format(avg_acc * 100))\n",
    "print(\"K group with best accuracy = \" + str(acc_array.index(max_acc)))\n",
    "print(\"Accuracy = {:0.2f} %\".format(max_acc * 100))"
   ]
  },
  {
   "cell_type": "markdown",
   "id": "aa99d76a",
   "metadata": {},
   "source": [
    "## Open Tensorboard"
   ]
  },
  {
   "cell_type": "code",
   "execution_count": 10,
   "id": "42e465e8",
   "metadata": {
    "scrolled": true
   },
   "outputs": [
    {
     "data": {
      "text/html": [
       "\n",
       "      <iframe id=\"tensorboard-frame-1d8e3c73f50af276\" width=\"100%\" height=\"800\" frameborder=\"0\">\n",
       "      </iframe>\n",
       "      <script>\n",
       "        (function() {\n",
       "          const frame = document.getElementById(\"tensorboard-frame-1d8e3c73f50af276\");\n",
       "          const url = new URL(\"/\", window.location);\n",
       "          const port = 6006;\n",
       "          if (port) {\n",
       "            url.port = port;\n",
       "          }\n",
       "          frame.src = url;\n",
       "        })();\n",
       "      </script>\n",
       "    "
      ],
      "text/plain": [
       "<IPython.core.display.HTML object>"
      ]
     },
     "metadata": {},
     "output_type": "display_data"
    }
   ],
   "source": [
    "%tensorboard --logdir=\"logs/\" --host=127.0.0.1 "
   ]
  },
  {
   "cell_type": "markdown",
   "id": "37f6525b",
   "metadata": {},
   "source": [
    "## CNN Evaluation"
   ]
  },
  {
   "cell_type": "markdown",
   "id": "3fb813a3",
   "metadata": {},
   "source": [
    "### Load final dataset"
   ]
  },
  {
   "cell_type": "code",
   "execution_count": 11,
   "id": "a3c07de4",
   "metadata": {},
   "outputs": [
    {
     "name": "stdout",
     "output_type": "stream",
     "text": [
      "Loading train_x...\n",
      "Done\n",
      "Loading train_y...\n",
      "Done\n",
      "Loading test_x...\n",
      "Done\n",
      "Loading test_y...\n",
      "Done\n"
     ]
    }
   ],
   "source": [
    "if \"FinalTrainTestSet\" not in os.listdir():\n",
    "        print(\"Unzipping final dataset...\")\n",
    "        with ZipFile(\"FinalTrainTestSet.zip\", 'r') as zObject: \n",
    "            zObject.extractall(path=\"FinalTrainTestSet\")\n",
    "        print(\"Done\")\n",
    "        \n",
    "print(\"Loading train_x...\")\n",
    "ftrain_x = np.load(\"FinalTrainTestSet/train_x.npy\")\n",
    "print(\"Done\")\n",
    "\n",
    "print(\"Loading train_y...\")\n",
    "ftrain_y = np.load(\"FinalTrainTestSet/train_y.npy\")\n",
    "print(\"Done\")\n",
    "\n",
    "print(\"Loading test_x...\")\n",
    "ftest_x = np.load(\"FinalTrainTestSet/test_x.npy\")\n",
    "print(\"Done\")\n",
    "\n",
    "print(\"Loading test_y...\")\n",
    "ftest_y = np.load(\"FinalTrainTestSet/test_y.npy\")\n",
    "print(\"Done\")"
   ]
  },
  {
   "cell_type": "markdown",
   "id": "ff2653fe",
   "metadata": {},
   "source": [
    "## Create and train model"
   ]
  },
  {
   "cell_type": "code",
   "execution_count": 13,
   "id": "1dac53ad",
   "metadata": {},
   "outputs": [
    {
     "name": "stdout",
     "output_type": "stream",
     "text": [
      "Epoch 1/10\n",
      "\u001b[1m50/50\u001b[0m \u001b[32m━━━━━━━━━━━━━━━━━━━━\u001b[0m\u001b[37m\u001b[0m \u001b[1m19s\u001b[0m 99ms/step - accuracy: 0.5932 - loss: 3.2363\n",
      "Epoch 2/10\n",
      "\u001b[1m50/50\u001b[0m \u001b[32m━━━━━━━━━━━━━━━━━━━━\u001b[0m\u001b[37m\u001b[0m \u001b[1m5s\u001b[0m 96ms/step - accuracy: 0.7928 - loss: 0.4147\n",
      "Epoch 3/10\n",
      "\u001b[1m50/50\u001b[0m \u001b[32m━━━━━━━━━━━━━━━━━━━━\u001b[0m\u001b[37m\u001b[0m \u001b[1m5s\u001b[0m 96ms/step - accuracy: 0.8731 - loss: 0.2828\n",
      "Epoch 4/10\n",
      "\u001b[1m50/50\u001b[0m \u001b[32m━━━━━━━━━━━━━━━━━━━━\u001b[0m\u001b[37m\u001b[0m \u001b[1m5s\u001b[0m 95ms/step - accuracy: 0.9219 - loss: 0.1951\n",
      "Epoch 5/10\n",
      "\u001b[1m50/50\u001b[0m \u001b[32m━━━━━━━━━━━━━━━━━━━━\u001b[0m\u001b[37m\u001b[0m \u001b[1m3s\u001b[0m 63ms/step - accuracy: 0.9469 - loss: 0.1305\n",
      "Epoch 6/10\n",
      "\u001b[1m50/50\u001b[0m \u001b[32m━━━━━━━━━━━━━━━━━━━━\u001b[0m\u001b[37m\u001b[0m \u001b[1m5s\u001b[0m 96ms/step - accuracy: 0.9640 - loss: 0.0947\n",
      "Epoch 7/10\n",
      "\u001b[1m50/50\u001b[0m \u001b[32m━━━━━━━━━━━━━━━━━━━━\u001b[0m\u001b[37m\u001b[0m \u001b[1m5s\u001b[0m 96ms/step - accuracy: 0.9649 - loss: 0.1019\n",
      "Epoch 8/10\n",
      "\u001b[1m50/50\u001b[0m \u001b[32m━━━━━━━━━━━━━━━━━━━━\u001b[0m\u001b[37m\u001b[0m \u001b[1m5s\u001b[0m 96ms/step - accuracy: 0.9800 - loss: 0.0668\n",
      "Epoch 9/10\n",
      "\u001b[1m50/50\u001b[0m \u001b[32m━━━━━━━━━━━━━━━━━━━━\u001b[0m\u001b[37m\u001b[0m \u001b[1m5s\u001b[0m 96ms/step - accuracy: 0.9750 - loss: 0.0525\n",
      "Epoch 10/10\n",
      "\u001b[1m50/50\u001b[0m \u001b[32m━━━━━━━━━━━━━━━━━━━━\u001b[0m\u001b[37m\u001b[0m \u001b[1m5s\u001b[0m 96ms/step - accuracy: 0.9898 - loss: 0.0308\n"
     ]
    },
    {
     "data": {
      "text/plain": [
       "<keras.src.callbacks.history.History at 0x7fdab945cc40>"
      ]
     },
     "execution_count": 13,
     "metadata": {},
     "output_type": "execute_result"
    }
   ],
   "source": [
    "pretrained_model = tf.keras.applications.ResNet50(\n",
    "    include_top=False,\n",
    "    weights=\"imagenet\",\n",
    "    input_shape=(227, 227, 3),\n",
    "    name=\"resnet50\",\n",
    "    )\n",
    "\n",
    "for layer in pretrained_model.layers[:75]:\n",
    "    layer.trainable = False\n",
    "\n",
    "    \n",
    "cnn = models.Sequential([\n",
    "    pretrained_model,\n",
    "    layers.Flatten(),\n",
    "    layers.Dense(128, activation=\"relu\"),\n",
    "    layers.Dense(64, activation=\"relu\"),\n",
    "    layers.Dense(1, activation=\"sigmoid\")\n",
    "])\n",
    "    \n",
    "cnn.compile(optimizer=\"SGD\", loss=\"binary_crossentropy\",  metrics=[\"accuracy\"])\n",
    "\n",
    "log_dir = \"logs/fit/\" + name + \"-Final\"\n",
    "tensorboard_callback = tf.keras.callbacks.TensorBoard(log_dir=log_dir, update_freq='epoch')\n",
    "\n",
    "cnn.fit(ftrain_x, ftrain_y, epochs=epochs, steps_per_epoch=steps, callbacks=[tensorboard_callback])\n",
    "\n",
    "#cnn.save(\"CNN/\" + name + \"/\" + name + \".keras\")"
   ]
  },
  {
   "cell_type": "markdown",
   "id": "316401fd",
   "metadata": {},
   "source": [
    "## Open Tensorboard for train time"
   ]
  },
  {
   "cell_type": "code",
   "execution_count": null,
   "id": "f9ffd8a5",
   "metadata": {},
   "outputs": [],
   "source": [
    "%tensorboard --logdir=\"logs/\" --host=127.0.0.1 "
   ]
  },
  {
   "cell_type": "markdown",
   "id": "b82a6bf1",
   "metadata": {},
   "source": [
    "## Generate prediction set"
   ]
  },
  {
   "cell_type": "code",
   "execution_count": 14,
   "id": "527bab2a",
   "metadata": {},
   "outputs": [],
   "source": [
    "pred_y = np.empty([200, 1])\n",
    "meta = np.empty([1, 227, 227, 3])\n",
    "\n",
    "for i in range(0, ftest_x.shape[0]):\n",
    "    meta[0] = ftest_x[i]\n",
    "    pred_value = cnn.predict(meta, verbose=0)[0][0]\n",
    "    \n",
    "    if pred_value > 0.5:\n",
    "        pred = 1\n",
    "    else:\n",
    "        pred = 0\n",
    "        \n",
    "    pred_y[i] = pred"
   ]
  },
  {
   "cell_type": "markdown",
   "id": "10f5ff4c",
   "metadata": {},
   "source": [
    "## Graph confusion matrix"
   ]
  },
  {
   "cell_type": "code",
   "execution_count": 15,
   "id": "5d2b22a3",
   "metadata": {},
   "outputs": [
    {
     "data": {
      "image/png": "[encoded data removed]",
      "text/plain": [
       "<Figure size 640x480 with 2 Axes>"
      ]
     },
     "metadata": {},
     "output_type": "display_data"
    }
   ],
   "source": [
    "from sklearn.metrics import confusion_matrix, ConfusionMatrixDisplay, classification_report\n",
    "\n",
    "cm = confusion_matrix(ftest_y, pred_y)\n",
    "disp = ConfusionMatrixDisplay(confusion_matrix = cm, display_labels=[\"Edible\", \"Poisonous\"])\n",
    "disp.plot(cmap=plt.cm.Blues).figure_.savefig(\"CNN/\" + name + \"/\" + name + \"_ConfustionMatrix.svg\")"
   ]
  },
  {
   "cell_type": "markdown",
   "id": "2fa1441b",
   "metadata": {},
   "source": [
    "## CNN Metrics"
   ]
  },
  {
   "cell_type": "code",
   "execution_count": 16,
   "id": "db3219e3",
   "metadata": {},
   "outputs": [
    {
     "name": "stdout",
     "output_type": "stream",
     "text": [
      "ResNet50:\n",
      "Accuracy  95.50 %\n",
      "Precision 99.36 %\n",
      "Recall    95.09 %\n",
      "F1        97.18 %\n"
     ]
    }
   ],
   "source": [
    "tp = cm[0][0]\n",
    "fp = cm[0][1]\n",
    "fn = cm[1][0]\n",
    "tn = cm[1][1]\n",
    "\n",
    "accuracy = (tp + tn) / (tp + tn + fn + fp)\n",
    "precision = tp / (tp + fp)\n",
    "recall = tp / (tp + fn)\n",
    "f1 = (precision *  recall) / (precision + recall)\n",
    "f1 *= 2\n",
    "\n",
    "print(name + \":\")\n",
    "print(\"Accuracy  {:0.2f} %\".format(accuracy * 100))\n",
    "print(\"Precision {:0.2f} %\".format(precision * 100))\n",
    "print(\"Recall    {:0.2f} %\".format(recall * 100))\n",
    "print(\"F1        {:0.2f} %\".format(f1 * 100))"
   ]
  }
 ],
 "metadata": {
  "kernelspec": {
   "display_name": "Python 3 (ipykernel)",
   "language": "python",
   "name": "python3"
  },
  "language_info": {
   "codemirror_mode": {
    "name": "ipython",
    "version": 3
   },
   "file_extension": ".py",
   "mimetype": "text/x-python",
   "name": "python",
   "nbconvert_exporter": "python",
   "pygments_lexer": "ipython3",
   "version": "3.9.21"
  }
 },
 "nbformat": 4,
 "nbformat_minor": 5
}
